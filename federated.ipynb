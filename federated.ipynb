{
 "cells": [
  {
   "cell_type": "code",
   "execution_count": 79,
   "metadata": {},
   "outputs": [],
   "source": [
    "from __future__ import absolute_import, division, print_function\n",
    "\n",
    "import collections\n",
    "import numpy as np\n",
    "from six.moves import range\n",
    "import tensorflow as tf\n",
    "import tensorflow_federated as tff\n",
    "import tempfile\n",
    "import os\n",
    "import six\n",
    "\n",
    "import json\n",
    "import pandas as pd\n",
    "import _pickle as pickle\n",
    "\n",
    "tf.enable_resource_variables()"
   ]
  },
  {
   "cell_type": "code",
   "execution_count": 21,
   "metadata": {},
   "outputs": [],
   "source": [
    "##1. read raw data\n",
    "bg1_path = 'data/20396154_entries.json'\n",
    "bg2_path = 'data/99296581_entries.json'\n",
    "df_bg1 = pd.read_json(bg1_path)\n",
    "df_bg2 = pd.read_json(bg2_path)"
   ]
  },
  {
   "cell_type": "code",
   "execution_count": 115,
   "metadata": {},
   "outputs": [],
   "source": [
    "##2. first step cleaning, remove unrelated information\n",
    "def prefed_process(df_bg, client_id, window):\n",
    "    df_bg = df_bg[['date', 'sgv']]    \n",
    "    ret = df_bg.set_index('date').sort_index()\n",
    "    in_start = 0\n",
    "    fed = []\n",
    "    for i in range(len(df_bg)):\n",
    "        in_end = in_start + window\n",
    "        if in_end < len(df_bg):\n",
    "            fed.append((client_id, df_bg['sgv'][in_start:in_end].values.tolist()))\n",
    "        in_start += 1 \n",
    "    \n",
    "    return fed"
   ]
  },
  {
   "cell_type": "code",
   "execution_count": 116,
   "metadata": {},
   "outputs": [],
   "source": [
    "fed1 = prefed_process(df_bg1,'20396154',24)\n",
    "fed2 = prefed_process(df_bg2,'99296581',24)"
   ]
  },
  {
   "cell_type": "code",
   "execution_count": 117,
   "metadata": {},
   "outputs": [
    {
     "name": "stdout",
     "output_type": "stream",
     "text": [
      "55441\n"
     ]
    }
   ],
   "source": [
    "print(len(fed2))"
   ]
  },
  {
   "cell_type": "code",
   "execution_count": 118,
   "metadata": {},
   "outputs": [],
   "source": [
    "fed = fed1+fed2"
   ]
  },
  {
   "cell_type": "code",
   "execution_count": 28,
   "metadata": {},
   "outputs": [],
   "source": [
    "def _create_example(features):\n",
    "  \"\"\"Convert a tuple of features to a tf.Example.\"\"\"\n",
    "  output_features = collections.OrderedDict()\n",
    "  for i, feature in enumerate(features):\n",
    "    if isinstance(feature, int):\n",
    "      output_features[str(i)] = tf.train.Feature(\n",
    "          int64_list=tf.train.Int64List(value=[feature]))\n",
    "    elif isinstance(feature, float):\n",
    "      output_features[str(i)] = tf.train.Feature(\n",
    "          float_list=tf.train.FloatList(value=[feature]))\n",
    "    elif isinstance(feature, list):\n",
    "      output_features[str(i)] = tf.train.Feature(\n",
    "          float_list=tf.train.FloatList(value=feature))\n",
    "    else:\n",
    "      # This is hit if the unittest is updated with unknown types, not an error\n",
    "      # in the object under test. Extend the unittest capabilities to fix.\n",
    "      raise NotImplementedError('Cannot handle feature type [%s]' %\n",
    "                                type(feature))\n",
    "  return tf.train.Example(features=tf.train.Features(\n",
    "      feature=output_features)).SerializeToString()"
   ]
  },
  {
   "cell_type": "code",
   "execution_count": 70,
   "metadata": {},
   "outputs": [],
   "source": [
    "class FakeUserData(object):\n",
    "  \"\"\"Container object that creates fake per-user data.\n",
    "  Using the fake test data, create temporary per-user TFRecord files used for\n",
    "  the test. Convert each feature-tuple to a `tf.Example` protocol buffer message\n",
    "  and serialize it to the per-user file.\n",
    "  \"\"\"\n",
    "\n",
    "  def __init__(self, test_data, temp_dir):\n",
    "    \"\"\"Construct a FakePerUseData object.\n",
    "    Args:\n",
    "      test_data: A list of tuples whose first element is the client ID and all\n",
    "        subsequent elements are training example features.\n",
    "      temp_dir: The path to the directory to store temporary per-user files.\n",
    "    Returns:\n",
    "      A dict of client IDs to string file paths to TFRecord files.\n",
    "    \"\"\"\n",
    "    writers = {}\n",
    "    client_file_dict = {}\n",
    "    for example in test_data:\n",
    "      client_id, features = example[0], example[1:]\n",
    "      writer = writers.get(client_id)\n",
    "      if writer is None:\n",
    "        fd, path = tempfile.mkstemp(suffix=client_id, dir=temp_dir)\n",
    "        # close the pre-opened file descriptor immediately to avoid leaking.\n",
    "        os.close(fd)\n",
    "        client_file_dict[client_id] = path\n",
    "        writer = tf.python_io.TFRecordWriter(path=path)\n",
    "        writers[client_id] = writer\n",
    "      writer.write(_create_example(features))\n",
    "    for writer in six.itervalues(writers):\n",
    "      writer.close()\n",
    "    self._client_data_file_dict = client_file_dict\n",
    "\n",
    "  def create_test_dataset_fn(self, client_id):\n",
    "    client_path = self._client_data_file_dict[client_id]\n",
    "    features = {\n",
    "        '0': tf.FixedLenFeature(shape=[], dtype=tf.int64),\n",
    "        '1': tf.FixedLenFeature(shape=[24], dtype=tf.float32),\n",
    "    }\n",
    "\n",
    "    def parse_example(e):\n",
    "      feature_dict = tf.parse_single_example(serialized=e, features=features)\n",
    "      return tuple(feature_dict[k] for k in sorted(six.iterkeys(feature_dict)))\n",
    "\n",
    "    return tf.data.TFRecordDataset(client_path).map(parse_example)\n",
    "\n",
    "  @property\n",
    "  def client_ids(self):\n",
    "    return list(self._client_data_file_dict.keys())\n"
   ]
  },
  {
   "cell_type": "code",
   "execution_count": 74,
   "metadata": {},
   "outputs": [],
   "source": [
    "temp_dir = tempfile.mkdtemp()"
   ]
  },
  {
   "cell_type": "code",
   "execution_count": 120,
   "metadata": {},
   "outputs": [],
   "source": [
    "fake_user_data = FakeUserData(fed, temp_dir)"
   ]
  },
  {
   "cell_type": "code",
   "execution_count": 121,
   "metadata": {},
   "outputs": [
    {
     "data": {
      "text/plain": [
       "['20396154', '99296581']"
      ]
     },
     "execution_count": 121,
     "metadata": {},
     "output_type": "execute_result"
    }
   ],
   "source": [
    "fake_user_data.client_ids"
   ]
  },
  {
   "cell_type": "code",
   "execution_count": 11,
   "metadata": {},
   "outputs": [
    {
     "data": {
      "text/plain": [
       "'Hello, World!'"
      ]
     },
     "execution_count": 11,
     "metadata": {},
     "output_type": "execute_result"
    }
   ],
   "source": [
    "@tff.federated_computation\n",
    "def hello_world():\n",
    "  return 'Hello, World!'\n",
    "\n",
    "\n",
    "hello_world()"
   ]
  },
  {
   "cell_type": "code",
   "execution_count": 12,
   "metadata": {},
   "outputs": [],
   "source": [
    "federated_float_on_clients = tff.FederatedType(tf.float32, tff.CLIENTS)"
   ]
  },
  {
   "cell_type": "code",
   "execution_count": 14,
   "metadata": {},
   "outputs": [
    {
     "data": {
      "text/plain": [
       "'CLIENTS'"
      ]
     },
     "execution_count": 14,
     "metadata": {},
     "output_type": "execute_result"
    }
   ],
   "source": [
    "str(federated_float_on_clients.placement)"
   ]
  },
  {
   "cell_type": "code",
   "execution_count": 15,
   "metadata": {},
   "outputs": [],
   "source": [
    "@tff.federated_computation(tff.FederatedType(tf.float32, tff.CLIENTS))\n",
    "def get_average_temperature(sensor_readings):\n",
    "  return tff.federated_mean(sensor_readings)"
   ]
  },
  {
   "cell_type": "code",
   "execution_count": 16,
   "metadata": {},
   "outputs": [
    {
     "data": {
      "text/plain": [
       "'({float32}@CLIENTS -> float32@SERVER)'"
      ]
     },
     "execution_count": 16,
     "metadata": {},
     "output_type": "execute_result"
    }
   ],
   "source": [
    "str(get_average_temperature.type_signature)"
   ]
  },
  {
   "cell_type": "code",
   "execution_count": 17,
   "metadata": {},
   "outputs": [
    {
     "data": {
      "text/plain": [
       "69.53333"
      ]
     },
     "execution_count": 17,
     "metadata": {},
     "output_type": "execute_result"
    }
   ],
   "source": [
    "get_average_temperature([68.5, 70.3, 69.8])"
   ]
  },
  {
   "cell_type": "code",
   "execution_count": 18,
   "metadata": {},
   "outputs": [
    {
     "name": "stdout",
     "output_type": "stream",
     "text": [
      "Getting traced, the argument is \"ValueImpl\".\n"
     ]
    }
   ],
   "source": [
    "@tff.federated_computation(tff.FederatedType(tf.float32, tff.CLIENTS))\n",
    "def get_average_temperature(sensor_readings):\n",
    "\n",
    "  print ('Getting traced, the argument is \"{}\".'.format(\n",
    "      type(sensor_readings).__name__))\n",
    "\n",
    "  return tff.federated_mean(sensor_readings)"
   ]
  },
  {
   "cell_type": "code",
   "execution_count": null,
   "metadata": {},
   "outputs": [],
   "source": []
  }
 ],
 "metadata": {
  "kernelspec": {
   "display_name": "Python 3",
   "language": "python",
   "name": "python3"
  },
  "language_info": {
   "codemirror_mode": {
    "name": "ipython",
    "version": 3
   },
   "file_extension": ".py",
   "mimetype": "text/x-python",
   "name": "python",
   "nbconvert_exporter": "python",
   "pygments_lexer": "ipython3",
   "version": "3.5.3"
  }
 },
 "nbformat": 4,
 "nbformat_minor": 2
}
