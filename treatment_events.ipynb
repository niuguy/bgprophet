{
 "cells": [
  {
   "cell_type": "code",
   "execution_count": 1,
   "metadata": {},
   "outputs": [],
   "source": [
    "%matplotlib inline\n",
    "import pandas as pd\n",
    "import json\n",
    "from pprint import pprint\n",
    "import plotly\n",
    "import plotly.plotly as py\n",
    "import plotly.graph_objs as go\n",
    "import datetime\n",
    "from plotly import tools\n",
    "plotly.tools.set_credentials_file(username='niuguy',                                              \n",
    "                                  api_key='z3NhXUhBnpf5hAc3v3yd')"
   ]
  },
  {
   "cell_type": "markdown",
   "metadata": {},
   "source": [
    "## Walk through all the data "
   ]
  },
  {
   "cell_type": "code",
   "execution_count": 2,
   "metadata": {},
   "outputs": [],
   "source": [
    "def load_json(file_name):\n",
    "    with open(file_name) as file:\n",
    "        j_object = json.load(file)        \n",
    "    return j_object, pd.DataFrame(j_object)    "
   ]
  },
  {
   "cell_type": "code",
   "execution_count": 84,
   "metadata": {},
   "outputs": [],
   "source": [
    "treat, pd_treat = load_json('data/20396154_treatments__to_2018-12-20.json')"
   ]
  },
  {
   "cell_type": "code",
   "execution_count": 21,
   "metadata": {},
   "outputs": [],
   "source": [
    "profile, pd_profile = load_json('data/20396154_profile__to_2018-12-20.json')"
   ]
  },
  {
   "cell_type": "code",
   "execution_count": 3,
   "metadata": {},
   "outputs": [],
   "source": [
    "entries, pd_entries = load_json('data/20396154_entries__to_2018-12-20.json')"
   ]
  },
  {
   "cell_type": "code",
   "execution_count": 23,
   "metadata": {},
   "outputs": [],
   "source": [
    "device, pd_device = load_json('data/20396154_devicestatus__to_2018-12-20.json')"
   ]
  },
  {
   "cell_type": "code",
   "execution_count": 92,
   "metadata": {},
   "outputs": [
    {
     "data": {
      "text/plain": [
       "{'created_at': '2018-12-19T23:50:46Z',\n",
       " 'timestamp': '2018-12-19T23:50:46Z',\n",
       " 'eventType': 'Temp Basal',\n",
       " 'enteredBy': 'Y6M9AN',\n",
       " 'carbs': None,\n",
       " 'temp': 'absolute',\n",
       " '_id': '5c1af9118e5ee1609e488bbc',\n",
       " 'duration': 30,\n",
       " 'absolute': 0,\n",
       " 'rate': 0,\n",
       " 'insulin': None}"
      ]
     },
     "execution_count": 92,
     "metadata": {},
     "output_type": "execute_result"
    }
   ],
   "source": [
    "treat[1]"
   ]
  },
  {
   "cell_type": "code",
   "execution_count": 108,
   "metadata": {},
   "outputs": [
    {
     "data": {
      "text/plain": [
       "0   2018-12-19 23:55:44+00:00\n",
       "1   2018-12-19 23:50:46+00:00\n",
       "2   2018-12-19 23:45:44+00:00\n",
       "3   2018-12-19 23:40:50+00:00\n",
       "4   2018-12-19 23:35:46+00:00\n",
       "Name: date, dtype: datetime64[ns, UTC]"
      ]
     },
     "execution_count": 108,
     "metadata": {},
     "output_type": "execute_result"
    }
   ],
   "source": [
    "pd_treat['date'] = pd.to_datetime(pd_treat['timestamp'],utc=True)\n",
    "pd_treat['date'].head()\n",
    "# mask = (pd_treat['date'] > '2018-12-17') & (pd_treat['date'] <= '2018-12-18')\n",
    "# print(pd_treat.loc[mask])"
   ]
  },
  {
   "cell_type": "code",
   "execution_count": 112,
   "metadata": {},
   "outputs": [],
   "source": [
    "mask = (pd_treat['date']> '2018-12-17') & (pd_treat['date']<='2018-12-18')\n",
    "pd_treat_1217 = pd_treat.loc[mask]"
   ]
  },
  {
   "cell_type": "code",
   "execution_count": 119,
   "metadata": {},
   "outputs": [
    {
     "data": {
      "text/html": [
       "<div>\n",
       "<style scoped>\n",
       "    .dataframe tbody tr th:only-of-type {\n",
       "        vertical-align: middle;\n",
       "    }\n",
       "\n",
       "    .dataframe tbody tr th {\n",
       "        vertical-align: top;\n",
       "    }\n",
       "\n",
       "    .dataframe thead th {\n",
       "        text-align: right;\n",
       "    }\n",
       "</style>\n",
       "<table border=\"1\" class=\"dataframe\">\n",
       "  <thead>\n",
       "    <tr style=\"text-align: right;\">\n",
       "      <th></th>\n",
       "      <th>_body</th>\n",
       "      <th>_date</th>\n",
       "      <th>_description</th>\n",
       "      <th>_head</th>\n",
       "      <th>_id</th>\n",
       "      <th>_type</th>\n",
       "      <th>absolute</th>\n",
       "      <th>absorptionTime</th>\n",
       "      <th>amount</th>\n",
       "      <th>bg</th>\n",
       "      <th>...</th>\n",
       "      <th>tail</th>\n",
       "      <th>targetBottom</th>\n",
       "      <th>targetTop</th>\n",
       "      <th>temp</th>\n",
       "      <th>timestamp</th>\n",
       "      <th>type</th>\n",
       "      <th>unabsorbed</th>\n",
       "      <th>units</th>\n",
       "      <th>wizard</th>\n",
       "      <th>date</th>\n",
       "    </tr>\n",
       "  </thead>\n",
       "  <tbody>\n",
       "    <tr>\n",
       "      <th>565</th>\n",
       "      <td>NaN</td>\n",
       "      <td>NaN</td>\n",
       "      <td>NaN</td>\n",
       "      <td>NaN</td>\n",
       "      <td>5c1838b78e5ee1609e39fe1b</td>\n",
       "      <td>NaN</td>\n",
       "      <td>NaN</td>\n",
       "      <td>NaN</td>\n",
       "      <td>NaN</td>\n",
       "      <td>NaN</td>\n",
       "      <td>...</td>\n",
       "      <td>NaN</td>\n",
       "      <td>NaN</td>\n",
       "      <td>NaN</td>\n",
       "      <td>NaN</td>\n",
       "      <td>2018-12-17 23:37:46+00:00</td>\n",
       "      <td>normal</td>\n",
       "      <td>0.0</td>\n",
       "      <td>NaN</td>\n",
       "      <td>NaN</td>\n",
       "      <td>2018-12-17 23:37:46+00:00</td>\n",
       "    </tr>\n",
       "    <tr>\n",
       "      <th>613</th>\n",
       "      <td>NaN</td>\n",
       "      <td>NaN</td>\n",
       "      <td>NaN</td>\n",
       "      <td>NaN</td>\n",
       "      <td>5c17fcf88e5ee1609e38b82c</td>\n",
       "      <td>NaN</td>\n",
       "      <td>NaN</td>\n",
       "      <td>NaN</td>\n",
       "      <td>NaN</td>\n",
       "      <td>NaN</td>\n",
       "      <td>...</td>\n",
       "      <td>NaN</td>\n",
       "      <td>NaN</td>\n",
       "      <td>NaN</td>\n",
       "      <td>NaN</td>\n",
       "      <td>2018-12-17 19:39:01+00:00</td>\n",
       "      <td>normal</td>\n",
       "      <td>0.0</td>\n",
       "      <td>NaN</td>\n",
       "      <td>NaN</td>\n",
       "      <td>2018-12-17 19:39:01+00:00</td>\n",
       "    </tr>\n",
       "    <tr>\n",
       "      <th>676</th>\n",
       "      <td>NaN</td>\n",
       "      <td>NaN</td>\n",
       "      <td>NaN</td>\n",
       "      <td>NaN</td>\n",
       "      <td>5c17b0eb8e5ee1609e371a09</td>\n",
       "      <td>NaN</td>\n",
       "      <td>NaN</td>\n",
       "      <td>NaN</td>\n",
       "      <td>NaN</td>\n",
       "      <td>NaN</td>\n",
       "      <td>...</td>\n",
       "      <td>NaN</td>\n",
       "      <td>NaN</td>\n",
       "      <td>NaN</td>\n",
       "      <td>NaN</td>\n",
       "      <td>2018-12-17 14:16:09+00:00</td>\n",
       "      <td>normal</td>\n",
       "      <td>0.0</td>\n",
       "      <td>NaN</td>\n",
       "      <td>NaN</td>\n",
       "      <td>2018-12-17 14:16:09+00:00</td>\n",
       "    </tr>\n",
       "    <tr>\n",
       "      <th>681</th>\n",
       "      <td>NaN</td>\n",
       "      <td>NaN</td>\n",
       "      <td>NaN</td>\n",
       "      <td>NaN</td>\n",
       "      <td>5c17ac1d8e5ee1609e370148</td>\n",
       "      <td>NaN</td>\n",
       "      <td>NaN</td>\n",
       "      <td>NaN</td>\n",
       "      <td>NaN</td>\n",
       "      <td>NaN</td>\n",
       "      <td>...</td>\n",
       "      <td>NaN</td>\n",
       "      <td>NaN</td>\n",
       "      <td>NaN</td>\n",
       "      <td>NaN</td>\n",
       "      <td>2018-12-17 13:57:15+00:00</td>\n",
       "      <td>normal</td>\n",
       "      <td>0.0</td>\n",
       "      <td>NaN</td>\n",
       "      <td>NaN</td>\n",
       "      <td>2018-12-17 13:57:15+00:00</td>\n",
       "    </tr>\n",
       "    <tr>\n",
       "      <th>809</th>\n",
       "      <td>NaN</td>\n",
       "      <td>NaN</td>\n",
       "      <td>NaN</td>\n",
       "      <td>NaN</td>\n",
       "      <td>5c1714e78e5ee1609e33f0ce</td>\n",
       "      <td>NaN</td>\n",
       "      <td>NaN</td>\n",
       "      <td>NaN</td>\n",
       "      <td>NaN</td>\n",
       "      <td>NaN</td>\n",
       "      <td>...</td>\n",
       "      <td>NaN</td>\n",
       "      <td>NaN</td>\n",
       "      <td>NaN</td>\n",
       "      <td>NaN</td>\n",
       "      <td>2018-12-17 03:10:46+00:00</td>\n",
       "      <td>normal</td>\n",
       "      <td>0.0</td>\n",
       "      <td>NaN</td>\n",
       "      <td>NaN</td>\n",
       "      <td>2018-12-17 03:10:46+00:00</td>\n",
       "    </tr>\n",
       "    <tr>\n",
       "      <th>818</th>\n",
       "      <td>NaN</td>\n",
       "      <td>NaN</td>\n",
       "      <td>NaN</td>\n",
       "      <td>NaN</td>\n",
       "      <td>5c170cb28e5ee1609e33c5a2</td>\n",
       "      <td>NaN</td>\n",
       "      <td>NaN</td>\n",
       "      <td>NaN</td>\n",
       "      <td>NaN</td>\n",
       "      <td>NaN</td>\n",
       "      <td>...</td>\n",
       "      <td>NaN</td>\n",
       "      <td>NaN</td>\n",
       "      <td>NaN</td>\n",
       "      <td>NaN</td>\n",
       "      <td>2018-12-17 02:34:23+00:00</td>\n",
       "      <td>normal</td>\n",
       "      <td>0.0</td>\n",
       "      <td>NaN</td>\n",
       "      <td>NaN</td>\n",
       "      <td>2018-12-17 02:34:23+00:00</td>\n",
       "    </tr>\n",
       "  </tbody>\n",
       "</table>\n",
       "<p>6 rows × 47 columns</p>\n",
       "</div>"
      ],
      "text/plain": [
       "    _body _date _description _head                       _id _type  absolute  \\\n",
       "565   NaN   NaN          NaN   NaN  5c1838b78e5ee1609e39fe1b   NaN       NaN   \n",
       "613   NaN   NaN          NaN   NaN  5c17fcf88e5ee1609e38b82c   NaN       NaN   \n",
       "676   NaN   NaN          NaN   NaN  5c17b0eb8e5ee1609e371a09   NaN       NaN   \n",
       "681   NaN   NaN          NaN   NaN  5c17ac1d8e5ee1609e370148   NaN       NaN   \n",
       "809   NaN   NaN          NaN   NaN  5c1714e78e5ee1609e33f0ce   NaN       NaN   \n",
       "818   NaN   NaN          NaN   NaN  5c170cb28e5ee1609e33c5a2   NaN       NaN   \n",
       "\n",
       "     absorptionTime  amount   bg  ... tail  targetBottom targetTop temp  \\\n",
       "565             NaN     NaN  NaN  ...  NaN           NaN       NaN  NaN   \n",
       "613             NaN     NaN  NaN  ...  NaN           NaN       NaN  NaN   \n",
       "676             NaN     NaN  NaN  ...  NaN           NaN       NaN  NaN   \n",
       "681             NaN     NaN  NaN  ...  NaN           NaN       NaN  NaN   \n",
       "809             NaN     NaN  NaN  ...  NaN           NaN       NaN  NaN   \n",
       "818             NaN     NaN  NaN  ...  NaN           NaN       NaN  NaN   \n",
       "\n",
       "                     timestamp    type unabsorbed units  wizard  \\\n",
       "565  2018-12-17 23:37:46+00:00  normal        0.0   NaN     NaN   \n",
       "613  2018-12-17 19:39:01+00:00  normal        0.0   NaN     NaN   \n",
       "676  2018-12-17 14:16:09+00:00  normal        0.0   NaN     NaN   \n",
       "681  2018-12-17 13:57:15+00:00  normal        0.0   NaN     NaN   \n",
       "809  2018-12-17 03:10:46+00:00  normal        0.0   NaN     NaN   \n",
       "818  2018-12-17 02:34:23+00:00  normal        0.0   NaN     NaN   \n",
       "\n",
       "                         date  \n",
       "565 2018-12-17 23:37:46+00:00  \n",
       "613 2018-12-17 19:39:01+00:00  \n",
       "676 2018-12-17 14:16:09+00:00  \n",
       "681 2018-12-17 13:57:15+00:00  \n",
       "809 2018-12-17 03:10:46+00:00  \n",
       "818 2018-12-17 02:34:23+00:00  \n",
       "\n",
       "[6 rows x 47 columns]"
      ]
     },
     "execution_count": 119,
     "metadata": {},
     "output_type": "execute_result"
    }
   ],
   "source": [
    "pd_treat_1217[pd_treat_1217['eventType']=='Correction Bolus']"
   ]
  },
  {
   "cell_type": "code",
   "execution_count": 126,
   "metadata": {},
   "outputs": [
    {
     "name": "stdout",
     "output_type": "stream",
     "text": [
      "High five! You successfully sent some data to your account on plotly. View your plot in your browser at https://plot.ly/~niuguy/0 or inside your plot.ly account where it is named 'plot from API'\n"
     ]
    },
    {
     "name": "stderr",
     "output_type": "stream",
     "text": [
      "/usr/local/lib/python3.7/site-packages/IPython/core/display.py:689: UserWarning:\n",
      "\n",
      "Consider using IPython.display.IFrame instead\n",
      "\n"
     ]
    },
    {
     "data": {
      "text/html": [
       "<iframe id=\"igraph\" scrolling=\"no\" style=\"border:none;\" seamless=\"seamless\" src=\"https://plot.ly/~niuguy/0.embed\" height=\"525px\" width=\"100%\"></iframe>"
      ],
      "text/plain": [
       "<plotly.tools.PlotlyDisplay object>"
      ]
     },
     "execution_count": 126,
     "metadata": {},
     "output_type": "execute_result"
    }
   ],
   "source": [
    "treat_data = go.Scatter(x=pd_treat_1217.date, y = pd_treat_1217.absolute)\n",
    "layout = go.Layout(title='Insulin Plot', xaxis=dict(title='Date'),\n",
    "                   yaxis=dict(title='(mg)'))\n",
    "fig = go.Figure(data=[treat_data], layout=layout)\n",
    "py.iplot(fig, sharing='public')"
   ]
  },
  {
   "cell_type": "code",
   "execution_count": 128,
   "metadata": {},
   "outputs": [
    {
     "data": {
      "text/plain": [
       "Temp Basal          272\n",
       "Correction Bolus      6\n",
       "Meal Bolus            6\n",
       "Suspend Pump          1\n",
       "Resume Pump           1\n",
       "Name: eventType, dtype: int64"
      ]
     },
     "execution_count": 128,
     "metadata": {},
     "output_type": "execute_result"
    }
   ],
   "source": [
    "pd_treat_1217['eventType'].value_counts()"
   ]
  },
  {
   "cell_type": "code",
   "execution_count": 94,
   "metadata": {},
   "outputs": [
    {
     "data": {
      "text/plain": [
       "Temp Basal          28076\n",
       "Correction Bolus     3183\n",
       "Temporary Target     1112\n",
       "Meal Bolus            551\n",
       "Carb Correction       197\n",
       "Site Change           133\n",
       "Insulin Change        133\n",
       "Note                  123\n",
       "Suspend Pump           51\n",
       "Resume Pump            51\n",
       "Sensor Start           38\n",
       "BG Check               28\n",
       "Sensor Change          28\n",
       "Exercise                8\n",
       "Combo Bolus             6\n",
       "                        5\n",
       "<none>                  2\n",
       "Snack Bolus             1\n",
       "Name: eventType, dtype: int64"
      ]
     },
     "execution_count": 94,
     "metadata": {},
     "output_type": "execute_result"
    }
   ],
   "source": [
    "pd_treat['eventType'].value_counts()"
   ]
  },
  {
   "cell_type": "code",
   "execution_count": 129,
   "metadata": {},
   "outputs": [],
   "source": [
    "event_dict = {'Temp Basal':1, 'Correction Bolus':2, 'Temporary Target':3, 'Meal Bolus':4,'Carb Correction':5, 'Site Change':6, 'Insulin Change':7, 'Note':8,'Suspend Pump':9, 'Resume Pump':10, 'Sensor Start':11, 'BG Check':12,'Sensor Change':13,'Exercise':14, 'Combo Bolus':15,'Snack Bolus':16}"
   ]
  },
  {
   "cell_type": "code",
   "execution_count": 131,
   "metadata": {},
   "outputs": [
    {
     "name": "stderr",
     "output_type": "stream",
     "text": [
      "/usr/local/lib/python3.7/site-packages/ipykernel_launcher.py:1: SettingWithCopyWarning:\n",
      "\n",
      "\n",
      "A value is trying to be set on a copy of a slice from a DataFrame.\n",
      "Try using .loc[row_indexer,col_indexer] = value instead\n",
      "\n",
      "See the caveats in the documentation: http://pandas.pydata.org/pandas-docs/stable/indexing.html#indexing-view-versus-copy\n",
      "\n"
     ]
    }
   ],
   "source": [
    "pd_treat_1217['eventNo'] = pd_treat_1217['eventType'].apply(lambda x:event_dict.get(x))"
   ]
  },
  {
   "cell_type": "code",
   "execution_count": 6,
   "metadata": {},
   "outputs": [
    {
     "name": "stderr",
     "output_type": "stream",
     "text": [
      "/usr/local/lib/python3.7/site-packages/ipykernel_launcher.py:2: UserWarning:\n",
      "\n",
      "Boolean Series key will be reindexed to match DataFrame index.\n",
      "\n"
     ]
    }
   ],
   "source": [
    "pd_entries['datetime'] = pd.to_datetime(pd_entries['dateString'])\n",
    "pd_entries_1217 = pd_entries[pd_entries['datetime']>'2018-12-17'][pd_entries['datetime'] < '2018-12-18']"
   ]
  },
  {
   "cell_type": "code",
   "execution_count": 143,
   "metadata": {},
   "outputs": [],
   "source": [
    "pd_temp_basal = pd_treat_1217[pd_treat_1217['eventNo']==1]"
   ]
  },
  {
   "cell_type": "code",
   "execution_count": 146,
   "metadata": {},
   "outputs": [
    {
     "name": "stdout",
     "output_type": "stream",
     "text": [
      "This is the format of your plot grid:\n",
      "[ (1,1) x1,y1 ]\n",
      "[ (2,1) x2,y2 ]\n",
      "[ (3,1) x3,y3 ]\n",
      "\n"
     ]
    },
    {
     "data": {
      "text/html": [
       "<iframe id=\"igraph\" scrolling=\"no\" style=\"border:none;\" seamless=\"seamless\" src=\"https://plot.ly/~niuguy/18.embed\" height=\"900px\" width=\"800px\"></iframe>"
      ],
      "text/plain": [
       "<plotly.tools.PlotlyDisplay object>"
      ]
     },
     "execution_count": 146,
     "metadata": {},
     "output_type": "execute_result"
    }
   ],
   "source": [
    "trace_entries = go.Scatter(x=pd_entries_1217.datetime, y = pd_entries_1217.sgv)\n",
    "trace_event = go.Scatter(x=pd_treat_1217.date, y = pd_treat_1217.eventNo, mode = 'markers')\n",
    "trace_basal = go.Scatter(x=pd_temp_basal.date, y = pd_temp_basal.absolute)\n",
    "layout = go.Layout(title='BG&Events&Temp Basal', xaxis=dict(title='Date'))\n",
    "\n",
    "fig = tools.make_subplots(rows=3, cols=1, subplot_titles=('BG','Events', 'Temp Basal'))\n",
    "fig.append_trace(trace_entries, 1, 1)\n",
    "fig.append_trace(trace_event, 2, 1)\n",
    "fig.append_trace(trace_basal, 3, 1)\n",
    "\n",
    "fig['layout'].update(height=900, width=800, title='BG&Events&Temp Basal_20396154_1217')\n",
    "\n",
    "# fig = go.Figure(data=[trace_entries, trace_event], layout=layout)\n",
    "py.iplot(fig, sharing='public')"
   ]
  },
  {
   "cell_type": "markdown",
   "metadata": {},
   "source": [
    "## Predict Result"
   ]
  },
  {
   "cell_type": "code",
   "execution_count": 4,
   "metadata": {},
   "outputs": [],
   "source": [
    "import _pickle as pickle\n",
    "results = pickle.load(open('results/predict_1552658605.6576672.pkl', 'rb'))"
   ]
  },
  {
   "cell_type": "code",
   "execution_count": 7,
   "metadata": {},
   "outputs": [],
   "source": [
    "target_entries = pd_entries[pd_entries['datetime']>'2018-12-01 01:00:00'].sort_values(by=['datetime'], ascending = True)\n",
    "# print(target_entries.sort_values(by=['datetime'], ascending = True).head())"
   ]
  },
  {
   "cell_type": "code",
   "execution_count": 8,
   "metadata": {},
   "outputs": [
    {
     "name": "stdout",
     "output_type": "stream",
     "text": [
      "5230\n",
      "2018-12-19 20:55:04+00:00\n",
      "76\n"
     ]
    }
   ],
   "source": [
    "print(len(target_entries.datetime))\n",
    "print(target_entries.datetime[0])\n",
    "print(results[0])"
   ]
  },
  {
   "cell_type": "code",
   "execution_count": 9,
   "metadata": {},
   "outputs": [
    {
     "name": "stderr",
     "output_type": "stream",
     "text": [
      "/usr/local/lib/python3.7/site-packages/IPython/core/display.py:689: UserWarning:\n",
      "\n",
      "Consider using IPython.display.IFrame instead\n",
      "\n"
     ]
    },
    {
     "data": {
      "text/html": [
       "<iframe id=\"igraph\" scrolling=\"no\" style=\"border:none;\" seamless=\"seamless\" src=\"https://plot.ly/~niuguy/20.embed\" height=\"525px\" width=\"100%\"></iframe>"
      ],
      "text/plain": [
       "<plotly.tools.PlotlyDisplay object>"
      ]
     },
     "execution_count": 9,
     "metadata": {},
     "output_type": "execute_result"
    }
   ],
   "source": [
    "trace_target_entries = go.Scatter(x=target_entries.datetime[:288], y = target_entries.sgv[:288], name = 'target')\n",
    "trace_pred_entries = go.Scatter(x=target_entries.datetime[:288], y = results[:288], name = 'predict')\n",
    "data = [trace_target_entries, trace_pred_entries]\n",
    "py.iplot(data, filename='line-mode')"
   ]
  },
  {
   "cell_type": "code",
   "execution_count": null,
   "metadata": {},
   "outputs": [],
   "source": []
  },
  {
   "cell_type": "code",
   "execution_count": null,
   "metadata": {},
   "outputs": [],
   "source": []
  }
 ],
 "metadata": {
  "kernelspec": {
   "display_name": "Python 3",
   "language": "python",
   "name": "python3"
  },
  "language_info": {
   "codemirror_mode": {
    "name": "ipython",
    "version": 3
   },
   "file_extension": ".py",
   "mimetype": "text/x-python",
   "name": "python",
   "nbconvert_exporter": "python",
   "pygments_lexer": "ipython3",
   "version": "3.7.2"
  }
 },
 "nbformat": 4,
 "nbformat_minor": 2
}
