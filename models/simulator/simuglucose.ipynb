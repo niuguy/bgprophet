{
 "cells": [
  {
   "cell_type": "code",
   "execution_count": 1,
   "metadata": {},
   "outputs": [
    {
     "name": "stdout",
     "output_type": "stream",
     "text": [
      "Show animation? (y/n) y\n",
      "Use multiple processes? (y/n) y\n",
      "Folder name to save results [default]: simglucose\n",
      "Results will be saved in /Users/wang/Work/openaps/results/simglucose\n",
      "Input simulation time (hr): 1\n",
      "Select scnenario:\n",
      "[1] Random Scnenario\n",
      "[2] Custom Scnenario\n",
      ">>>1\n",
      "Select random seed for random scenario [None]: 123\n",
      "Input simulation start time (hr): 0.5\n",
      "Simulation start time is set to 2019-05-03 00:30:00.\n",
      "Select virtual patients:\n",
      "[1] All\n",
      "[2] All Adolescents\n",
      "[3] All Adults\n",
      "[4] All Children\n",
      "[5] By ID\n",
      ">>> 4\n",
      "Select the CGM sensor:\n",
      "[1] Dexcom\n",
      "[2] GuardianRT\n",
      "[3] Navigator\n",
      ">>> 1\n",
      "Select Random Seed for Sensor Noise [None]: 2\n",
      "Select the insulin pump:\n",
      "[1] Cozmo\n",
      "[2] Insulet\n",
      ">>> 1\n",
      "Select controller:\n",
      "[1] Basal-Bolus Controller\n",
      ">>>1\n",
      "Process ID: 34592\n",
      "Simulation starts ...\n",
      "Simulation starts ...\n",
      "Process ID: 34593\n",
      "Process ID: 34594\n",
      "Simulation starts ...\n",
      "Process ID: 34595\n",
      "Simulation starts ...\n"
     ]
    },
    {
     "name": "stderr",
     "output_type": "stream",
     "text": [
      "/usr/local/lib/python3.7/site-packages/pandas/plotting/_converter.py:129: FutureWarning: Using an implicitly registered datetime converter for a matplotlib plotting method. The converter was registered by pandas on import. Future versions of pandas will require you to explicitly register matplotlib converters.\n",
      "\n",
      "To register the converters:\n",
      "\t>>> from pandas.plotting import register_matplotlib_converters\n",
      "\t>>> register_matplotlib_converters()\n",
      "  warnings.warn(msg, FutureWarning)\n",
      "/usr/local/lib/python3.7/site-packages/pandas/plotting/_converter.py:129: FutureWarning: Using an implicitly registered datetime converter for a matplotlib plotting method. The converter was registered by pandas on import. Future versions of pandas will require you to explicitly register matplotlib converters.\n",
      "\n",
      "To register the converters:\n",
      "\t>>> from pandas.plotting import register_matplotlib_converters\n",
      "\t>>> register_matplotlib_converters()\n",
      "  warnings.warn(msg, FutureWarning)\n",
      "/usr/local/lib/python3.7/site-packages/pandas/plotting/_converter.py:129: FutureWarning: Using an implicitly registered datetime converter for a matplotlib plotting method. The converter was registered by pandas on import. Future versions of pandas will require you to explicitly register matplotlib converters.\n",
      "\n",
      "To register the converters:\n",
      "\t>>> from pandas.plotting import register_matplotlib_converters\n",
      "\t>>> register_matplotlib_converters()\n",
      "  warnings.warn(msg, FutureWarning)\n",
      "/usr/local/lib/python3.7/site-packages/pandas/plotting/_converter.py:129: FutureWarning: Using an implicitly registered datetime converter for a matplotlib plotting method. The converter was registered by pandas on import. Future versions of pandas will require you to explicitly register matplotlib converters.\n",
      "\n",
      "To register the converters:\n",
      "\t>>> from pandas.plotting import register_matplotlib_converters\n",
      "\t>>> register_matplotlib_converters()\n",
      "  warnings.warn(msg, FutureWarning)\n"
     ]
    },
    {
     "name": "stdout",
     "output_type": "stream",
     "text": [
      "Simulation Completed!\n",
      "Process ID: 34592\n",
      "Simulation Completed!\n",
      "Simulation starts ...\n",
      "Simulation Completed!\n",
      "Process ID: 34593\n",
      "Simulation starts ...\n",
      "Process ID: 34594\n",
      "Simulation starts ...\n",
      "Simulation Completed!\n",
      "Process ID: 34595\n",
      "Simulation starts ...\n",
      "Simulation Completed!\n",
      "Process ID: 34594\n",
      "Simulation starts ...\n",
      "Simulation Completed!\n",
      "Process ID: 34593\n",
      "Simulation Completed!\n",
      "Simulation starts ...\n",
      "Simulation Completed!\n",
      "Simulation Completed!\n",
      "Simulation Completed!\n",
      "Simulation took 11.664988994598389 sec.\n"
     ]
    },
    {
     "name": "stderr",
     "output_type": "stream",
     "text": [
      "/usr/local/lib/python3.7/site-packages/pandas/plotting/_converter.py:129: FutureWarning: Using an implicitly registered datetime converter for a matplotlib plotting method. The converter was registered by pandas on import. Future versions of pandas will require you to explicitly register matplotlib converters.\n",
      "\n",
      "To register the converters:\n",
      "\t>>> from pandas.plotting import register_matplotlib_converters\n",
      "\t>>> register_matplotlib_converters()\n",
      "  warnings.warn(msg, FutureWarning)\n"
     ]
    },
    {
     "data": {
      "text/plain": [
       "<Figure size 640x480 with 3 Axes>"
      ]
     },
     "metadata": {},
     "output_type": "display_data"
    },
    {
     "data": {
      "text/plain": [
       "<Figure size 640x480 with 1 Axes>"
      ]
     },
     "metadata": {},
     "output_type": "display_data"
    },
    {
     "data": {
      "text/plain": [
       "<Figure size 640x480 with 1 Axes>"
      ]
     },
     "metadata": {},
     "output_type": "display_data"
    },
    {
     "data": {
      "text/plain": [
       "<Figure size 640x480 with 1 Axes>"
      ]
     },
     "metadata": {},
     "output_type": "display_data"
    },
    {
     "data": {
      "text/plain": [
       "0"
      ]
     },
     "execution_count": 1,
     "metadata": {},
     "output_type": "execute_result"
    }
   ],
   "source": [
    "from simglucose.simulation.user_interface import simulate\n",
    "simulate()"
   ]
  },
  {
   "cell_type": "code",
   "execution_count": null,
   "metadata": {},
   "outputs": [],
   "source": []
  }
 ],
 "metadata": {
  "kernelspec": {
   "display_name": "Python 3",
   "language": "python",
   "name": "python3"
  },
  "language_info": {
   "codemirror_mode": {
    "name": "ipython",
    "version": 3
   },
   "file_extension": ".py",
   "mimetype": "text/x-python",
   "name": "python",
   "nbconvert_exporter": "python",
   "pygments_lexer": "ipython3",
   "version": "3.7.2"
  }
 },
 "nbformat": 4,
 "nbformat_minor": 2
}
