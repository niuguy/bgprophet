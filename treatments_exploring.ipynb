{
 "cells": [
  {
   "cell_type": "code",
   "execution_count": 29,
   "metadata": {},
   "outputs": [],
   "source": [
    "import os\n",
    "import gzip\n",
    "import shutil\n",
    "import json\n",
    "import pandas as pd\n",
    "import _pickle as pickle\n",
    "import numpy as np\n",
    "pd.set_option('display.max_columns', 500)\n",
    "pd.set_option('display.width', 1000)\n",
    "\n",
    "%matplotlib inline"
   ]
  },
  {
   "cell_type": "code",
   "execution_count": 6,
   "metadata": {},
   "outputs": [],
   "source": [
    "def transfer_dataframe(patient_id, file_name):\n",
    "    with open(file_name) as file:\n",
    "        j_object = json.load(file)\n",
    "        df = pd.DataFrame(j_object)\n",
    "        df['datetime'] = pd.to_datetime(df['timestamp'], utc=True) \n",
    "        df['pid'] = patient_id\n",
    "        df_result = df.sort_values(by=['datetime'], ascending = True)\n",
    "    return df_result"
   ]
  },
  {
   "cell_type": "code",
   "execution_count": 7,
   "metadata": {},
   "outputs": [],
   "source": [
    "patient_id = 14092221\n",
    "df_treats = transfer_dataframe(patient_id, '/Users/wang/data/OpenAPS/14092221/direct-sharing-31/treatments.json')"
   ]
  },
  {
   "cell_type": "code",
   "execution_count": 49,
   "metadata": {},
   "outputs": [],
   "source": [
    "df_entries = transfer_dataframe(patient_id, '/Users/wang/data/OpenAPS/14092221/direct-sharing-31/entries.json')"
   ]
  },
  {
   "cell_type": "code",
   "execution_count": 51,
   "metadata": {},
   "outputs": [
    {
     "data": {
      "text/plain": [
       "73790"
      ]
     },
     "execution_count": 51,
     "metadata": {},
     "output_type": "execute_result"
    }
   ],
   "source": [
    "len(df_entries['sgv'])"
   ]
  },
  {
   "cell_type": "code",
   "execution_count": 9,
   "metadata": {},
   "outputs": [
    {
     "data": {
      "text/plain": [
       "Index(['_body', '_date', '_description', '_head', '_id', '_type', 'absolute',\n",
       "       'amount', 'appended', 'bg', 'bgcolor', 'bolus', 'carbs', 'changed',\n",
       "       'created_at', 'duration', 'endmills', 'enteredBy', 'enteredinsulin',\n",
       "       'eventType', 'fixed', 'glucose', 'glucoseType', 'insulin', 'maxBasal',\n",
       "       'medtronic', 'notes', 'percent', 'preBolus', 'profile', 'rate', 'ratio',\n",
       "       'raw_duration', 'raw_rate', 'reason', 'relative', 'splitExt',\n",
       "       'splitNow', 'square', 'stale', 'tail', 'targetBottom', 'targetTop',\n",
       "       'timestamp', 'type', 'units', 'wizard', 'datetime', 'pid'],\n",
       "      dtype='object')"
      ]
     },
     "execution_count": 9,
     "metadata": {},
     "output_type": "execute_result"
    }
   ],
   "source": [
    "df_treats.columns"
   ]
  },
  {
   "cell_type": "markdown",
   "metadata": {},
   "source": [
    "## Eventtypes"
   ]
  },
  {
   "cell_type": "code",
   "execution_count": 10,
   "metadata": {},
   "outputs": [
    {
     "data": {
      "text/plain": [
       "array(['Note', 'Temp Basal', 'Meal Bolus', 'Correction Bolus', 'BG Check',\n",
       "       'Carb Correction', '<none>', 'Temporary Target', 'Site Change',\n",
       "       'Sensor Start', 'OpenAPS Offline', 'Snack Bolus', 'Insulin Change',\n",
       "       'Sensor Change', 'D.A.D. Alert', 'Combo Bolus', 'Exercise',\n",
       "       'Question'], dtype=object)"
      ]
     },
     "execution_count": 10,
     "metadata": {},
     "output_type": "execute_result"
    }
   ],
   "source": [
    "df_treats.eventType.unique()"
   ]
  },
  {
   "cell_type": "code",
   "execution_count": null,
   "metadata": {},
   "outputs": [],
   "source": [
    "df_treats.set_index('datetime')"
   ]
  },
  {
   "cell_type": "code",
   "execution_count": 11,
   "metadata": {},
   "outputs": [
    {
     "data": {
      "text/plain": [
       "Temp Basal          9444\n",
       "Meal Bolus           815\n",
       "Carb Correction      526\n",
       "Note                 497\n",
       "BG Check             469\n",
       "Correction Bolus     291\n",
       "Snack Bolus          165\n",
       "Temporary Target     104\n",
       "Site Change           76\n",
       "<none>                41\n",
       "Sensor Start           9\n",
       "D.A.D. Alert           5\n",
       "Sensor Change          4\n",
       "Combo Bolus            4\n",
       "Insulin Change         3\n",
       "OpenAPS Offline        2\n",
       "Exercise               2\n",
       "Question               1\n",
       "Name: eventType, dtype: int64"
      ]
     },
     "execution_count": 11,
     "metadata": {},
     "output_type": "execute_result"
    }
   ],
   "source": [
    "df_treats['eventType'].value_counts()"
   ]
  },
  {
   "cell_type": "markdown",
   "metadata": {},
   "source": [
    "## Boluses"
   ]
  },
  {
   "cell_type": "raw",
   "metadata": {},
   "source": [
    "df_treats[df_treats.eventType == 'Temp Basal'].head(5)"
   ]
  },
  {
   "cell_type": "raw",
   "metadata": {},
   "source": [
    "df_treats[df_treats.eventType == 'Meal Bolus'].head(5)"
   ]
  },
  {
   "cell_type": "raw",
   "metadata": {},
   "source": [
    "df_treats[df_treats.eventType == 'Snack Bolus'].head(5)"
   ]
  },
  {
   "cell_type": "raw",
   "metadata": {},
   "source": [
    "df_treats[df_treats.eventType == 'Combo Bolus'].head(5)"
   ]
  },
  {
   "cell_type": "markdown",
   "metadata": {},
   "source": [
    "## Carb"
   ]
  },
  {
   "cell_type": "raw",
   "metadata": {},
   "source": [
    "df_treats[df_treats.eventType == 'Carb Correction'].head(5)"
   ]
  },
  {
   "cell_type": "raw",
   "metadata": {},
   "source": [
    "df_treats[df_treats.eventType == 'Carb Correction']['notes'].values[:5]"
   ]
  },
  {
   "cell_type": "markdown",
   "metadata": {},
   "source": [
    "## Others"
   ]
  },
  {
   "cell_type": "raw",
   "metadata": {},
   "source": [
    "df_treats['glucoseType'].value_counts()"
   ]
  },
  {
   "cell_type": "raw",
   "metadata": {},
   "source": [
    "df_treats[df_treats.eventType == 'Exercise']"
   ]
  },
  {
   "cell_type": "markdown",
   "metadata": {},
   "source": [
    "## Integerate into one time line"
   ]
  },
  {
   "cell_type": "code",
   "execution_count": null,
   "metadata": {},
   "outputs": [],
   "source": []
  }
 ],
 "metadata": {
  "kernelspec": {
   "display_name": "Python 3",
   "language": "python",
   "name": "python3"
  },
  "language_info": {
   "codemirror_mode": {
    "name": "ipython",
    "version": 3
   },
   "file_extension": ".py",
   "mimetype": "text/x-python",
   "name": "python",
   "nbconvert_exporter": "python",
   "pygments_lexer": "ipython3",
   "version": "3.7.2"
  }
 },
 "nbformat": 4,
 "nbformat_minor": 2
}
