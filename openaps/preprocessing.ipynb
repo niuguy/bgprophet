{
 "cells": [
  {
   "cell_type": "code",
   "execution_count": 2,
   "metadata": {},
   "outputs": [],
   "source": [
    "import sys\n",
    "import os\n",
    "import gzip\n",
    "import shutil\n",
    "import json\n",
    "import pandas as pd\n",
    "import pickle\n",
    "import numpy as np\n",
    "%matplotlib inline"
   ]
  },
  {
   "cell_type": "markdown",
   "metadata": {},
   "source": [
    "## Preprocess treatment data"
   ]
  },
  {
   "cell_type": "code",
   "execution_count": 4,
   "metadata": {},
   "outputs": [],
   "source": [
    "### Interpreting json file\n",
    "df = pickle.load(open('data/entries_20396154_2.pkl', 'rb'))"
   ]
  },
  {
   "cell_type": "code",
   "execution_count": 7,
   "metadata": {},
   "outputs": [
    {
     "data": {
      "text/plain": [
       "32418"
      ]
     },
     "execution_count": 7,
     "metadata": {},
     "output_type": "execute_result"
    }
   ],
   "source": [
    "len(df['sgv'].values)"
   ]
  },
  {
   "cell_type": "code",
   "execution_count": 12,
   "metadata": {},
   "outputs": [],
   "source": [
    "df_np = df['sgv'].values[:32400].reshape((1080,30,1))"
   ]
  },
  {
   "cell_type": "code",
   "execution_count": 25,
   "metadata": {},
   "outputs": [
    {
     "data": {
      "text/plain": [
       "array([[124],\n",
       "       [118],\n",
       "       [114],\n",
       "       [111],\n",
       "       [109],\n",
       "       [107],\n",
       "       [105],\n",
       "       [104],\n",
       "       [106],\n",
       "       [106],\n",
       "       [105],\n",
       "       [104],\n",
       "       [102],\n",
       "       [ 98],\n",
       "       [ 93],\n",
       "       [ 88],\n",
       "       [ 85],\n",
       "       [ 83],\n",
       "       [ 81],\n",
       "       [ 81],\n",
       "       [ 83],\n",
       "       [ 84],\n",
       "       [ 85],\n",
       "       [ 86],\n",
       "       [ 92],\n",
       "       [100],\n",
       "       [112],\n",
       "       [123],\n",
       "       [133],\n",
       "       [140]])"
      ]
     },
     "execution_count": 25,
     "metadata": {},
     "output_type": "execute_result"
    }
   ],
   "source": [
    "df_np[0]"
   ]
  },
  {
   "cell_type": "code",
   "execution_count": 16,
   "metadata": {},
   "outputs": [],
   "source": [
    "np.save('/home/jupyter/work/demo/tensor_train_RNN/entries.npy', df_np)"
   ]
  },
  {
   "cell_type": "code",
   "execution_count": 28,
   "metadata": {},
   "outputs": [],
   "source": [
    "data_test2 = np.load('/home/jupyter/work/demo/tensor_train_RNN/entries.npy')"
   ]
  },
  {
   "cell_type": "code",
   "execution_count": 21,
   "metadata": {},
   "outputs": [],
   "source": [
    "data_test = np.load('/home/jupyter/work/demo/tensor_train_RNN/data.npy')"
   ]
  },
  {
   "cell_type": "code",
   "execution_count": 27,
   "metadata": {},
   "outputs": [
    {
     "data": {
      "text/plain": [
       "(1000, 100, 1)"
      ]
     },
     "execution_count": 27,
     "metadata": {},
     "output_type": "execute_result"
    }
   ],
   "source": [
    "data_test.shape"
   ]
  },
  {
   "cell_type": "code",
   "execution_count": 29,
   "metadata": {},
   "outputs": [
    {
     "data": {
      "text/plain": [
       "(1080, 30, 1)"
      ]
     },
     "execution_count": 29,
     "metadata": {},
     "output_type": "execute_result"
    }
   ],
   "source": [
    "data_test2.shape"
   ]
  },
  {
   "cell_type": "code",
   "execution_count": 18,
   "metadata": {},
   "outputs": [],
   "source": [
    "np.save('/home/jupyter/work/demo/tensor_train_RNN/entries_60.npy', df['sgv'].values[:32400].reshape((540,60,1)))"
   ]
  },
  {
   "cell_type": "code",
   "execution_count": 3,
   "metadata": {},
   "outputs": [],
   "source": [
    "def transfer_dataframe(patient_id, file_name):\n",
    "    with open(file_name) as file:\n",
    "        j_object = json.load(file)\n",
    "        df = pd.DataFrame(j_object)\n",
    "        try:\n",
    "            df['datetime'] = pd.to_datetime(df['timestamp'], utc=True)\n",
    "        except:\n",
    "            print(df['timestamp'].head())\n",
    "            return None\n",
    "            \n",
    "        df['pid'] = patient_id\n",
    "        df.sort_values(by='datetime', inplace=True)\n",
    "        df_result = df[['pid', 'datetime', 'eventType', 'insulin','carbs','absolute','rate','duration']]\n",
    "\n",
    "    return df_result"
   ]
  },
  {
   "cell_type": "code",
   "execution_count": 5,
   "metadata": {},
   "outputs": [],
   "source": [
    "## these samples have less data missing problems\n",
    "samples = ['96254963', '57176789', '20396154', '00897741',\n",
    "       '66836068', '66019205', '95851255', '97417885', '20216809',\n",
    "       '47750728', '60844515', '37764532', '43589707', '14092221',\n",
    "       '96805916', '95614431', '21946407', '37948668', '25692073',\n",
    "       '99848889', '15634563', '80796147']  "
   ]
  },
  {
   "cell_type": "code",
   "execution_count": null,
   "metadata": {},
   "outputs": [],
   "source": [
    "## merge treatment files person to person\n",
    "\n",
    "count = 0\n",
    "path = '/Users/wang/data/OpenAPS'\n",
    "for folder in samples:\n",
    "    print('PID:', folder)\n",
    "    record_path = path + '/' +folder+'/direct-sharing-31'\n",
    "    if os.path.exists(record_path):\n",
    "        files = os.listdir(record_path)\n",
    "        df_folder = pd.DataFrame([], columns=['pid', 'datetime', 'eventType', 'insulin','carbs','absolute','rate','duration'])\n",
    "        for file in files:\n",
    "            if file.find('treatments') > -1 and file.endswith('.json'):\n",
    "                print('file', file)\n",
    "                df = transfer_dataframe(folder, record_path+'/'+file)\n",
    "                if df is None:\n",
    "                    continue\n",
    "                df_folder = df_folder.append(df)\n",
    "#         print('before drop', len(df_folder))\n",
    "#         df_folder.drop_duplicates('datetime',inplace = True)\n",
    "#         print('after drop', len(df_folder))\n",
    "#         print('saving result...')\n",
    "        pickle.dump(df_folder, open(path + '/treat_dfs/'+folder+'_treats.pkl', 'wb'))\n",
    "# z\n"
   ]
  },
  {
   "cell_type": "code",
   "execution_count": null,
   "metadata": {},
   "outputs": [
    {
     "name": "stdout",
     "output_type": "stream",
     "text": [
      "        pid    sgv eventType insulin carbs absolute rate duration\n",
      "0  27700103  134.0       NaN     NaN   NaN      NaN  NaN      NaN\n",
      "1  27700103  138.0       NaN     NaN   NaN      NaN  NaN      NaN\n",
      "2  27700103  148.0       NaN     NaN   NaN      NaN  NaN      NaN\n",
      "        pid    sgv   eventType  insulin  carbs  absolute rate  duration\n",
      "0  96254963  165.0  Temp Basal      NaN    NaN       0.0    0      30.0\n",
      "1  96254963  165.0  Temp Basal      NaN    NaN       0.0    0      60.0\n",
      "2  96254963  165.0  Temp Basal      NaN    NaN       0.0    0      30.0\n",
      "        pid  sgv   eventType  insulin  carbs  absolute rate  duration\n",
      "0  57176789  118  Temp Basal      NaN    NaN       0.8  0.8      30.0\n",
      "1  57176789  118  Temp Basal      NaN    NaN       1.2  1.2      30.0\n",
      "2  57176789  118  Temp Basal      NaN    NaN       1.9  1.9      30.0\n",
      "        pid  sgv   eventType  insulin  carbs  absolute  rate  duration\n",
      "0  20396154  220  Temp Basal      NaN    NaN      0.00     0       0.0\n",
      "1  20396154  220  Temp Basal      NaN    NaN      0.45  0.45      30.0\n",
      "2  20396154  220  Temp Basal      NaN    NaN      1.40   1.4      30.0\n",
      "        pid  sgv   eventType  insulin  carbs  absolute   rate  duration\n",
      "0  00897741  118  Temp Basal      NaN    NaN     0.575  0.575      30.0\n",
      "1  00897741  118  Temp Basal      NaN    NaN     0.000      0      60.0\n",
      "2  00897741  118  Temp Basal      NaN    NaN     0.000      0      60.0\n",
      "        pid    sgv   eventType  insulin  carbs  absolute   rate  duration\n",
      "0  66836068  157.0  Temp Basal      NaN    NaN     0.975  0.975      30.0\n",
      "1  66836068  157.0  Temp Basal      NaN    NaN     0.000      0      60.0\n",
      "2  66836068  157.0  Temp Basal      NaN    NaN     1.000      1      30.0\n",
      "        pid    sgv   eventType  insulin  carbs  absolute  rate  duration\n",
      "0  66019205  224.0  Temp Basal      NaN    NaN      0.55  0.55      30.0\n",
      "1  66019205  224.0  Temp Basal      NaN    NaN      0.35  0.35      30.0\n",
      "2  66019205  224.0    BG Check      NaN    NaN       NaN   NaN       NaN\n",
      "        pid    sgv         eventType  insulin  carbs  absolute rate  duration\n",
      "0  95851255  136.0  Correction Bolus      1.5    NaN       NaN  NaN       0.0\n",
      "1  95851255  136.0        Temp Basal      NaN    NaN       0.0    0      60.0\n",
      "2  95851255  136.0        Temp Basal      NaN    NaN       0.0    0      60.0\n",
      "        pid    sgv   eventType  insulin  carbs  absolute  rate  duration\n",
      "0  97417885  269.0  Temp Basal      NaN    NaN      0.85  0.85      30.0\n",
      "1  97417885  269.0  Temp Basal      NaN    NaN      0.35  0.35      30.0\n",
      "2  97417885  269.0  Meal Bolus      4.6   70.0       NaN   NaN       0.0\n",
      "        pid    sgv   eventType  insulin  carbs  absolute  rate  duration\n",
      "0  20216809  119.0  Temp Basal      NaN    NaN      1.25  1.25      30.0\n",
      "1  20216809  119.0  Temp Basal      NaN    NaN      0.75  0.75      30.0\n",
      "2  20216809  119.0        Note      NaN    NaN       NaN   NaN       NaN\n",
      "        pid  sgv         eventType  insulin  carbs  absolute  rate  duration\n",
      "0  47750728  124        Temp Basal      NaN    NaN      0.95  0.95      30.0\n",
      "1  47750728  124  Correction Bolus      0.1    NaN       NaN   NaN       0.0\n",
      "2  47750728  124        Temp Basal      NaN    NaN      0.00     0      90.0\n",
      "        pid  sgv   eventType  insulin  carbs  absolute rate  duration\n",
      "0  60844515  204  Temp Basal      NaN    NaN       0.6  0.6      30.0\n",
      "1  60844515  204  Temp Basal      NaN    NaN       0.6  0.6      30.0\n",
      "2  60844515  204  Temp Basal      NaN    NaN       0.6  0.6      30.0\n",
      "        pid  sgv   eventType  insulin  carbs  absolute  rate  duration\n",
      "0  37764532  208  Temp Basal      NaN    NaN      0.65  0.65      30.0\n",
      "1  37764532  208  Temp Basal      NaN    NaN      0.85  0.85      30.0\n",
      "2  37764532  208  Temp Basal      NaN    NaN      1.00     1      30.0\n",
      "        pid    sgv   eventType  insulin  carbs  absolute rate  duration\n",
      "0  43589707  152.0  Temp Basal      NaN    NaN       0.9  0.9      30.0\n",
      "1  43589707  152.0  Temp Basal      NaN    NaN       0.9  0.9      30.0\n",
      "2  43589707  152.0  Temp Basal      NaN    NaN       0.9  0.9      30.0\n"
     ]
    }
   ],
   "source": [
    "# Synthesize treatment with entries\n",
    "\n",
    "path_treat = '/Users/wang/data/OpenAPS/treat_dfs'\n",
    "path_entries = '/Users/wang/data/OpenAPS/entry_dfs'\n",
    "start_date = '2018-01-01'\n",
    "end_date = '2018-01-31'\n",
    "\n",
    "dfs = []\n",
    "for sample in samples:\n",
    "    #treats\n",
    "    df_t = pickle.load(open(path_treat+'/'+sample+'_treats.pkl', 'rb'))\n",
    "    df_t.set_index('datetime', inplace=True)\n",
    "    df_t = df_t.tz_convert(None)\n",
    "    df_t_2018 = df_t[start_date:end_date]\n",
    "    #bg entries\n",
    "    df_e = pickle.load(open(path_entries+'/'+sample+'_entries.pkl', 'rb'))\n",
    "    df_e.set_index('datetime', inplace=True)\n",
    "    df_e = df_e.tz_convert(None)\n",
    "    df_e_2018 = df_e[start_date:end_date]\n",
    "    \n",
    "    df_2018 = pd.merge(df_e_2018,df_t_2018, on = 'pid', how='left' )\n",
    "    df_2018.sort_index(inplace = True)\n",
    "    print(df_2018.head(3))\n",
    "    dfs.append(df_2018)\n",
    "    \n",
    "dfs_all = pd.concat(dfs)\n",
    "pickle.dump(df_folder, open('/Users/wang/data/OpenAPS/sample_entry_treats.pkl', 'wb'))\n"
   ]
  },
  {
   "cell_type": "code",
   "execution_count": 22,
   "metadata": {},
   "outputs": [
    {
     "data": {
      "text/plain": [
       "count    1.645022e+07\n",
       "mean     3.332370e+01\n",
       "std      4.195641e+01\n",
       "min      0.000000e+00\n",
       "25%      3.000000e+01\n",
       "50%      3.000000e+01\n",
       "75%      3.000000e+01\n",
       "max      7.200000e+02\n",
       "Name: duration, dtype: float64"
      ]
     },
     "execution_count": 22,
     "metadata": {},
     "output_type": "execute_result"
    }
   ],
   "source": [
    "dfs_all['duration'].describe()"
   ]
  },
  {
   "cell_type": "code",
   "execution_count": 45,
   "metadata": {},
   "outputs": [
    {
     "data": {
      "text/plain": [
       "Index(['absolute', 'carbs', 'eventType', 'glucose', 'insulin', 'notes', 'pid',\n",
       "       'rate', 'ratio'],\n",
       "      dtype='object')"
      ]
     },
     "execution_count": 45,
     "metadata": {},
     "output_type": "execute_result"
    }
   ],
   "source": [
    "treats_df.columns"
   ]
  },
  {
   "cell_type": "code",
   "execution_count": 23,
   "metadata": {},
   "outputs": [
    {
     "ename": "NameError",
     "evalue": "name 'treats_df' is not defined",
     "output_type": "error",
     "traceback": [
      "\u001b[0;31m---------------------------------------------------------------------------\u001b[0m",
      "\u001b[0;31mNameError\u001b[0m                                 Traceback (most recent call last)",
      "\u001b[0;32m<ipython-input-23-50740a39e99f>\u001b[0m in \u001b[0;36m<module>\u001b[0;34m\u001b[0m\n\u001b[0;32m----> 1\u001b[0;31m \u001b[0mtreats_df\u001b[0m\u001b[0;34m[\u001b[0m\u001b[0;34m'eventType'\u001b[0m\u001b[0;34m]\u001b[0m\u001b[0;34m.\u001b[0m\u001b[0munique\u001b[0m\u001b[0;34m(\u001b[0m\u001b[0;34m)\u001b[0m\u001b[0;34m\u001b[0m\u001b[0;34m\u001b[0m\u001b[0m\n\u001b[0m",
      "\u001b[0;31mNameError\u001b[0m: name 'treats_df' is not defined"
     ]
    }
   ],
   "source": [
    "treats_df['eventType'].unique()"
   ]
  },
  {
   "cell_type": "code",
   "execution_count": 44,
   "metadata": {},
   "outputs": [
    {
     "data": {
      "text/html": [
       "<div>\n",
       "<style scoped>\n",
       "    .dataframe tbody tr th:only-of-type {\n",
       "        vertical-align: middle;\n",
       "    }\n",
       "\n",
       "    .dataframe tbody tr th {\n",
       "        vertical-align: top;\n",
       "    }\n",
       "\n",
       "    .dataframe thead th {\n",
       "        text-align: right;\n",
       "    }\n",
       "</style>\n",
       "<table border=\"1\" class=\"dataframe\">\n",
       "  <thead>\n",
       "    <tr style=\"text-align: right;\">\n",
       "      <th></th>\n",
       "      <th>pid</th>\n",
       "      <th>sgv</th>\n",
       "    </tr>\n",
       "  </thead>\n",
       "  <tbody>\n",
       "    <tr>\n",
       "      <th>count</th>\n",
       "      <td>336123</td>\n",
       "      <td>334934.0</td>\n",
       "    </tr>\n",
       "    <tr>\n",
       "      <th>unique</th>\n",
       "      <td>41</td>\n",
       "      <td>373.0</td>\n",
       "    </tr>\n",
       "    <tr>\n",
       "      <th>top</th>\n",
       "      <td>74077367</td>\n",
       "      <td>110.0</td>\n",
       "    </tr>\n",
       "    <tr>\n",
       "      <th>freq</th>\n",
       "      <td>16951</td>\n",
       "      <td>3628.0</td>\n",
       "    </tr>\n",
       "  </tbody>\n",
       "</table>\n",
       "</div>"
      ],
      "text/plain": [
       "             pid       sgv\n",
       "count     336123  334934.0\n",
       "unique        41     373.0\n",
       "top     74077367     110.0\n",
       "freq       16951    3628.0"
      ]
     },
     "execution_count": 44,
     "metadata": {},
     "output_type": "execute_result"
    }
   ],
   "source": [
    "entries_df.describe()"
   ]
  },
  {
   "cell_type": "code",
   "execution_count": null,
   "metadata": {},
   "outputs": [],
   "source": [
    "df_2018_1 = pd.merge(treats_df, entries_df, on='pid')"
   ]
  }
 ],
 "metadata": {
  "kernelspec": {
   "display_name": "Python 2",
   "language": "python",
   "name": "python2"
  },
  "language_info": {
   "codemirror_mode": {
    "name": "ipython",
    "version": 3
   },
   "file_extension": ".py",
   "mimetype": "text/x-python",
   "name": "python",
   "nbconvert_exporter": "python",
   "pygments_lexer": "ipython3",
   "version": "3.5.3"
  }
 },
 "nbformat": 4,
 "nbformat_minor": 2
}
