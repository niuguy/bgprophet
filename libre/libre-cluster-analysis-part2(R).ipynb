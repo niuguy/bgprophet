{
 "cells": [
  {
   "cell_type": "code",
   "execution_count": null,
   "metadata": {},
   "outputs": [],
   "source": [
    "library(tidyverse)\n",
    "library(dtwclust)\n",
    "library(ggpubr)\n",
    "library(reshape2)"
   ]
  },
  {
   "cell_type": "code",
   "execution_count": null,
   "metadata": {},
   "outputs": [],
   "source": [
    "df <- tibble()\n",
    "\n",
    "file_head='cvi/partitional'\n",
    "dists<-c('dtw_basic','dtw_lb','gak','lbi','lbk','sbd','sdtw')\n",
    "for (dist in dists){ \n",
    "    file_dir = file.path(file_head, dist)\n",
    "    for (file in list.files(file_dir)){\n",
    "        cvi <- read_csv(file.path(file_dir,file))\n",
    "        names(cvi)<-c('metric_name',3,4,5,6,7)\n",
    "        cvi =gather(cvi, '3', '4', '5', '6', '7', key='cluster_num', value='metric_value')\n",
    "        title_splites <-strsplit(str_sub(file, 1, -5),'_' )[[1]]\n",
    "        window_size <- title_splites[[1]]\n",
    "        over_lap<-title_splites[[2]]\n",
    "        cvi_extend <- cvi %>% mutate(window = window_size, overlap= over_lap, dist = dist) \n",
    "        df <-bind_rows(df, cvi_extend)  \n",
    "    }\n",
    "}\n",
    "df <- df[,c(1, 2, 4, 5, 6,3)] # reordering columns"
   ]
  },
  {
   "cell_type": "code",
   "execution_count": 94,
   "metadata": {},
   "outputs": [],
   "source": [
    "write.csv(df, 'metrics_all.csv')"
   ]
  },
  {
   "cell_type": "code",
   "execution_count": 111,
   "metadata": {},
   "outputs": [
    {
     "data": {
      "text/html": [
       "<table>\n",
       "<caption>A tibble: 10 x 6</caption>\n",
       "<thead>\n",
       "\t<tr><th scope=col>metric_name</th><th scope=col>cluster_num</th><th scope=col>window</th><th scope=col>overlap</th><th scope=col>dist</th><th scope=col>metric_value</th></tr>\n",
       "\t<tr><th scope=col>&lt;chr&gt;</th><th scope=col>&lt;chr&gt;</th><th scope=col>&lt;chr&gt;</th><th scope=col>&lt;chr&gt;</th><th scope=col>&lt;chr&gt;</th><th scope=col>&lt;dbl&gt;</th></tr>\n",
       "</thead>\n",
       "<tbody>\n",
       "\t<tr><td>Sil   </td><td>3</td><td>120</td><td>0.25</td><td>dtw_basic</td><td>4.806122e-01</td></tr>\n",
       "\t<tr><td>SF    </td><td>3</td><td>120</td><td>0.25</td><td>dtw_basic</td><td>0.000000e+00</td></tr>\n",
       "\t<tr><td>CH    </td><td>3</td><td>120</td><td>0.25</td><td>dtw_basic</td><td>1.466724e+04</td></tr>\n",
       "\t<tr><td>DB    </td><td>3</td><td>120</td><td>0.25</td><td>dtw_basic</td><td>5.306217e-01</td></tr>\n",
       "\t<tr><td>DBstar</td><td>3</td><td>120</td><td>0.25</td><td>dtw_basic</td><td>5.778517e-01</td></tr>\n",
       "\t<tr><td>D     </td><td>3</td><td>120</td><td>0.25</td><td>dtw_basic</td><td>1.489758e-03</td></tr>\n",
       "\t<tr><td>COP   </td><td>3</td><td>120</td><td>0.25</td><td>dtw_basic</td><td>1.037344e-01</td></tr>\n",
       "\t<tr><td>Sil   </td><td>4</td><td>120</td><td>0.25</td><td>dtw_basic</td><td>3.869646e-01</td></tr>\n",
       "\t<tr><td>SF    </td><td>4</td><td>120</td><td>0.25</td><td>dtw_basic</td><td>0.000000e+00</td></tr>\n",
       "\t<tr><td>CH    </td><td>4</td><td>120</td><td>0.25</td><td>dtw_basic</td><td>1.160717e+04</td></tr>\n",
       "</tbody>\n",
       "</table>\n"
      ],
      "text/latex": [
       "A tibble: 10 x 6\n",
       "\\begin{tabular}{r|llllll}\n",
       " metric\\_name & cluster\\_num & window & overlap & dist & metric\\_value\\\\\n",
       " <chr> & <chr> & <chr> & <chr> & <chr> & <dbl>\\\\\n",
       "\\hline\n",
       "\t Sil    & 3 & 120 & 0.25 & dtw\\_basic & 4.806122e-01\\\\\n",
       "\t SF     & 3 & 120 & 0.25 & dtw\\_basic & 0.000000e+00\\\\\n",
       "\t CH     & 3 & 120 & 0.25 & dtw\\_basic & 1.466724e+04\\\\\n",
       "\t DB     & 3 & 120 & 0.25 & dtw\\_basic & 5.306217e-01\\\\\n",
       "\t DBstar & 3 & 120 & 0.25 & dtw\\_basic & 5.778517e-01\\\\\n",
       "\t D      & 3 & 120 & 0.25 & dtw\\_basic & 1.489758e-03\\\\\n",
       "\t COP    & 3 & 120 & 0.25 & dtw\\_basic & 1.037344e-01\\\\\n",
       "\t Sil    & 4 & 120 & 0.25 & dtw\\_basic & 3.869646e-01\\\\\n",
       "\t SF     & 4 & 120 & 0.25 & dtw\\_basic & 0.000000e+00\\\\\n",
       "\t CH     & 4 & 120 & 0.25 & dtw\\_basic & 1.160717e+04\\\\\n",
       "\\end{tabular}\n"
      ],
      "text/markdown": [
       "\n",
       "A tibble: 10 x 6\n",
       "\n",
       "| metric_name &lt;chr&gt; | cluster_num &lt;chr&gt; | window &lt;chr&gt; | overlap &lt;chr&gt; | dist &lt;chr&gt; | metric_value &lt;dbl&gt; |\n",
       "|---|---|---|---|---|---|\n",
       "| Sil    | 3 | 120 | 0.25 | dtw_basic | 4.806122e-01 |\n",
       "| SF     | 3 | 120 | 0.25 | dtw_basic | 0.000000e+00 |\n",
       "| CH     | 3 | 120 | 0.25 | dtw_basic | 1.466724e+04 |\n",
       "| DB     | 3 | 120 | 0.25 | dtw_basic | 5.306217e-01 |\n",
       "| DBstar | 3 | 120 | 0.25 | dtw_basic | 5.778517e-01 |\n",
       "| D      | 3 | 120 | 0.25 | dtw_basic | 1.489758e-03 |\n",
       "| COP    | 3 | 120 | 0.25 | dtw_basic | 1.037344e-01 |\n",
       "| Sil    | 4 | 120 | 0.25 | dtw_basic | 3.869646e-01 |\n",
       "| SF     | 4 | 120 | 0.25 | dtw_basic | 0.000000e+00 |\n",
       "| CH     | 4 | 120 | 0.25 | dtw_basic | 1.160717e+04 |\n",
       "\n"
      ],
      "text/plain": [
       "   metric_name cluster_num window overlap dist      metric_value\n",
       "1  Sil         3           120    0.25    dtw_basic 4.806122e-01\n",
       "2  SF          3           120    0.25    dtw_basic 0.000000e+00\n",
       "3  CH          3           120    0.25    dtw_basic 1.466724e+04\n",
       "4  DB          3           120    0.25    dtw_basic 5.306217e-01\n",
       "5  DBstar      3           120    0.25    dtw_basic 5.778517e-01\n",
       "6  D           3           120    0.25    dtw_basic 1.489758e-03\n",
       "7  COP         3           120    0.25    dtw_basic 1.037344e-01\n",
       "8  Sil         4           120    0.25    dtw_basic 3.869646e-01\n",
       "9  SF          4           120    0.25    dtw_basic 0.000000e+00\n",
       "10 CH          4           120    0.25    dtw_basic 1.160717e+04"
      ]
     },
     "metadata": {},
     "output_type": "display_data"
    }
   ],
   "source": [
    "df %>% head(10)"
   ]
  },
  {
   "cell_type": "code",
   "execution_count": 98,
   "metadata": {},
   "outputs": [],
   "source": [
    "ch_metric <- filter(df, metric_name=='CH')"
   ]
  },
  {
   "cell_type": "code",
   "execution_count": 117,
   "metadata": {},
   "outputs": [
    {
     "data": {
      "text/html": [
       "<table>\n",
       "<caption>A tibble: 6 x 6</caption>\n",
       "<thead>\n",
       "\t<tr><th scope=col>metric_name</th><th scope=col>cluster_num</th><th scope=col>window</th><th scope=col>overlap</th><th scope=col>dist</th><th scope=col>metric_value</th></tr>\n",
       "\t<tr><th scope=col>&lt;chr&gt;</th><th scope=col>&lt;chr&gt;</th><th scope=col>&lt;chr&gt;</th><th scope=col>&lt;chr&gt;</th><th scope=col>&lt;chr&gt;</th><th scope=col>&lt;dbl&gt;</th></tr>\n",
       "</thead>\n",
       "<tbody>\n",
       "\t<tr><td>CH</td><td>3</td><td>120</td><td>0.75</td><td>dtw_lb</td><td>77529.53</td></tr>\n",
       "\t<tr><td>CH</td><td>4</td><td>120</td><td>0.75</td><td>sdtw  </td><td>72280.07</td></tr>\n",
       "\t<tr><td>CH</td><td>3</td><td>120</td><td>0.75</td><td>sdtw  </td><td>72074.35</td></tr>\n",
       "\t<tr><td>CH</td><td>3</td><td>120</td><td>0.75</td><td>gak   </td><td>70734.80</td></tr>\n",
       "\t<tr><td>CH</td><td>4</td><td>120</td><td>0.75</td><td>gak   </td><td>69760.35</td></tr>\n",
       "\t<tr><td>CH</td><td>4</td><td>120</td><td>0.75</td><td>dtw_lb</td><td>68876.89</td></tr>\n",
       "</tbody>\n",
       "</table>\n"
      ],
      "text/latex": [
       "A tibble: 6 x 6\n",
       "\\begin{tabular}{r|llllll}\n",
       " metric\\_name & cluster\\_num & window & overlap & dist & metric\\_value\\\\\n",
       " <chr> & <chr> & <chr> & <chr> & <chr> & <dbl>\\\\\n",
       "\\hline\n",
       "\t CH & 3 & 120 & 0.75 & dtw\\_lb & 77529.53\\\\\n",
       "\t CH & 4 & 120 & 0.75 & sdtw   & 72280.07\\\\\n",
       "\t CH & 3 & 120 & 0.75 & sdtw   & 72074.35\\\\\n",
       "\t CH & 3 & 120 & 0.75 & gak    & 70734.80\\\\\n",
       "\t CH & 4 & 120 & 0.75 & gak    & 69760.35\\\\\n",
       "\t CH & 4 & 120 & 0.75 & dtw\\_lb & 68876.89\\\\\n",
       "\\end{tabular}\n"
      ],
      "text/markdown": [
       "\n",
       "A tibble: 6 x 6\n",
       "\n",
       "| metric_name &lt;chr&gt; | cluster_num &lt;chr&gt; | window &lt;chr&gt; | overlap &lt;chr&gt; | dist &lt;chr&gt; | metric_value &lt;dbl&gt; |\n",
       "|---|---|---|---|---|---|\n",
       "| CH | 3 | 120 | 0.75 | dtw_lb | 77529.53 |\n",
       "| CH | 4 | 120 | 0.75 | sdtw   | 72280.07 |\n",
       "| CH | 3 | 120 | 0.75 | sdtw   | 72074.35 |\n",
       "| CH | 3 | 120 | 0.75 | gak    | 70734.80 |\n",
       "| CH | 4 | 120 | 0.75 | gak    | 69760.35 |\n",
       "| CH | 4 | 120 | 0.75 | dtw_lb | 68876.89 |\n",
       "\n"
      ],
      "text/plain": [
       "  metric_name cluster_num window overlap dist   metric_value\n",
       "1 CH          3           120    0.75    dtw_lb 77529.53    \n",
       "2 CH          4           120    0.75    sdtw   72280.07    \n",
       "3 CH          3           120    0.75    sdtw   72074.35    \n",
       "4 CH          3           120    0.75    gak    70734.80    \n",
       "5 CH          4           120    0.75    gak    69760.35    \n",
       "6 CH          4           120    0.75    dtw_lb 68876.89    "
      ]
     },
     "metadata": {},
     "output_type": "display_data"
    }
   ],
   "source": [
    "arrange(ch_metric, desc(metric_value)) %>% head()"
   ]
  },
  {
   "cell_type": "code",
   "execution_count": 103,
   "metadata": {},
   "outputs": [],
   "source": [
    "sil_metric <- filter(df, metric_name=='Sil')"
   ]
  },
  {
   "cell_type": "code",
   "execution_count": 121,
   "metadata": {},
   "outputs": [
    {
     "data": {
      "text/html": [
       "<table>\n",
       "<caption>A tibble: 6 x 6</caption>\n",
       "<thead>\n",
       "\t<tr><th scope=col>metric_name</th><th scope=col>cluster_num</th><th scope=col>window</th><th scope=col>overlap</th><th scope=col>dist</th><th scope=col>metric_value</th></tr>\n",
       "\t<tr><th scope=col>&lt;chr&gt;</th><th scope=col>&lt;chr&gt;</th><th scope=col>&lt;chr&gt;</th><th scope=col>&lt;chr&gt;</th><th scope=col>&lt;chr&gt;</th><th scope=col>&lt;dbl&gt;</th></tr>\n",
       "</thead>\n",
       "<tbody>\n",
       "\t<tr><td>Sil</td><td>3</td><td>120</td><td>0.25</td><td>sdtw</td><td>0.6074067</td></tr>\n",
       "\t<tr><td>Sil</td><td>3</td><td>150</td><td>0   </td><td>sdtw</td><td>0.6035334</td></tr>\n",
       "\t<tr><td>Sil</td><td>3</td><td>120</td><td>0.5 </td><td>sdtw</td><td>0.5862608</td></tr>\n",
       "\t<tr><td>Sil</td><td>3</td><td>120</td><td>0   </td><td>sdtw</td><td>0.5798766</td></tr>\n",
       "\t<tr><td>Sil</td><td>3</td><td>180</td><td>0.25</td><td>sdtw</td><td>0.5765881</td></tr>\n",
       "\t<tr><td>Sil</td><td>3</td><td>120</td><td>0.75</td><td>sdtw</td><td>0.5738587</td></tr>\n",
       "</tbody>\n",
       "</table>\n"
      ],
      "text/latex": [
       "A tibble: 6 x 6\n",
       "\\begin{tabular}{r|llllll}\n",
       " metric\\_name & cluster\\_num & window & overlap & dist & metric\\_value\\\\\n",
       " <chr> & <chr> & <chr> & <chr> & <chr> & <dbl>\\\\\n",
       "\\hline\n",
       "\t Sil & 3 & 120 & 0.25 & sdtw & 0.6074067\\\\\n",
       "\t Sil & 3 & 150 & 0    & sdtw & 0.6035334\\\\\n",
       "\t Sil & 3 & 120 & 0.5  & sdtw & 0.5862608\\\\\n",
       "\t Sil & 3 & 120 & 0    & sdtw & 0.5798766\\\\\n",
       "\t Sil & 3 & 180 & 0.25 & sdtw & 0.5765881\\\\\n",
       "\t Sil & 3 & 120 & 0.75 & sdtw & 0.5738587\\\\\n",
       "\\end{tabular}\n"
      ],
      "text/markdown": [
       "\n",
       "A tibble: 6 x 6\n",
       "\n",
       "| metric_name &lt;chr&gt; | cluster_num &lt;chr&gt; | window &lt;chr&gt; | overlap &lt;chr&gt; | dist &lt;chr&gt; | metric_value &lt;dbl&gt; |\n",
       "|---|---|---|---|---|---|\n",
       "| Sil | 3 | 120 | 0.25 | sdtw | 0.6074067 |\n",
       "| Sil | 3 | 150 | 0    | sdtw | 0.6035334 |\n",
       "| Sil | 3 | 120 | 0.5  | sdtw | 0.5862608 |\n",
       "| Sil | 3 | 120 | 0    | sdtw | 0.5798766 |\n",
       "| Sil | 3 | 180 | 0.25 | sdtw | 0.5765881 |\n",
       "| Sil | 3 | 120 | 0.75 | sdtw | 0.5738587 |\n",
       "\n"
      ],
      "text/plain": [
       "  metric_name cluster_num window overlap dist metric_value\n",
       "1 Sil         3           120    0.25    sdtw 0.6074067   \n",
       "2 Sil         3           150    0       sdtw 0.6035334   \n",
       "3 Sil         3           120    0.5     sdtw 0.5862608   \n",
       "4 Sil         3           120    0       sdtw 0.5798766   \n",
       "5 Sil         3           180    0.25    sdtw 0.5765881   \n",
       "6 Sil         3           120    0.75    sdtw 0.5738587   "
      ]
     },
     "metadata": {},
     "output_type": "display_data"
    }
   ],
   "source": [
    "arrange(sil_metric, desc(metric_value)) %>% head()"
   ]
  },
  {
   "cell_type": "code",
   "execution_count": 106,
   "metadata": {},
   "outputs": [
    {
     "data": {
      "text/html": [
       "<table>\n",
       "<caption>A tibble: 6 x 6</caption>\n",
       "<thead>\n",
       "\t<tr><th scope=col>metric_name</th><th scope=col>cluster_num</th><th scope=col>window</th><th scope=col>overlap</th><th scope=col>dist</th><th scope=col>metric_value</th></tr>\n",
       "\t<tr><th scope=col>&lt;chr&gt;</th><th scope=col>&lt;chr&gt;</th><th scope=col>&lt;chr&gt;</th><th scope=col>&lt;chr&gt;</th><th scope=col>&lt;chr&gt;</th><th scope=col>&lt;dbl&gt;</th></tr>\n",
       "</thead>\n",
       "<tbody>\n",
       "\t<tr><td>SF</td><td>3</td><td>120</td><td>0.5 </td><td>sbd</td><td>0.6260334</td></tr>\n",
       "\t<tr><td>SF</td><td>3</td><td>120</td><td>0.75</td><td>sbd</td><td>0.6259911</td></tr>\n",
       "\t<tr><td>SF</td><td>3</td><td>120</td><td>0.25</td><td>sbd</td><td>0.6259534</td></tr>\n",
       "\t<tr><td>SF</td><td>3</td><td>120</td><td>0   </td><td>sbd</td><td>0.6258639</td></tr>\n",
       "\t<tr><td>SF</td><td>3</td><td>150</td><td>0.5 </td><td>sbd</td><td>0.6246746</td></tr>\n",
       "\t<tr><td>SF</td><td>3</td><td>150</td><td>0.25</td><td>sbd</td><td>0.6246447</td></tr>\n",
       "</tbody>\n",
       "</table>\n"
      ],
      "text/latex": [
       "A tibble: 6 x 6\n",
       "\\begin{tabular}{r|llllll}\n",
       " metric\\_name & cluster\\_num & window & overlap & dist & metric\\_value\\\\\n",
       " <chr> & <chr> & <chr> & <chr> & <chr> & <dbl>\\\\\n",
       "\\hline\n",
       "\t SF & 3 & 120 & 0.5  & sbd & 0.6260334\\\\\n",
       "\t SF & 3 & 120 & 0.75 & sbd & 0.6259911\\\\\n",
       "\t SF & 3 & 120 & 0.25 & sbd & 0.6259534\\\\\n",
       "\t SF & 3 & 120 & 0    & sbd & 0.6258639\\\\\n",
       "\t SF & 3 & 150 & 0.5  & sbd & 0.6246746\\\\\n",
       "\t SF & 3 & 150 & 0.25 & sbd & 0.6246447\\\\\n",
       "\\end{tabular}\n"
      ],
      "text/markdown": [
       "\n",
       "A tibble: 6 x 6\n",
       "\n",
       "| metric_name &lt;chr&gt; | cluster_num &lt;chr&gt; | window &lt;chr&gt; | overlap &lt;chr&gt; | dist &lt;chr&gt; | metric_value &lt;dbl&gt; |\n",
       "|---|---|---|---|---|---|\n",
       "| SF | 3 | 120 | 0.5  | sbd | 0.6260334 |\n",
       "| SF | 3 | 120 | 0.75 | sbd | 0.6259911 |\n",
       "| SF | 3 | 120 | 0.25 | sbd | 0.6259534 |\n",
       "| SF | 3 | 120 | 0    | sbd | 0.6258639 |\n",
       "| SF | 3 | 150 | 0.5  | sbd | 0.6246746 |\n",
       "| SF | 3 | 150 | 0.25 | sbd | 0.6246447 |\n",
       "\n"
      ],
      "text/plain": [
       "  metric_name cluster_num window overlap dist metric_value\n",
       "1 SF          3           120    0.5     sbd  0.6260334   \n",
       "2 SF          3           120    0.75    sbd  0.6259911   \n",
       "3 SF          3           120    0.25    sbd  0.6259534   \n",
       "4 SF          3           120    0       sbd  0.6258639   \n",
       "5 SF          3           150    0.5     sbd  0.6246746   \n",
       "6 SF          3           150    0.25    sbd  0.6246447   "
      ]
     },
     "metadata": {},
     "output_type": "display_data"
    }
   ],
   "source": [
    "SF_metric <- filter(df, metric_name=='SF')\n",
    "arrange(SF_metric, desc(metric_value)) %>% head()"
   ]
  },
  {
   "cell_type": "code",
   "execution_count": 123,
   "metadata": {},
   "outputs": [
    {
     "data": {
      "text/html": [
       "<table>\n",
       "<caption>A tibble: 6 x 6</caption>\n",
       "<thead>\n",
       "\t<tr><th scope=col>metric_name</th><th scope=col>cluster_num</th><th scope=col>window</th><th scope=col>overlap</th><th scope=col>dist</th><th scope=col>metric_value</th></tr>\n",
       "\t<tr><th scope=col>&lt;chr&gt;</th><th scope=col>&lt;chr&gt;</th><th scope=col>&lt;chr&gt;</th><th scope=col>&lt;chr&gt;</th><th scope=col>&lt;chr&gt;</th><th scope=col>&lt;dbl&gt;</th></tr>\n",
       "</thead>\n",
       "<tbody>\n",
       "\t<tr><td>D</td><td>6</td><td>180</td><td>0.25</td><td>dtw_basic</td><td>0.003716216</td></tr>\n",
       "\t<tr><td>D</td><td>4</td><td>150</td><td>0.25</td><td>dtw_basic</td><td>0.003040541</td></tr>\n",
       "\t<tr><td>D</td><td>4</td><td>180</td><td>0.25</td><td>dtw_basic</td><td>0.002861230</td></tr>\n",
       "\t<tr><td>D</td><td>4</td><td>180</td><td>0   </td><td>dtw_basic</td><td>0.002750688</td></tr>\n",
       "\t<tr><td>D</td><td>7</td><td>150</td><td>0.25</td><td>dtw_basic</td><td>0.002699055</td></tr>\n",
       "\t<tr><td>D</td><td>3</td><td>150</td><td>0   </td><td>dtw_basic</td><td>0.002559181</td></tr>\n",
       "</tbody>\n",
       "</table>\n"
      ],
      "text/latex": [
       "A tibble: 6 x 6\n",
       "\\begin{tabular}{r|llllll}\n",
       " metric\\_name & cluster\\_num & window & overlap & dist & metric\\_value\\\\\n",
       " <chr> & <chr> & <chr> & <chr> & <chr> & <dbl>\\\\\n",
       "\\hline\n",
       "\t D & 6 & 180 & 0.25 & dtw\\_basic & 0.003716216\\\\\n",
       "\t D & 4 & 150 & 0.25 & dtw\\_basic & 0.003040541\\\\\n",
       "\t D & 4 & 180 & 0.25 & dtw\\_basic & 0.002861230\\\\\n",
       "\t D & 4 & 180 & 0    & dtw\\_basic & 0.002750688\\\\\n",
       "\t D & 7 & 150 & 0.25 & dtw\\_basic & 0.002699055\\\\\n",
       "\t D & 3 & 150 & 0    & dtw\\_basic & 0.002559181\\\\\n",
       "\\end{tabular}\n"
      ],
      "text/markdown": [
       "\n",
       "A tibble: 6 x 6\n",
       "\n",
       "| metric_name &lt;chr&gt; | cluster_num &lt;chr&gt; | window &lt;chr&gt; | overlap &lt;chr&gt; | dist &lt;chr&gt; | metric_value &lt;dbl&gt; |\n",
       "|---|---|---|---|---|---|\n",
       "| D | 6 | 180 | 0.25 | dtw_basic | 0.003716216 |\n",
       "| D | 4 | 150 | 0.25 | dtw_basic | 0.003040541 |\n",
       "| D | 4 | 180 | 0.25 | dtw_basic | 0.002861230 |\n",
       "| D | 4 | 180 | 0    | dtw_basic | 0.002750688 |\n",
       "| D | 7 | 150 | 0.25 | dtw_basic | 0.002699055 |\n",
       "| D | 3 | 150 | 0    | dtw_basic | 0.002559181 |\n",
       "\n"
      ],
      "text/plain": [
       "  metric_name cluster_num window overlap dist      metric_value\n",
       "1 D           6           180    0.25    dtw_basic 0.003716216 \n",
       "2 D           4           150    0.25    dtw_basic 0.003040541 \n",
       "3 D           4           180    0.25    dtw_basic 0.002861230 \n",
       "4 D           4           180    0       dtw_basic 0.002750688 \n",
       "5 D           7           150    0.25    dtw_basic 0.002699055 \n",
       "6 D           3           150    0       dtw_basic 0.002559181 "
      ]
     },
     "metadata": {},
     "output_type": "display_data"
    }
   ],
   "source": [
    "D_metric <- filter(df, metric_name=='D')\n",
    "arrange(D_metric, desc(metric_value)) %>% head()"
   ]
  },
  {
   "cell_type": "code",
   "execution_count": 109,
   "metadata": {},
   "outputs": [
    {
     "data": {
      "text/html": [
       "<table>\n",
       "<caption>A tibble: 6 x 6</caption>\n",
       "<thead>\n",
       "\t<tr><th scope=col>metric_name</th><th scope=col>cluster_num</th><th scope=col>window</th><th scope=col>overlap</th><th scope=col>dist</th><th scope=col>metric_value</th></tr>\n",
       "\t<tr><th scope=col>&lt;chr&gt;</th><th scope=col>&lt;chr&gt;</th><th scope=col>&lt;chr&gt;</th><th scope=col>&lt;chr&gt;</th><th scope=col>&lt;chr&gt;</th><th scope=col>&lt;dbl&gt;</th></tr>\n",
       "</thead>\n",
       "<tbody>\n",
       "\t<tr><td>DB</td><td>3</td><td>150</td><td>0.75</td><td>sdtw</td><td>0.3014298</td></tr>\n",
       "\t<tr><td>DB</td><td>3</td><td>120</td><td>0   </td><td>sdtw</td><td>0.3106934</td></tr>\n",
       "\t<tr><td>DB</td><td>3</td><td>150</td><td>0   </td><td>sdtw</td><td>0.3124214</td></tr>\n",
       "\t<tr><td>DB</td><td>3</td><td>120</td><td>0.25</td><td>gak </td><td>0.3147044</td></tr>\n",
       "\t<tr><td>DB</td><td>3</td><td>120</td><td>0.5 </td><td>sdtw</td><td>0.3326553</td></tr>\n",
       "\t<tr><td>DB</td><td>3</td><td>180</td><td>0.75</td><td>sdtw</td><td>0.3351885</td></tr>\n",
       "</tbody>\n",
       "</table>\n"
      ],
      "text/latex": [
       "A tibble: 6 x 6\n",
       "\\begin{tabular}{r|llllll}\n",
       " metric\\_name & cluster\\_num & window & overlap & dist & metric\\_value\\\\\n",
       " <chr> & <chr> & <chr> & <chr> & <chr> & <dbl>\\\\\n",
       "\\hline\n",
       "\t DB & 3 & 150 & 0.75 & sdtw & 0.3014298\\\\\n",
       "\t DB & 3 & 120 & 0    & sdtw & 0.3106934\\\\\n",
       "\t DB & 3 & 150 & 0    & sdtw & 0.3124214\\\\\n",
       "\t DB & 3 & 120 & 0.25 & gak  & 0.3147044\\\\\n",
       "\t DB & 3 & 120 & 0.5  & sdtw & 0.3326553\\\\\n",
       "\t DB & 3 & 180 & 0.75 & sdtw & 0.3351885\\\\\n",
       "\\end{tabular}\n"
      ],
      "text/markdown": [
       "\n",
       "A tibble: 6 x 6\n",
       "\n",
       "| metric_name &lt;chr&gt; | cluster_num &lt;chr&gt; | window &lt;chr&gt; | overlap &lt;chr&gt; | dist &lt;chr&gt; | metric_value &lt;dbl&gt; |\n",
       "|---|---|---|---|---|---|\n",
       "| DB | 3 | 150 | 0.75 | sdtw | 0.3014298 |\n",
       "| DB | 3 | 120 | 0    | sdtw | 0.3106934 |\n",
       "| DB | 3 | 150 | 0    | sdtw | 0.3124214 |\n",
       "| DB | 3 | 120 | 0.25 | gak  | 0.3147044 |\n",
       "| DB | 3 | 120 | 0.5  | sdtw | 0.3326553 |\n",
       "| DB | 3 | 180 | 0.75 | sdtw | 0.3351885 |\n",
       "\n"
      ],
      "text/plain": [
       "  metric_name cluster_num window overlap dist metric_value\n",
       "1 DB          3           150    0.75    sdtw 0.3014298   \n",
       "2 DB          3           120    0       sdtw 0.3106934   \n",
       "3 DB          3           150    0       sdtw 0.3124214   \n",
       "4 DB          3           120    0.25    gak  0.3147044   \n",
       "5 DB          3           120    0.5     sdtw 0.3326553   \n",
       "6 DB          3           180    0.75    sdtw 0.3351885   "
      ]
     },
     "metadata": {},
     "output_type": "display_data"
    }
   ],
   "source": [
    "DB_metric <- filter(df, metric_name=='DB')\n",
    "arrange(DB_metric, metric_value) %>% head()"
   ]
  },
  {
   "cell_type": "code",
   "execution_count": 114,
   "metadata": {},
   "outputs": [
    {
     "data": {
      "text/html": [
       "<table>\n",
       "<caption>A tibble: 10 x 6</caption>\n",
       "<thead>\n",
       "\t<tr><th scope=col>metric_name</th><th scope=col>cluster_num</th><th scope=col>window</th><th scope=col>overlap</th><th scope=col>dist</th><th scope=col>metric_value</th></tr>\n",
       "\t<tr><th scope=col>&lt;chr&gt;</th><th scope=col>&lt;chr&gt;</th><th scope=col>&lt;chr&gt;</th><th scope=col>&lt;chr&gt;</th><th scope=col>&lt;chr&gt;</th><th scope=col>&lt;dbl&gt;</th></tr>\n",
       "</thead>\n",
       "<tbody>\n",
       "\t<tr><td>DBstar</td><td>3</td><td>150</td><td>0   </td><td>sdtw</td><td>0.3382433</td></tr>\n",
       "\t<tr><td>DBstar</td><td>3</td><td>120</td><td>0.25</td><td>sdtw</td><td>0.4076283</td></tr>\n",
       "\t<tr><td>DBstar</td><td>3</td><td>120</td><td>0.25</td><td>gak </td><td>0.4112436</td></tr>\n",
       "\t<tr><td>DBstar</td><td>3</td><td>120</td><td>0   </td><td>sdtw</td><td>0.4200597</td></tr>\n",
       "\t<tr><td>DBstar</td><td>3</td><td>180</td><td>0.25</td><td>sdtw</td><td>0.4429913</td></tr>\n",
       "\t<tr><td>DBstar</td><td>3</td><td>120</td><td>0.75</td><td>sdtw</td><td>0.4695838</td></tr>\n",
       "\t<tr><td>DBstar</td><td>3</td><td>150</td><td>0.75</td><td>sdtw</td><td>0.4823678</td></tr>\n",
       "\t<tr><td>DBstar</td><td>3</td><td>120</td><td>0.5 </td><td>sdtw</td><td>0.5121639</td></tr>\n",
       "\t<tr><td>DBstar</td><td>4</td><td>180</td><td>0.25</td><td>sdtw</td><td>0.5293808</td></tr>\n",
       "\t<tr><td>DBstar</td><td>3</td><td>150</td><td>0   </td><td>gak </td><td>0.5304136</td></tr>\n",
       "</tbody>\n",
       "</table>\n"
      ],
      "text/latex": [
       "A tibble: 10 x 6\n",
       "\\begin{tabular}{r|llllll}\n",
       " metric\\_name & cluster\\_num & window & overlap & dist & metric\\_value\\\\\n",
       " <chr> & <chr> & <chr> & <chr> & <chr> & <dbl>\\\\\n",
       "\\hline\n",
       "\t DBstar & 3 & 150 & 0    & sdtw & 0.3382433\\\\\n",
       "\t DBstar & 3 & 120 & 0.25 & sdtw & 0.4076283\\\\\n",
       "\t DBstar & 3 & 120 & 0.25 & gak  & 0.4112436\\\\\n",
       "\t DBstar & 3 & 120 & 0    & sdtw & 0.4200597\\\\\n",
       "\t DBstar & 3 & 180 & 0.25 & sdtw & 0.4429913\\\\\n",
       "\t DBstar & 3 & 120 & 0.75 & sdtw & 0.4695838\\\\\n",
       "\t DBstar & 3 & 150 & 0.75 & sdtw & 0.4823678\\\\\n",
       "\t DBstar & 3 & 120 & 0.5  & sdtw & 0.5121639\\\\\n",
       "\t DBstar & 4 & 180 & 0.25 & sdtw & 0.5293808\\\\\n",
       "\t DBstar & 3 & 150 & 0    & gak  & 0.5304136\\\\\n",
       "\\end{tabular}\n"
      ],
      "text/markdown": [
       "\n",
       "A tibble: 10 x 6\n",
       "\n",
       "| metric_name &lt;chr&gt; | cluster_num &lt;chr&gt; | window &lt;chr&gt; | overlap &lt;chr&gt; | dist &lt;chr&gt; | metric_value &lt;dbl&gt; |\n",
       "|---|---|---|---|---|---|\n",
       "| DBstar | 3 | 150 | 0    | sdtw | 0.3382433 |\n",
       "| DBstar | 3 | 120 | 0.25 | sdtw | 0.4076283 |\n",
       "| DBstar | 3 | 120 | 0.25 | gak  | 0.4112436 |\n",
       "| DBstar | 3 | 120 | 0    | sdtw | 0.4200597 |\n",
       "| DBstar | 3 | 180 | 0.25 | sdtw | 0.4429913 |\n",
       "| DBstar | 3 | 120 | 0.75 | sdtw | 0.4695838 |\n",
       "| DBstar | 3 | 150 | 0.75 | sdtw | 0.4823678 |\n",
       "| DBstar | 3 | 120 | 0.5  | sdtw | 0.5121639 |\n",
       "| DBstar | 4 | 180 | 0.25 | sdtw | 0.5293808 |\n",
       "| DBstar | 3 | 150 | 0    | gak  | 0.5304136 |\n",
       "\n"
      ],
      "text/plain": [
       "   metric_name cluster_num window overlap dist metric_value\n",
       "1  DBstar      3           150    0       sdtw 0.3382433   \n",
       "2  DBstar      3           120    0.25    sdtw 0.4076283   \n",
       "3  DBstar      3           120    0.25    gak  0.4112436   \n",
       "4  DBstar      3           120    0       sdtw 0.4200597   \n",
       "5  DBstar      3           180    0.25    sdtw 0.4429913   \n",
       "6  DBstar      3           120    0.75    sdtw 0.4695838   \n",
       "7  DBstar      3           150    0.75    sdtw 0.4823678   \n",
       "8  DBstar      3           120    0.5     sdtw 0.5121639   \n",
       "9  DBstar      4           180    0.25    sdtw 0.5293808   \n",
       "10 DBstar      3           150    0       gak  0.5304136   "
      ]
     },
     "metadata": {},
     "output_type": "display_data"
    }
   ],
   "source": [
    "DBstar_metric <- filter(df, metric_name=='DBstar')\n",
    "arrange(DBstar_metric, metric_value) %>% head(10)"
   ]
  },
  {
   "cell_type": "code",
   "execution_count": 113,
   "metadata": {},
   "outputs": [
    {
     "data": {
      "text/html": [
       "<table>\n",
       "<caption>A tibble: 10 x 6</caption>\n",
       "<thead>\n",
       "\t<tr><th scope=col>metric_name</th><th scope=col>cluster_num</th><th scope=col>window</th><th scope=col>overlap</th><th scope=col>dist</th><th scope=col>metric_value</th></tr>\n",
       "\t<tr><th scope=col>&lt;chr&gt;</th><th scope=col>&lt;chr&gt;</th><th scope=col>&lt;chr&gt;</th><th scope=col>&lt;chr&gt;</th><th scope=col>&lt;chr&gt;</th><th scope=col>&lt;dbl&gt;</th></tr>\n",
       "</thead>\n",
       "<tbody>\n",
       "\t<tr><td>COP</td><td>7</td><td>120</td><td>0   </td><td>sdtw</td><td>0.007406354</td></tr>\n",
       "\t<tr><td>COP</td><td>7</td><td>120</td><td>0.5 </td><td>sdtw</td><td>0.007492196</td></tr>\n",
       "\t<tr><td>COP</td><td>7</td><td>150</td><td>0.75</td><td>sdtw</td><td>0.007518894</td></tr>\n",
       "\t<tr><td>COP</td><td>7</td><td>150</td><td>0   </td><td>sdtw</td><td>0.007783263</td></tr>\n",
       "\t<tr><td>COP</td><td>7</td><td>120</td><td>0.75</td><td>sdtw</td><td>0.007892061</td></tr>\n",
       "\t<tr><td>COP</td><td>7</td><td>150</td><td>0.25</td><td>sdtw</td><td>0.008186972</td></tr>\n",
       "\t<tr><td>COP</td><td>6</td><td>120</td><td>0.25</td><td>sdtw</td><td>0.008501835</td></tr>\n",
       "\t<tr><td>COP</td><td>7</td><td>180</td><td>0   </td><td>sdtw</td><td>0.008615471</td></tr>\n",
       "\t<tr><td>COP</td><td>7</td><td>150</td><td>0.5 </td><td>sdtw</td><td>0.008731074</td></tr>\n",
       "\t<tr><td>COP</td><td>6</td><td>120</td><td>0.75</td><td>sdtw</td><td>0.008788719</td></tr>\n",
       "</tbody>\n",
       "</table>\n"
      ],
      "text/latex": [
       "A tibble: 10 x 6\n",
       "\\begin{tabular}{r|llllll}\n",
       " metric\\_name & cluster\\_num & window & overlap & dist & metric\\_value\\\\\n",
       " <chr> & <chr> & <chr> & <chr> & <chr> & <dbl>\\\\\n",
       "\\hline\n",
       "\t COP & 7 & 120 & 0    & sdtw & 0.007406354\\\\\n",
       "\t COP & 7 & 120 & 0.5  & sdtw & 0.007492196\\\\\n",
       "\t COP & 7 & 150 & 0.75 & sdtw & 0.007518894\\\\\n",
       "\t COP & 7 & 150 & 0    & sdtw & 0.007783263\\\\\n",
       "\t COP & 7 & 120 & 0.75 & sdtw & 0.007892061\\\\\n",
       "\t COP & 7 & 150 & 0.25 & sdtw & 0.008186972\\\\\n",
       "\t COP & 6 & 120 & 0.25 & sdtw & 0.008501835\\\\\n",
       "\t COP & 7 & 180 & 0    & sdtw & 0.008615471\\\\\n",
       "\t COP & 7 & 150 & 0.5  & sdtw & 0.008731074\\\\\n",
       "\t COP & 6 & 120 & 0.75 & sdtw & 0.008788719\\\\\n",
       "\\end{tabular}\n"
      ],
      "text/markdown": [
       "\n",
       "A tibble: 10 x 6\n",
       "\n",
       "| metric_name &lt;chr&gt; | cluster_num &lt;chr&gt; | window &lt;chr&gt; | overlap &lt;chr&gt; | dist &lt;chr&gt; | metric_value &lt;dbl&gt; |\n",
       "|---|---|---|---|---|---|\n",
       "| COP | 7 | 120 | 0    | sdtw | 0.007406354 |\n",
       "| COP | 7 | 120 | 0.5  | sdtw | 0.007492196 |\n",
       "| COP | 7 | 150 | 0.75 | sdtw | 0.007518894 |\n",
       "| COP | 7 | 150 | 0    | sdtw | 0.007783263 |\n",
       "| COP | 7 | 120 | 0.75 | sdtw | 0.007892061 |\n",
       "| COP | 7 | 150 | 0.25 | sdtw | 0.008186972 |\n",
       "| COP | 6 | 120 | 0.25 | sdtw | 0.008501835 |\n",
       "| COP | 7 | 180 | 0    | sdtw | 0.008615471 |\n",
       "| COP | 7 | 150 | 0.5  | sdtw | 0.008731074 |\n",
       "| COP | 6 | 120 | 0.75 | sdtw | 0.008788719 |\n",
       "\n"
      ],
      "text/plain": [
       "   metric_name cluster_num window overlap dist metric_value\n",
       "1  COP         7           120    0       sdtw 0.007406354 \n",
       "2  COP         7           120    0.5     sdtw 0.007492196 \n",
       "3  COP         7           150    0.75    sdtw 0.007518894 \n",
       "4  COP         7           150    0       sdtw 0.007783263 \n",
       "5  COP         7           120    0.75    sdtw 0.007892061 \n",
       "6  COP         7           150    0.25    sdtw 0.008186972 \n",
       "7  COP         6           120    0.25    sdtw 0.008501835 \n",
       "8  COP         7           180    0       sdtw 0.008615471 \n",
       "9  COP         7           150    0.5     sdtw 0.008731074 \n",
       "10 COP         6           120    0.75    sdtw 0.008788719 "
      ]
     },
     "metadata": {},
     "output_type": "display_data"
    }
   ],
   "source": [
    "COP_metric <- filter(df, metric_name=='COP')\n",
    "arrange(COP_metric, metric_value) %>% head(10)"
   ]
  },
  {
   "cell_type": "code",
   "execution_count": null,
   "metadata": {},
   "outputs": [],
   "source": [
    "cvi_all<-list()\n",
    "file_head='cvi/partitional'\n",
    "dists<-c('dtw_basic','dtw_lb','gak','lbi','lbk','sbd','sdtw')\n",
    "for (dist in dists){\n",
    "    file_dir = file.path(file_head, dist)\n",
    "    cvis<-list()\n",
    "    for (file in list.files(file_dir)){\n",
    "      print(file)\n",
    "      cvi <- read_csv(file.path(file_dir,file))\n",
    "\n",
    "      cvi[3,2:6] <- cvi[3,2:6]/10000 # normalize CH values\n",
    "\n",
    "      df<-melt(cvi)\n",
    "      names(df) <- c('metrics', 'cluster_num', 'value')\n",
    "      print(df)\n",
    "      pl=\n",
    "        ggplot(df, aes(cluster_num, value, group=factor(metrics)))+\n",
    "        geom_line(aes(color=factor(metrics)))+\n",
    "        labs(title=gsub('.csv','',file))\n",
    "\n",
    "      cvis[[file]]<-pl\n",
    "    }\n",
    "    cvi_all[[dist]]<-cvis\n",
    "}"
   ]
  },
  {
   "cell_type": "code",
   "execution_count": 13,
   "metadata": {},
   "outputs": [
    {
     "ename": "ERROR",
     "evalue": "Error in ggarrange(plotlist = cvi_all[[\"dtw_lb\"]], ncol = 2, align = \"hv\", : object 'cvi_all' not found\n",
     "output_type": "error",
     "traceback": [
      "Error in ggarrange(plotlist = cvi_all[[\"dtw_lb\"]], ncol = 2, align = \"hv\", : object 'cvi_all' not found\nTraceback:\n",
      "1. ggarrange(plotlist = cvi_all[[\"dtw_lb\"]], ncol = 2, align = \"hv\", \n .     hjust = -1, vjust = 1.5)"
     ]
    }
   ],
   "source": [
    "ggarrange(plotlist=cvi_all[['dtw_lb']], ncol=2, align='hv',hjust = -1,\n",
    "  vjust = 1.5)"
   ]
  },
  {
   "cell_type": "code",
   "execution_count": 124,
   "metadata": {},
   "outputs": [],
   "source": [
    "# clustering on all cases"
   ]
  },
  {
   "cell_type": "code",
   "execution_count": 2,
   "metadata": {},
   "outputs": [
    {
     "name": "stderr",
     "output_type": "stream",
     "text": [
      "Parsed with column specification:\n",
      "cols(\n",
      "  `0` = \u001b[32mcol_double()\u001b[39m,\n",
      "  `1` = \u001b[32mcol_double()\u001b[39m,\n",
      "  `2` = \u001b[32mcol_double()\u001b[39m,\n",
      "  `3` = \u001b[32mcol_double()\u001b[39m,\n",
      "  `4` = \u001b[32mcol_double()\u001b[39m,\n",
      "  `5` = \u001b[32mcol_double()\u001b[39m,\n",
      "  `6` = \u001b[32mcol_double()\u001b[39m,\n",
      "  `7` = \u001b[32mcol_double()\u001b[39m,\n",
      "  `8` = \u001b[32mcol_double()\u001b[39m\n",
      ")\n"
     ]
    },
    {
     "name": "stdout",
     "output_type": "stream",
     "text": [
      "\n",
      "\tPrecomputing distance matrix...\n",
      "\n"
     ]
    },
    {
     "name": "stderr",
     "output_type": "stream",
     "text": [
      "Repetition 1 for k = 3\n"
     ]
    },
    {
     "name": "stdout",
     "output_type": "stream",
     "text": [
      "Iteration 1: Changes / Distsum = 14648 / 713856.3\n",
      "Iteration 2: Changes / Distsum = 1101 / 522888.7\n",
      "Iteration 3: Changes / Distsum = 691 / 489570.8\n",
      "Iteration 4: Changes / Distsum = 521 / 474207.6\n",
      "Iteration 5: Changes / Distsum = 738 / 454450.5\n",
      "Iteration 6: Changes / Distsum = 0 / 454450.5\n",
      "\n"
     ]
    },
    {
     "name": "stderr",
     "output_type": "stream",
     "text": [
      "Repetition 1 for k = 4\n"
     ]
    },
    {
     "name": "stdout",
     "output_type": "stream",
     "text": [
      "Iteration 1: Changes / Distsum = 14648 / 705642.4\n",
      "Iteration 2: Changes / Distsum = 2019 / 451601.9\n",
      "Iteration 3: Changes / Distsum = 716 / 417151.7\n",
      "Iteration 4: Changes / Distsum = 995 / 390776.4\n",
      "Iteration 5: Changes / Distsum = 912 / 374930.6\n",
      "Iteration 6: Changes / Distsum = 526 / 370817.2\n",
      "Iteration 7: Changes / Distsum = 426 / 368396.8\n",
      "Iteration 8: Changes / Distsum = 1048 / 347987.5\n",
      "Iteration 9: Changes / Distsum = 82 / 345106.7\n",
      "Iteration 10: Changes / Distsum = 0 / 345106.7\n",
      "\n"
     ]
    },
    {
     "name": "stderr",
     "output_type": "stream",
     "text": [
      "Repetition 1 for k = 5\n"
     ]
    },
    {
     "name": "stdout",
     "output_type": "stream",
     "text": [
      "Iteration 1: Changes / Distsum = 14648 / 904168.9\n",
      "Iteration 2: Changes / Distsum = 2581 / 379376.6\n",
      "Iteration 3: Changes / Distsum = 1174 / 331784.4\n",
      "Iteration 4: Changes / Distsum = 773 / 307487.6\n",
      "Iteration 5: Changes / Distsum = 927 / 299318.1\n",
      "Iteration 6: Changes / Distsum = 399 / 296707.4\n",
      "Iteration 7: Changes / Distsum = 0 / 296707.4\n",
      "\n"
     ]
    },
    {
     "name": "stderr",
     "output_type": "stream",
     "text": [
      "Repetition 1 for k = 6\n"
     ]
    },
    {
     "name": "stdout",
     "output_type": "stream",
     "text": [
      "Iteration 1: Changes / Distsum = 14648 / 465157\n",
      "Iteration 2: Changes / Distsum = 1810 / 276275.5\n",
      "Iteration 3: Changes / Distsum = 1202 / 246973.2\n",
      "Iteration 4: Changes / Distsum = 180 / 243460.4\n",
      "Iteration 5: Changes / Distsum = 0 / 243460.4\n",
      "\n"
     ]
    },
    {
     "name": "stderr",
     "output_type": "stream",
     "text": [
      "Repetition 1 for k = 7\n"
     ]
    },
    {
     "name": "stdout",
     "output_type": "stream",
     "text": [
      "Iteration 1: Changes / Distsum = 14648 / 443410.5\n",
      "Iteration 2: Changes / Distsum = 2367 / 250800\n",
      "Iteration 3: Changes / Distsum = 680 / 240069.6\n",
      "Iteration 4: Changes / Distsum = 134 / 236766.7\n",
      "Iteration 5: Changes / Distsum = 392 / 234083.8\n",
      "Iteration 6: Changes / Distsum = 499 / 224181.9\n",
      "Iteration 7: Changes / Distsum = 0 / 224181.9\n",
      "\n",
      "\tElapsed time is 54.593 seconds.\n",
      "\n"
     ]
    }
   ],
   "source": [
    "df <- read_csv(file.path('./datasets2/120_0.25.csv'))\n",
    "\n",
    "pc <- tsclust(df, type = \"partitional\", k = 3L:7L, \n",
    "           distance = \"sdtw\", centroid = \"pam\", \n",
    "           seed = 3247L, trace = TRUE)"
   ]
  },
  {
   "cell_type": "code",
   "execution_count": 12,
   "metadata": {},
   "outputs": [
    {
     "data": {
      "text/plain": [
       "partitional clustering with 3 clusters\n",
       "Using sdtw distance\n",
       "Using pam centroids\n",
       "\n",
       "Time required for analysis:\n",
       "   user  system elapsed \n",
       "782.944   8.596  54.593 \n",
       "\n",
       "Cluster sizes with average intra-cluster distance:\n",
       "\n",
       "  size  av_dist\n",
       "1 7202 25.41163\n",
       "2 5198 26.97194\n",
       "3 2248 58.37891"
      ]
     },
     "metadata": {},
     "output_type": "display_data"
    }
   ],
   "source": [
    "pc[[1]]"
   ]
  },
  {
   "cell_type": "code",
   "execution_count": 9,
   "metadata": {},
   "outputs": [
    {
     "data": {
      "image/png": "[encoded data removed]",
      "text/plain": [
       "plot without title"
      ]
     },
     "metadata": {},
     "output_type": "display_data"
    }
   ],
   "source": [
    "plot(pc[[1]], type='c')"
   ]
  },
  {
   "cell_type": "code",
   "execution_count": null,
   "metadata": {},
   "outputs": [],
   "source": []
  }
 ],
 "metadata": {
  "kernelspec": {
   "display_name": "R",
   "language": "R",
   "name": "ir"
  },
  "language_info": {
   "codemirror_mode": "r",
   "file_extension": ".r",
   "mimetype": "text/x-r-source",
   "name": "R",
   "pygments_lexer": "r",
   "version": "3.6.1"
  }
 },
 "nbformat": 4,
 "nbformat_minor": 2
}
