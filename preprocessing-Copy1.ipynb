{
 "cells": [
  {
   "cell_type": "code",
   "execution_count": 2,
   "metadata": {},
   "outputs": [],
   "source": [
    "import sys\n",
    "import os\n",
    "import gzip\n",
    "import shutil\n",
    "import json\n",
    "import pandas as pd\n",
    "import _pickle as pickle\n",
    "import numpy as np\n",
    "%matplotlib inline"
   ]
  },
  {
   "cell_type": "markdown",
   "metadata": {},
   "source": [
    "## Preprocess treatment data"
   ]
  },
  {
   "cell_type": "code",
   "execution_count": 3,
   "metadata": {},
   "outputs": [],
   "source": [
    "### Interpreting json file\n",
    "bg_path = '/home/jupyter/work/openaps/data/99908129/direct-sharing-31/entries_2017-01-01_to_2017-10-24.json'\n",
    "df_bg = pd.read_json(bg_path)"
   ]
  },
  {
   "cell_type": "code",
   "execution_count": 78,
   "metadata": {},
   "outputs": [],
   "source": [
    "# treat_path = '/home/jupyter/work/openaps/data/99908129/direct-sharing-31/treatments_2017-01-01_to_2017-10-24.json'\n",
    "# df_treat = pd.read_json(treat_path)"
   ]
  },
  {
   "cell_type": "code",
   "execution_count": 7,
   "metadata": {},
   "outputs": [],
   "source": [
    "df_bg_99908129 = pickle.load(open('data/df_bg_99908129.pkl', 'rb'))"
   ]
  },
  {
   "cell_type": "code",
   "execution_count": 8,
   "metadata": {},
   "outputs": [
    {
     "data": {
      "text/html": [
       "<div>\n",
       "<style scoped>\n",
       "    .dataframe tbody tr th:only-of-type {\n",
       "        vertical-align: middle;\n",
       "    }\n",
       "\n",
       "    .dataframe tbody tr th {\n",
       "        vertical-align: top;\n",
       "    }\n",
       "\n",
       "    .dataframe thead th {\n",
       "        text-align: right;\n",
       "    }\n",
       "</style>\n",
       "<table border=\"1\" class=\"dataframe\">\n",
       "  <thead>\n",
       "    <tr style=\"text-align: right;\">\n",
       "      <th></th>\n",
       "      <th>sgv</th>\n",
       "      <th>hypo_t</th>\n",
       "    </tr>\n",
       "  </thead>\n",
       "  <tbody>\n",
       "    <tr>\n",
       "      <th>count</th>\n",
       "      <td>55465.000000</td>\n",
       "      <td>55465.000000</td>\n",
       "    </tr>\n",
       "    <tr>\n",
       "      <th>mean</th>\n",
       "      <td>146.271306</td>\n",
       "      <td>1485.163707</td>\n",
       "    </tr>\n",
       "    <tr>\n",
       "      <th>std</th>\n",
       "      <td>56.461057</td>\n",
       "      <td>1870.999895</td>\n",
       "    </tr>\n",
       "    <tr>\n",
       "      <th>min</th>\n",
       "      <td>39.000000</td>\n",
       "      <td>0.000000</td>\n",
       "    </tr>\n",
       "    <tr>\n",
       "      <th>25%</th>\n",
       "      <td>104.000000</td>\n",
       "      <td>299.000000</td>\n",
       "    </tr>\n",
       "    <tr>\n",
       "      <th>50%</th>\n",
       "      <td>133.000000</td>\n",
       "      <td>829.000000</td>\n",
       "    </tr>\n",
       "    <tr>\n",
       "      <th>75%</th>\n",
       "      <td>177.000000</td>\n",
       "      <td>1899.000000</td>\n",
       "    </tr>\n",
       "    <tr>\n",
       "      <th>max</th>\n",
       "      <td>401.000000</td>\n",
       "      <td>12169.000000</td>\n",
       "    </tr>\n",
       "  </tbody>\n",
       "</table>\n",
       "</div>"
      ],
      "text/plain": [
       "                sgv        hypo_t\n",
       "count  55465.000000  55465.000000\n",
       "mean     146.271306   1485.163707\n",
       "std       56.461057   1870.999895\n",
       "min       39.000000      0.000000\n",
       "25%      104.000000    299.000000\n",
       "50%      133.000000    829.000000\n",
       "75%      177.000000   1899.000000\n",
       "max      401.000000  12169.000000"
      ]
     },
     "execution_count": 8,
     "metadata": {},
     "output_type": "execute_result"
    }
   ],
   "source": [
    "df_bg_99908129.describe()"
   ]
  },
  {
   "cell_type": "code",
   "execution_count": 9,
   "metadata": {},
   "outputs": [
    {
     "ename": "UnicodeDecodeError",
     "evalue": "'ascii' codec can't decode byte 0xa1 in position 0: ordinal not in range(128)",
     "output_type": "error",
     "traceback": [
      "\u001b[0;31m---------------------------------------------------------------------------\u001b[0m",
      "\u001b[0;31mUnicodeDecodeError\u001b[0m                        Traceback (most recent call last)",
      "\u001b[0;32m<ipython-input-9-07318ab782da>\u001b[0m in \u001b[0;36m<module>\u001b[0;34m\u001b[0m\n\u001b[0;32m----> 1\u001b[0;31m \u001b[0mdf_bg_20396154\u001b[0m \u001b[0;34m=\u001b[0m \u001b[0mpickle\u001b[0m\u001b[0;34m.\u001b[0m\u001b[0mload\u001b[0m\u001b[0;34m(\u001b[0m\u001b[0mopen\u001b[0m\u001b[0;34m(\u001b[0m\u001b[0;34m'data/entries_20396154_2.pkl'\u001b[0m\u001b[0;34m,\u001b[0m \u001b[0;34m'rb'\u001b[0m\u001b[0;34m)\u001b[0m\u001b[0;34m)\u001b[0m\u001b[0;34m\u001b[0m\u001b[0m\n\u001b[0m",
      "\u001b[0;31mUnicodeDecodeError\u001b[0m: 'ascii' codec can't decode byte 0xa1 in position 0: ordinal not in range(128)"
     ]
    }
   ],
   "source": [
    "df_bg_20396154 = pickle.load(open('data/entries_20396154_2.pkl', 'rb'))"
   ]
  },
  {
   "cell_type": "code",
   "execution_count": 31,
   "metadata": {},
   "outputs": [
    {
     "data": {
      "text/plain": [
       "Timestamp('2017-03-19 13:11:19')"
      ]
     },
     "execution_count": 31,
     "metadata": {},
     "output_type": "execute_result"
    }
   ],
   "source": [
    "df_bg.date.min()"
   ]
  },
  {
   "cell_type": "code",
   "execution_count": 7,
   "metadata": {},
   "outputs": [
    {
     "data": {
      "text/plain": [
       "Timestamp('2017-10-23 23:55:08')"
      ]
     },
     "execution_count": 7,
     "metadata": {},
     "output_type": "execute_result"
    }
   ],
   "source": [
    "df_bg.date.max()"
   ]
  },
  {
   "cell_type": "raw",
   "metadata": {},
   "source": [
    "pd.to_datetime(df_bg['dateString'], utc=True).astype('datetime64[ns]')"
   ]
  },
  {
   "cell_type": "code",
   "execution_count": 101,
   "metadata": {},
   "outputs": [],
   "source": [
    "cols=['date', 'sgv','type']\n",
    "df_bg=df_bg[cols]"
   ]
  },
  {
   "cell_type": "code",
   "execution_count": 189,
   "metadata": {},
   "outputs": [
    {
     "data": {
      "text/html": [
       "<div>\n",
       "<style scoped>\n",
       "    .dataframe tbody tr th:only-of-type {\n",
       "        vertical-align: middle;\n",
       "    }\n",
       "\n",
       "    .dataframe tbody tr th {\n",
       "        vertical-align: top;\n",
       "    }\n",
       "\n",
       "    .dataframe thead th {\n",
       "        text-align: right;\n",
       "    }\n",
       "</style>\n",
       "<table border=\"1\" class=\"dataframe\">\n",
       "  <thead>\n",
       "    <tr style=\"text-align: right;\">\n",
       "      <th></th>\n",
       "      <th>sgv</th>\n",
       "    </tr>\n",
       "  </thead>\n",
       "  <tbody>\n",
       "    <tr>\n",
       "      <th>count</th>\n",
       "      <td>1915.000000</td>\n",
       "    </tr>\n",
       "    <tr>\n",
       "      <th>mean</th>\n",
       "      <td>61.550914</td>\n",
       "    </tr>\n",
       "    <tr>\n",
       "      <th>std</th>\n",
       "      <td>7.859855</td>\n",
       "    </tr>\n",
       "    <tr>\n",
       "      <th>min</th>\n",
       "      <td>39.000000</td>\n",
       "    </tr>\n",
       "    <tr>\n",
       "      <th>25%</th>\n",
       "      <td>56.000000</td>\n",
       "    </tr>\n",
       "    <tr>\n",
       "      <th>50%</th>\n",
       "      <td>64.000000</td>\n",
       "    </tr>\n",
       "    <tr>\n",
       "      <th>75%</th>\n",
       "      <td>68.000000</td>\n",
       "    </tr>\n",
       "    <tr>\n",
       "      <th>max</th>\n",
       "      <td>71.000000</td>\n",
       "    </tr>\n",
       "  </tbody>\n",
       "</table>\n",
       "</div>"
      ],
      "text/plain": [
       "               sgv\n",
       "count  1915.000000\n",
       "mean     61.550914\n",
       "std       7.859855\n",
       "min      39.000000\n",
       "25%      56.000000\n",
       "50%      64.000000\n",
       "75%      68.000000\n",
       "max      71.000000"
      ]
     },
     "execution_count": 189,
     "metadata": {},
     "output_type": "execute_result"
    }
   ],
   "source": [
    "df_bg[df_bg.sgv<72].describe()"
   ]
  },
  {
   "cell_type": "code",
   "execution_count": 186,
   "metadata": {},
   "outputs": [
    {
     "data": {
      "text/plain": [
       "<matplotlib.axes._subplots.AxesSubplot at 0x7f17ae062710>"
      ]
     },
     "execution_count": 186,
     "metadata": {},
     "output_type": "execute_result"
    },
    {
     "data": {
      "image/png": "[encoded data removed]",
      "text/plain": [
       "<Figure size 432x288 with 1 Axes>"
      ]
     },
     "metadata": {
      "needs_background": "light"
     },
     "output_type": "display_data"
    }
   ],
   "source": [
    "df_bg[df_bg.sgv<72]['2017-4-20':'2017-4-21'].plot(style = '.',y='sgv')"
   ]
  },
  {
   "cell_type": "code",
   "execution_count": null,
   "metadata": {},
   "outputs": [],
   "source": [
    "df_bg = df_bg.set_index('date').sort_index()\n",
    "df_bg.index"
   ]
  },
  {
   "cell_type": "code",
   "execution_count": 140,
   "metadata": {},
   "outputs": [
    {
     "data": {
      "text/html": [
       "<div>\n",
       "<style scoped>\n",
       "    .dataframe tbody tr th:only-of-type {\n",
       "        vertical-align: middle;\n",
       "    }\n",
       "\n",
       "    .dataframe tbody tr th {\n",
       "        vertical-align: top;\n",
       "    }\n",
       "\n",
       "    .dataframe thead th {\n",
       "        text-align: right;\n",
       "    }\n",
       "</style>\n",
       "<table border=\"1\" class=\"dataframe\">\n",
       "  <thead>\n",
       "    <tr style=\"text-align: right;\">\n",
       "      <th></th>\n",
       "      <th>sgv</th>\n",
       "    </tr>\n",
       "  </thead>\n",
       "  <tbody>\n",
       "    <tr>\n",
       "      <th>count</th>\n",
       "      <td>55465.000000</td>\n",
       "    </tr>\n",
       "    <tr>\n",
       "      <th>mean</th>\n",
       "      <td>146.271306</td>\n",
       "    </tr>\n",
       "    <tr>\n",
       "      <th>std</th>\n",
       "      <td>56.461057</td>\n",
       "    </tr>\n",
       "    <tr>\n",
       "      <th>min</th>\n",
       "      <td>39.000000</td>\n",
       "    </tr>\n",
       "    <tr>\n",
       "      <th>25%</th>\n",
       "      <td>104.000000</td>\n",
       "    </tr>\n",
       "    <tr>\n",
       "      <th>50%</th>\n",
       "      <td>133.000000</td>\n",
       "    </tr>\n",
       "    <tr>\n",
       "      <th>75%</th>\n",
       "      <td>177.000000</td>\n",
       "    </tr>\n",
       "    <tr>\n",
       "      <th>max</th>\n",
       "      <td>401.000000</td>\n",
       "    </tr>\n",
       "  </tbody>\n",
       "</table>\n",
       "</div>"
      ],
      "text/plain": [
       "                sgv\n",
       "count  55465.000000\n",
       "mean     146.271306\n",
       "std       56.461057\n",
       "min       39.000000\n",
       "25%      104.000000\n",
       "50%      133.000000\n",
       "75%      177.000000\n",
       "max      401.000000"
      ]
     },
     "execution_count": 140,
     "metadata": {},
     "output_type": "execute_result"
    }
   ],
   "source": [
    "df_bg.describe()"
   ]
  },
  {
   "cell_type": "code",
   "execution_count": 51,
   "metadata": {},
   "outputs": [
    {
     "data": {
      "text/plain": [
       "array(['Temp Basal', 'Correction Bolus', 'Carb Correction',\n",
       "       'Temporary Target', 'Note', 'Meal Bolus', 'BG Check',\n",
       "       'Site Change', 'Insulin Change', '<none>', 'Sensor Start',\n",
       "       'Sensor Change'], dtype=object)"
      ]
     },
     "execution_count": 51,
     "metadata": {},
     "output_type": "execute_result"
    }
   ],
   "source": [
    "## How many eventTypes are there\n",
    "df_treat.eventType.unique()"
   ]
  },
  {
   "cell_type": "code",
   "execution_count": 179,
   "metadata": {},
   "outputs": [
    {
     "data": {
      "text/html": [
       "<div>\n",
       "<style scoped>\n",
       "    .dataframe tbody tr th:only-of-type {\n",
       "        vertical-align: middle;\n",
       "    }\n",
       "\n",
       "    .dataframe tbody tr th {\n",
       "        vertical-align: top;\n",
       "    }\n",
       "\n",
       "    .dataframe thead th {\n",
       "        text-align: right;\n",
       "    }\n",
       "</style>\n",
       "<table border=\"1\" class=\"dataframe\">\n",
       "  <thead>\n",
       "    <tr style=\"text-align: right;\">\n",
       "      <th></th>\n",
       "      <th>absolute</th>\n",
       "      <th>alarm_type</th>\n",
       "      <th>amount</th>\n",
       "      <th>bg</th>\n",
       "      <th>carb_input</th>\n",
       "      <th>carbs</th>\n",
       "      <th>duration</th>\n",
       "      <th>fixed</th>\n",
       "      <th>glucose</th>\n",
       "      <th>insulin</th>\n",
       "      <th>invalid</th>\n",
       "      <th>maxBasal</th>\n",
       "      <th>preBolus</th>\n",
       "      <th>ratio</th>\n",
       "      <th>tail</th>\n",
       "      <th>targetBottom</th>\n",
       "      <th>targetTop</th>\n",
       "    </tr>\n",
       "  </thead>\n",
       "  <tbody>\n",
       "    <tr>\n",
       "      <th>count</th>\n",
       "      <td>0.0</td>\n",
       "      <td>0.0</td>\n",
       "      <td>0.0</td>\n",
       "      <td>397.000000</td>\n",
       "      <td>0.0</td>\n",
       "      <td>403.000000</td>\n",
       "      <td>403.0</td>\n",
       "      <td>0.0</td>\n",
       "      <td>399.000000</td>\n",
       "      <td>401.000000</td>\n",
       "      <td>0.0</td>\n",
       "      <td>0.0</td>\n",
       "      <td>1.0</td>\n",
       "      <td>399.000000</td>\n",
       "      <td>0.0</td>\n",
       "      <td>0.0</td>\n",
       "      <td>0.0</td>\n",
       "    </tr>\n",
       "    <tr>\n",
       "      <th>mean</th>\n",
       "      <td>NaN</td>\n",
       "      <td>NaN</td>\n",
       "      <td>NaN</td>\n",
       "      <td>116.037783</td>\n",
       "      <td>NaN</td>\n",
       "      <td>59.679901</td>\n",
       "      <td>0.0</td>\n",
       "      <td>NaN</td>\n",
       "      <td>115.882206</td>\n",
       "      <td>6.596883</td>\n",
       "      <td>NaN</td>\n",
       "      <td>NaN</td>\n",
       "      <td>15.0</td>\n",
       "      <td>8.535088</td>\n",
       "      <td>NaN</td>\n",
       "      <td>NaN</td>\n",
       "      <td>NaN</td>\n",
       "    </tr>\n",
       "    <tr>\n",
       "      <th>std</th>\n",
       "      <td>NaN</td>\n",
       "      <td>NaN</td>\n",
       "      <td>NaN</td>\n",
       "      <td>33.566775</td>\n",
       "      <td>NaN</td>\n",
       "      <td>29.617533</td>\n",
       "      <td>0.0</td>\n",
       "      <td>NaN</td>\n",
       "      <td>33.566834</td>\n",
       "      <td>3.297855</td>\n",
       "      <td>NaN</td>\n",
       "      <td>NaN</td>\n",
       "      <td>NaN</td>\n",
       "      <td>0.439589</td>\n",
       "      <td>NaN</td>\n",
       "      <td>NaN</td>\n",
       "      <td>NaN</td>\n",
       "    </tr>\n",
       "    <tr>\n",
       "      <th>min</th>\n",
       "      <td>NaN</td>\n",
       "      <td>NaN</td>\n",
       "      <td>NaN</td>\n",
       "      <td>55.000000</td>\n",
       "      <td>NaN</td>\n",
       "      <td>9.000000</td>\n",
       "      <td>0.0</td>\n",
       "      <td>NaN</td>\n",
       "      <td>55.000000</td>\n",
       "      <td>0.100000</td>\n",
       "      <td>NaN</td>\n",
       "      <td>NaN</td>\n",
       "      <td>15.0</td>\n",
       "      <td>7.500000</td>\n",
       "      <td>NaN</td>\n",
       "      <td>NaN</td>\n",
       "      <td>NaN</td>\n",
       "    </tr>\n",
       "    <tr>\n",
       "      <th>25%</th>\n",
       "      <td>NaN</td>\n",
       "      <td>NaN</td>\n",
       "      <td>NaN</td>\n",
       "      <td>90.000000</td>\n",
       "      <td>NaN</td>\n",
       "      <td>35.000000</td>\n",
       "      <td>0.0</td>\n",
       "      <td>NaN</td>\n",
       "      <td>90.000000</td>\n",
       "      <td>4.000000</td>\n",
       "      <td>NaN</td>\n",
       "      <td>NaN</td>\n",
       "      <td>15.0</td>\n",
       "      <td>8.500000</td>\n",
       "      <td>NaN</td>\n",
       "      <td>NaN</td>\n",
       "      <td>NaN</td>\n",
       "    </tr>\n",
       "    <tr>\n",
       "      <th>50%</th>\n",
       "      <td>NaN</td>\n",
       "      <td>NaN</td>\n",
       "      <td>NaN</td>\n",
       "      <td>111.000000</td>\n",
       "      <td>NaN</td>\n",
       "      <td>60.000000</td>\n",
       "      <td>0.0</td>\n",
       "      <td>NaN</td>\n",
       "      <td>111.000000</td>\n",
       "      <td>6.400000</td>\n",
       "      <td>NaN</td>\n",
       "      <td>NaN</td>\n",
       "      <td>15.0</td>\n",
       "      <td>8.500000</td>\n",
       "      <td>NaN</td>\n",
       "      <td>NaN</td>\n",
       "      <td>NaN</td>\n",
       "    </tr>\n",
       "    <tr>\n",
       "      <th>75%</th>\n",
       "      <td>NaN</td>\n",
       "      <td>NaN</td>\n",
       "      <td>NaN</td>\n",
       "      <td>135.000000</td>\n",
       "      <td>NaN</td>\n",
       "      <td>80.000000</td>\n",
       "      <td>0.0</td>\n",
       "      <td>NaN</td>\n",
       "      <td>135.000000</td>\n",
       "      <td>8.900000</td>\n",
       "      <td>NaN</td>\n",
       "      <td>NaN</td>\n",
       "      <td>15.0</td>\n",
       "      <td>9.000000</td>\n",
       "      <td>NaN</td>\n",
       "      <td>NaN</td>\n",
       "      <td>NaN</td>\n",
       "    </tr>\n",
       "    <tr>\n",
       "      <th>max</th>\n",
       "      <td>NaN</td>\n",
       "      <td>NaN</td>\n",
       "      <td>NaN</td>\n",
       "      <td>229.000000</td>\n",
       "      <td>NaN</td>\n",
       "      <td>135.000000</td>\n",
       "      <td>0.0</td>\n",
       "      <td>NaN</td>\n",
       "      <td>229.000000</td>\n",
       "      <td>15.000000</td>\n",
       "      <td>NaN</td>\n",
       "      <td>NaN</td>\n",
       "      <td>15.0</td>\n",
       "      <td>9.200000</td>\n",
       "      <td>NaN</td>\n",
       "      <td>NaN</td>\n",
       "      <td>NaN</td>\n",
       "    </tr>\n",
       "  </tbody>\n",
       "</table>\n",
       "</div>"
      ],
      "text/plain": [
       "       absolute  alarm_type  amount          bg  carb_input       carbs  \\\n",
       "count       0.0         0.0     0.0  397.000000         0.0  403.000000   \n",
       "mean        NaN         NaN     NaN  116.037783         NaN   59.679901   \n",
       "std         NaN         NaN     NaN   33.566775         NaN   29.617533   \n",
       "min         NaN         NaN     NaN   55.000000         NaN    9.000000   \n",
       "25%         NaN         NaN     NaN   90.000000         NaN   35.000000   \n",
       "50%         NaN         NaN     NaN  111.000000         NaN   60.000000   \n",
       "75%         NaN         NaN     NaN  135.000000         NaN   80.000000   \n",
       "max         NaN         NaN     NaN  229.000000         NaN  135.000000   \n",
       "\n",
       "       duration  fixed     glucose     insulin  invalid  maxBasal  preBolus  \\\n",
       "count     403.0    0.0  399.000000  401.000000      0.0       0.0       1.0   \n",
       "mean        0.0    NaN  115.882206    6.596883      NaN       NaN      15.0   \n",
       "std         0.0    NaN   33.566834    3.297855      NaN       NaN       NaN   \n",
       "min         0.0    NaN   55.000000    0.100000      NaN       NaN      15.0   \n",
       "25%         0.0    NaN   90.000000    4.000000      NaN       NaN      15.0   \n",
       "50%         0.0    NaN  111.000000    6.400000      NaN       NaN      15.0   \n",
       "75%         0.0    NaN  135.000000    8.900000      NaN       NaN      15.0   \n",
       "max         0.0    NaN  229.000000   15.000000      NaN       NaN      15.0   \n",
       "\n",
       "            ratio  tail  targetBottom  targetTop  \n",
       "count  399.000000   0.0           0.0        0.0  \n",
       "mean     8.535088   NaN           NaN        NaN  \n",
       "std      0.439589   NaN           NaN        NaN  \n",
       "min      7.500000   NaN           NaN        NaN  \n",
       "25%      8.500000   NaN           NaN        NaN  \n",
       "50%      8.500000   NaN           NaN        NaN  \n",
       "75%      9.000000   NaN           NaN        NaN  \n",
       "max      9.200000   NaN           NaN        NaN  "
      ]
     },
     "execution_count": 179,
     "metadata": {},
     "output_type": "execute_result"
    }
   ],
   "source": [
    "df_treat[df_treat.eventType=='Meal Bolus'].describe()"
   ]
  },
  {
   "cell_type": "code",
   "execution_count": 184,
   "metadata": {},
   "outputs": [
    {
     "data": {
      "text/plain": [
       "date\n",
       "2017-10-24 03:52:07    30.0\n",
       "2017-10-24 03:47:41    30.0\n",
       "2017-10-24 03:45:29    30.0\n",
       "2017-10-24 03:45:28    30.0\n",
       "2017-10-24 03:45:27    30.0\n",
       "2017-10-24 03:29:13    30.0\n",
       "2017-10-24 03:27:29    30.0\n",
       "2017-10-24 03:24:08    30.0\n",
       "2017-10-24 03:23:55    30.0\n",
       "2017-10-24 03:13:25    30.0\n",
       "2017-10-24 03:09:32    30.0\n",
       "2017-10-24 02:53:04    30.0\n",
       "2017-10-24 02:30:25    30.0\n",
       "2017-10-24 02:12:38    30.0\n",
       "2017-10-24 02:07:31    30.0\n",
       "2017-10-24 01:45:35    30.0\n",
       "2017-10-24 01:32:41    30.0\n",
       "2017-10-24 01:28:42    30.0\n",
       "2017-10-24 01:26:42    30.0\n",
       "2017-10-24 01:22:22    30.0\n",
       "2017-10-24 01:10:50    30.0\n",
       "2017-10-24 00:34:23    30.0\n",
       "2017-10-24 00:22:38    30.0\n",
       "2017-10-24 00:07:30    30.0\n",
       "2017-10-23 23:48:35    30.0\n",
       "2017-10-23 23:28:52    30.0\n",
       "2017-10-23 23:14:22    30.0\n",
       "2017-10-23 23:01:33    30.0\n",
       "2017-10-23 22:58:29    30.0\n",
       "2017-10-23 22:56:36    30.0\n",
       "                       ... \n",
       "2017-03-21 16:48:56    30.0\n",
       "2017-03-21 09:11:29    30.0\n",
       "2017-03-21 08:45:02    30.0\n",
       "2017-03-21 01:45:50    30.0\n",
       "2017-03-20 23:11:31    30.0\n",
       "2017-03-20 22:11:53    30.0\n",
       "2017-03-20 20:51:00    30.0\n",
       "2017-03-20 20:23:34    30.0\n",
       "2017-03-20 19:49:39    30.0\n",
       "2017-03-20 18:29:08    30.0\n",
       "2017-03-20 17:05:47    30.0\n",
       "2017-03-20 16:36:55    30.0\n",
       "2017-03-20 16:35:55    30.0\n",
       "2017-03-20 15:32:06    30.0\n",
       "2017-03-20 14:14:05    30.0\n",
       "2017-03-20 12:55:41    30.0\n",
       "2017-03-20 12:40:49    30.0\n",
       "2017-03-20 11:56:57    30.0\n",
       "2017-03-20 11:31:44    30.0\n",
       "2017-03-20 11:16:52    30.0\n",
       "2017-03-20 10:46:27    30.0\n",
       "2017-03-20 07:57:32    30.0\n",
       "2017-03-20 07:22:46    30.0\n",
       "2017-03-20 06:42:53    30.0\n",
       "2017-03-20 05:36:44    30.0\n",
       "2017-03-20 03:34:58    30.0\n",
       "2017-03-20 02:59:56    30.0\n",
       "2017-03-20 02:25:50    30.0\n",
       "2017-03-20 01:17:11    30.0\n",
       "2017-03-20 01:16:08    30.0\n",
       "Name: duration, Length: 19954, dtype: float64"
      ]
     },
     "execution_count": 184,
     "metadata": {},
     "output_type": "execute_result"
    }
   ],
   "source": [
    "df_treat[df_treat.eventType == 'Temp Basal'].duration"
   ]
  },
  {
   "cell_type": "code",
   "execution_count": 123,
   "metadata": {},
   "outputs": [
    {
     "data": {
      "text/plain": [
       "<matplotlib.axes._subplots.AxesSubplot at 0x7f17ae6f8550>"
      ]
     },
     "execution_count": 123,
     "metadata": {},
     "output_type": "execute_result"
    },
    {
     "data": {
      "image/png": "[encoded data removed]",
      "text/plain": [
       "<Figure size 432x288 with 1 Axes>"
      ]
     },
     "metadata": {
      "needs_background": "light"
     },
     "output_type": "display_data"
    }
   ],
   "source": [
    "df_treat[df_treat.eventType == 'Correction Bolus'].plot(y='insulin', style='.')"
   ]
  },
  {
   "cell_type": "code",
   "execution_count": 11,
   "metadata": {},
   "outputs": [
    {
     "data": {
      "text/plain": [
       "'2017-03-19T15:46:00-04:00'"
      ]
     },
     "execution_count": 11,
     "metadata": {},
     "output_type": "execute_result"
    }
   ],
   "source": [
    "df_treat['created_at'].min()"
   ]
  },
  {
   "cell_type": "code",
   "execution_count": 68,
   "metadata": {},
   "outputs": [
    {
     "data": {
      "text/plain": [
       "'2017-10-23T23:52:07-04:00'"
      ]
     },
     "execution_count": 68,
     "metadata": {},
     "output_type": "execute_result"
    }
   ],
   "source": [
    "df_treat['created_at'].max()"
   ]
  },
  {
   "cell_type": "code",
   "execution_count": 82,
   "metadata": {},
   "outputs": [],
   "source": [
    "df_treat['date']= pd.to_datetime(df_treat['created_at'], utc=True).astype('datetime64[ns]')"
   ]
  },
  {
   "cell_type": "code",
   "execution_count": 86,
   "metadata": {},
   "outputs": [
    {
     "data": {
      "text/plain": [
       "0   2017-10-24 03:52:07\n",
       "1   2017-10-24 03:47:41\n",
       "2   2017-10-24 03:45:29\n",
       "3   2017-10-24 03:45:28\n",
       "4   2017-10-24 03:45:27\n",
       "Name: date, dtype: datetime64[ns]"
      ]
     },
     "execution_count": 86,
     "metadata": {},
     "output_type": "execute_result"
    }
   ],
   "source": [
    "df_treat['date'].head()"
   ]
  },
  {
   "cell_type": "code",
   "execution_count": 137,
   "metadata": {},
   "outputs": [
    {
     "data": {
      "text/plain": [
       "Index(['_body', '_date', '_description', '_head', '_id', '_type', 'absolute',\n",
       "       'alarm_description', 'alarm_type', 'amount', 'appended', 'bg', 'bolus',\n",
       "       'carb_input', 'carbs', 'changed', 'created_at', 'duration', 'enteredBy',\n",
       "       'eventType', 'fixed', 'glucose', 'glucoseType', 'insulin', 'invalid',\n",
       "       'maxBasal', 'medtronic', 'notes', 'preBolus', 'rate', 'ratio',\n",
       "       'raw_duration', 'raw_rate', 'reason', 'stale', 'tail', 'targetBottom',\n",
       "       'targetTop', 'timestamp', 'type', 'units', 'wizard'],\n",
       "      dtype='object')"
      ]
     },
     "execution_count": 137,
     "metadata": {},
     "output_type": "execute_result"
    }
   ],
   "source": [
    "df_treat.columns"
   ]
  },
  {
   "cell_type": "code",
   "execution_count": 83,
   "metadata": {},
   "outputs": [],
   "source": [
    "df_treat_stem= df_treat[['date','timestamp','eventType', 'bg', 'bolus', 'absolute', 'rate', 'duration','raw_duration', 'raw_rate']]"
   ]
  },
  {
   "cell_type": "raw",
   "metadata": {},
   "source": [
    "df_treat = df_treat.set_index('date').sort_index()"
   ]
  },
  {
   "cell_type": "code",
   "execution_count": 97,
   "metadata": {},
   "outputs": [],
   "source": [
    "df_treat = df_treat.set_index('date')"
   ]
  },
  {
   "cell_type": "code",
   "execution_count": 171,
   "metadata": {},
   "outputs": [
    {
     "data": {
      "text/plain": [
       "<matplotlib.axes._subplots.AxesSubplot at 0x7f17adf10f98>"
      ]
     },
     "execution_count": 171,
     "metadata": {},
     "output_type": "execute_result"
    },
    {
     "data": {
      "image/png": "[encoded data removed]",
      "text/plain": [
       "<Figure size 1080x432 with 1 Axes>"
      ]
     },
     "metadata": {
      "needs_background": "light"
     },
     "output_type": "display_data"
    }
   ],
   "source": [
    "start = '2017-04-27 00:00'\n",
    "end = '2017-04-28 00:00'\n",
    "\n",
    "df_t_p = df_treat[start:end]\n",
    "\n",
    "ax = df_t_p.plot(y='rate', style = '.',color = 'Black', label='Temp Basal', figsize=(15,6))\n",
    "df_t_p.plot(y='insulin', style = '.', color='Red', label = 'Correction Bolus', figsize=(15,6), ax=ax)\n",
    "df_t_p.plot(y='carbs', style = '.', color='Green', label = 'Carb Correction', figsize=(15,6), ax=ax)\n",
    "\n",
    "df_b_p = df_bg[start:end]\n",
    "df_b_p.plot(figsize=(15,6), style='.', y='sgv',ax=ax, label='hypo', color='Purple')"
   ]
  },
  {
   "cell_type": "code",
   "execution_count": 109,
   "metadata": {},
   "outputs": [
    {
     "data": {
      "text/html": [
       "<div>\n",
       "<style scoped>\n",
       "    .dataframe tbody tr th:only-of-type {\n",
       "        vertical-align: middle;\n",
       "    }\n",
       "\n",
       "    .dataframe tbody tr th {\n",
       "        vertical-align: top;\n",
       "    }\n",
       "\n",
       "    .dataframe thead th {\n",
       "        text-align: right;\n",
       "    }\n",
       "</style>\n",
       "<table border=\"1\" class=\"dataframe\">\n",
       "  <thead>\n",
       "    <tr style=\"text-align: right;\">\n",
       "      <th></th>\n",
       "      <th>_body</th>\n",
       "      <th>_date</th>\n",
       "      <th>_description</th>\n",
       "      <th>_head</th>\n",
       "      <th>_id</th>\n",
       "      <th>_type</th>\n",
       "      <th>absolute</th>\n",
       "      <th>alarm_description</th>\n",
       "      <th>alarm_type</th>\n",
       "      <th>amount</th>\n",
       "      <th>...</th>\n",
       "      <th>raw_rate</th>\n",
       "      <th>reason</th>\n",
       "      <th>stale</th>\n",
       "      <th>tail</th>\n",
       "      <th>targetBottom</th>\n",
       "      <th>targetTop</th>\n",
       "      <th>timestamp</th>\n",
       "      <th>type</th>\n",
       "      <th>units</th>\n",
       "      <th>wizard</th>\n",
       "    </tr>\n",
       "    <tr>\n",
       "      <th>date</th>\n",
       "      <th></th>\n",
       "      <th></th>\n",
       "      <th></th>\n",
       "      <th></th>\n",
       "      <th></th>\n",
       "      <th></th>\n",
       "      <th></th>\n",
       "      <th></th>\n",
       "      <th></th>\n",
       "      <th></th>\n",
       "      <th></th>\n",
       "      <th></th>\n",
       "      <th></th>\n",
       "      <th></th>\n",
       "      <th></th>\n",
       "      <th></th>\n",
       "      <th></th>\n",
       "      <th></th>\n",
       "      <th></th>\n",
       "      <th></th>\n",
       "      <th></th>\n",
       "    </tr>\n",
       "  </thead>\n",
       "  <tbody>\n",
       "    <tr>\n",
       "      <th>2017-10-24 03:52:07</th>\n",
       "      <td>NaN</td>\n",
       "      <td>NaN</td>\n",
       "      <td>NaN</td>\n",
       "      <td>NaN</td>\n",
       "      <td>59eeb94332c555f2c8abb01d</td>\n",
       "      <td>NaN</td>\n",
       "      <td>1.45</td>\n",
       "      <td>NaN</td>\n",
       "      <td>NaN</td>\n",
       "      <td>NaN</td>\n",
       "      <td>...</td>\n",
       "      <td>{'temp': 'absolute', 'timestamp': '2017-10-23T...</td>\n",
       "      <td>NaN</td>\n",
       "      <td>NaN</td>\n",
       "      <td>NaN</td>\n",
       "      <td>NaN</td>\n",
       "      <td>NaN</td>\n",
       "      <td>2017-10-24 03:52:07</td>\n",
       "      <td>NaN</td>\n",
       "      <td>NaN</td>\n",
       "      <td>NaN</td>\n",
       "    </tr>\n",
       "    <tr>\n",
       "      <th>2017-10-24 03:47:41</th>\n",
       "      <td>NaN</td>\n",
       "      <td>NaN</td>\n",
       "      <td>NaN</td>\n",
       "      <td>NaN</td>\n",
       "      <td>59eeb80b32c555f2c8abab9d</td>\n",
       "      <td>NaN</td>\n",
       "      <td>3.45</td>\n",
       "      <td>NaN</td>\n",
       "      <td>NaN</td>\n",
       "      <td>NaN</td>\n",
       "      <td>...</td>\n",
       "      <td>{'temp': 'absolute', 'timestamp': '2017-10-23T...</td>\n",
       "      <td>NaN</td>\n",
       "      <td>NaN</td>\n",
       "      <td>NaN</td>\n",
       "      <td>NaN</td>\n",
       "      <td>NaN</td>\n",
       "      <td>2017-10-24 03:47:41</td>\n",
       "      <td>NaN</td>\n",
       "      <td>NaN</td>\n",
       "      <td>NaN</td>\n",
       "    </tr>\n",
       "    <tr>\n",
       "      <th>2017-10-24 03:45:29</th>\n",
       "      <td>NaN</td>\n",
       "      <td>NaN</td>\n",
       "      <td>NaN</td>\n",
       "      <td>NaN</td>\n",
       "      <td>59eeb79632c555f2c8aba9dd</td>\n",
       "      <td>NaN</td>\n",
       "      <td>1.45</td>\n",
       "      <td>NaN</td>\n",
       "      <td>NaN</td>\n",
       "      <td>NaN</td>\n",
       "      <td>...</td>\n",
       "      <td>{'temp': 'absolute', 'timestamp': '2017-10-23T...</td>\n",
       "      <td>NaN</td>\n",
       "      <td>NaN</td>\n",
       "      <td>NaN</td>\n",
       "      <td>NaN</td>\n",
       "      <td>NaN</td>\n",
       "      <td>2017-10-24 03:45:29</td>\n",
       "      <td>NaN</td>\n",
       "      <td>NaN</td>\n",
       "      <td>NaN</td>\n",
       "    </tr>\n",
       "    <tr>\n",
       "      <th>2017-10-24 03:45:28</th>\n",
       "      <td>NaN</td>\n",
       "      <td>NaN</td>\n",
       "      <td>NaN</td>\n",
       "      <td>NaN</td>\n",
       "      <td>59eeb79632c555f2c8aba9df</td>\n",
       "      <td>NaN</td>\n",
       "      <td>1.45</td>\n",
       "      <td>NaN</td>\n",
       "      <td>NaN</td>\n",
       "      <td>NaN</td>\n",
       "      <td>...</td>\n",
       "      <td>{'temp': 'absolute', 'timestamp': '2017-10-23T...</td>\n",
       "      <td>NaN</td>\n",
       "      <td>NaN</td>\n",
       "      <td>NaN</td>\n",
       "      <td>NaN</td>\n",
       "      <td>NaN</td>\n",
       "      <td>2017-10-24 03:45:28</td>\n",
       "      <td>NaN</td>\n",
       "      <td>NaN</td>\n",
       "      <td>NaN</td>\n",
       "    </tr>\n",
       "    <tr>\n",
       "      <th>2017-10-24 03:45:27</th>\n",
       "      <td>NaN</td>\n",
       "      <td>NaN</td>\n",
       "      <td>NaN</td>\n",
       "      <td>NaN</td>\n",
       "      <td>59eeb79632c555f2c8aba9e1</td>\n",
       "      <td>NaN</td>\n",
       "      <td>1.45</td>\n",
       "      <td>NaN</td>\n",
       "      <td>NaN</td>\n",
       "      <td>NaN</td>\n",
       "      <td>...</td>\n",
       "      <td>{'temp': 'absolute', 'timestamp': '2017-10-23T...</td>\n",
       "      <td>NaN</td>\n",
       "      <td>NaN</td>\n",
       "      <td>NaN</td>\n",
       "      <td>NaN</td>\n",
       "      <td>NaN</td>\n",
       "      <td>2017-10-24 03:45:27</td>\n",
       "      <td>NaN</td>\n",
       "      <td>NaN</td>\n",
       "      <td>NaN</td>\n",
       "    </tr>\n",
       "  </tbody>\n",
       "</table>\n",
       "<p>5 rows × 42 columns</p>\n",
       "</div>"
      ],
      "text/plain": [
       "                    _body _date _description _head                       _id  \\\n",
       "date                                                                           \n",
       "2017-10-24 03:52:07   NaN   NaN          NaN   NaN  59eeb94332c555f2c8abb01d   \n",
       "2017-10-24 03:47:41   NaN   NaN          NaN   NaN  59eeb80b32c555f2c8abab9d   \n",
       "2017-10-24 03:45:29   NaN   NaN          NaN   NaN  59eeb79632c555f2c8aba9dd   \n",
       "2017-10-24 03:45:28   NaN   NaN          NaN   NaN  59eeb79632c555f2c8aba9df   \n",
       "2017-10-24 03:45:27   NaN   NaN          NaN   NaN  59eeb79632c555f2c8aba9e1   \n",
       "\n",
       "                    _type  absolute alarm_description  alarm_type  amount  \\\n",
       "date                                                                        \n",
       "2017-10-24 03:52:07   NaN      1.45               NaN         NaN     NaN   \n",
       "2017-10-24 03:47:41   NaN      3.45               NaN         NaN     NaN   \n",
       "2017-10-24 03:45:29   NaN      1.45               NaN         NaN     NaN   \n",
       "2017-10-24 03:45:28   NaN      1.45               NaN         NaN     NaN   \n",
       "2017-10-24 03:45:27   NaN      1.45               NaN         NaN     NaN   \n",
       "\n",
       "                     ...                                           raw_rate  \\\n",
       "date                 ...                                                      \n",
       "2017-10-24 03:52:07  ...  {'temp': 'absolute', 'timestamp': '2017-10-23T...   \n",
       "2017-10-24 03:47:41  ...  {'temp': 'absolute', 'timestamp': '2017-10-23T...   \n",
       "2017-10-24 03:45:29  ...  {'temp': 'absolute', 'timestamp': '2017-10-23T...   \n",
       "2017-10-24 03:45:28  ...  {'temp': 'absolute', 'timestamp': '2017-10-23T...   \n",
       "2017-10-24 03:45:27  ...  {'temp': 'absolute', 'timestamp': '2017-10-23T...   \n",
       "\n",
       "                     reason stale  tail  targetBottom targetTop  \\\n",
       "date                                                              \n",
       "2017-10-24 03:52:07     NaN   NaN   NaN           NaN       NaN   \n",
       "2017-10-24 03:47:41     NaN   NaN   NaN           NaN       NaN   \n",
       "2017-10-24 03:45:29     NaN   NaN   NaN           NaN       NaN   \n",
       "2017-10-24 03:45:28     NaN   NaN   NaN           NaN       NaN   \n",
       "2017-10-24 03:45:27     NaN   NaN   NaN           NaN       NaN   \n",
       "\n",
       "                              timestamp  type units wizard  \n",
       "date                                                        \n",
       "2017-10-24 03:52:07 2017-10-24 03:52:07   NaN   NaN    NaN  \n",
       "2017-10-24 03:47:41 2017-10-24 03:47:41   NaN   NaN    NaN  \n",
       "2017-10-24 03:45:29 2017-10-24 03:45:29   NaN   NaN    NaN  \n",
       "2017-10-24 03:45:28 2017-10-24 03:45:28   NaN   NaN    NaN  \n",
       "2017-10-24 03:45:27 2017-10-24 03:45:27   NaN   NaN    NaN  \n",
       "\n",
       "[5 rows x 42 columns]"
      ]
     },
     "execution_count": 109,
     "metadata": {},
     "output_type": "execute_result"
    }
   ],
   "source": [
    "df_treat.head()"
   ]
  },
  {
   "cell_type": "code",
   "execution_count": 46,
   "metadata": {},
   "outputs": [
    {
     "data": {
      "text/plain": [
       "_body                22327\n",
       "_date                22327\n",
       "_description         22327\n",
       "_head                22327\n",
       "_id                      0\n",
       "_type                22327\n",
       "absolute              3889\n",
       "alarm_description    23828\n",
       "alarm_type           23828\n",
       "amount               23014\n",
       "appended             23827\n",
       "bg                   23400\n",
       "bolus                21662\n",
       "carb_input           23816\n",
       "carbs                23378\n",
       "changed              23836\n",
       "created_at               0\n",
       "duration              1539\n",
       "enteredBy                1\n",
       "eventType                0\n",
       "fixed                23686\n",
       "glucose              22799\n",
       "glucoseType          22799\n",
       "insulin              21660\n",
       "invalid              23842\n",
       "maxBasal             23839\n",
       "medtronic              170\n",
       "notes                20712\n",
       "preBolus             23842\n",
       "rate                  3880\n",
       "ratio                23398\n",
       "raw_duration          3889\n",
       "raw_rate              3889\n",
       "reason               23674\n",
       "stale                23836\n",
       "tail                 23836\n",
       "targetBottom         23740\n",
       "targetTop            23740\n",
       "timestamp              170\n",
       "type                 23686\n",
       "units                23838\n",
       "wizard               23398\n",
       "dtype: int64"
      ]
     },
     "execution_count": 46,
     "metadata": {},
     "output_type": "execute_result"
    }
   ],
   "source": [
    "df_treat.isnull().sum()"
   ]
  },
  {
   "cell_type": "code",
   "execution_count": null,
   "metadata": {},
   "outputs": [],
   "source": [
    "cols = ['created_at', 'eventType', 'rate']"
   ]
  },
  {
   "cell_type": "code",
   "execution_count": 3,
   "metadata": {},
   "outputs": [],
   "source": [
    "def transfer_dataframe(patient_id, file_name):\n",
    "    with open(file_name) as file:\n",
    "        j_object = json.load(file)\n",
    "        df = pd.DataFrame(j_object)\n",
    "        try:\n",
    "            df['datetime'] = pd.to_datetime(df['timestamp'], utc=True)\n",
    "        except:\n",
    "            print(df['timestamp'].head())\n",
    "            return None\n",
    "            \n",
    "        df['pid'] = patient_id\n",
    "        df.sort_values(by='datetime', inplace=True)\n",
    "        df_result = df[['pid', 'datetime', 'eventType', 'insulin','carbs','absolute','rate','duration']]\n",
    "\n",
    "    return df_result"
   ]
  },
  {
   "cell_type": "code",
   "execution_count": 5,
   "metadata": {},
   "outputs": [],
   "source": [
    "## these samples have less data missing problems\n",
    "samples = ['96254963', '57176789', '20396154', '00897741',\n",
    "       '66836068', '66019205', '95851255', '97417885', '20216809',\n",
    "       '47750728', '60844515', '37764532', '43589707', '14092221',\n",
    "       '96805916', '95614431', '21946407', '37948668', '25692073',\n",
    "       '99848889', '15634563', '80796147']  "
   ]
  },
  {
   "cell_type": "code",
   "execution_count": null,
   "metadata": {},
   "outputs": [],
   "source": [
    "## merge treatment files person to person\n",
    "\n",
    "count = 0\n",
    "path = '/Users/wang/data/OpenAPS'\n",
    "for folder in samples:\n",
    "    print('PID:', folder)\n",
    "    record_path = path + '/' +folder+'/direct-sharing-31'\n",
    "    if os.path.exists(record_path):\n",
    "        files = os.listdir(record_path)\n",
    "        df_folder = pd.DataFrame([], columns=['pid', 'datetime', 'eventType', 'insulin','carbs','absolute','rate','duration'])\n",
    "        for file in files:\n",
    "            if file.find('treatments') > -1 and file.endswith('.json'):\n",
    "                print('file', file)\n",
    "                df = transfer_dataframe(folder, record_path+'/'+file)\n",
    "                if df is None:\n",
    "                    continue\n",
    "                df_folder = df_folder.append(df)\n",
    "#         print('before drop', len(df_folder))\n",
    "#         df_folder.drop_duplicates('datetime',inplace = True)\n",
    "#         print('after drop', len(df_folder))\n",
    "#         print('saving result...')\n",
    "        pickle.dump(df_folder, open(path + '/treat_dfs/'+folder+'_treats.pkl', 'wb'))\n",
    "# z\n"
   ]
  },
  {
   "cell_type": "code",
   "execution_count": null,
   "metadata": {},
   "outputs": [
    {
     "name": "stdout",
     "output_type": "stream",
     "text": [
      "        pid    sgv eventType insulin carbs absolute rate duration\n",
      "0  27700103  134.0       NaN     NaN   NaN      NaN  NaN      NaN\n",
      "1  27700103  138.0       NaN     NaN   NaN      NaN  NaN      NaN\n",
      "2  27700103  148.0       NaN     NaN   NaN      NaN  NaN      NaN\n",
      "        pid    sgv   eventType  insulin  carbs  absolute rate  duration\n",
      "0  96254963  165.0  Temp Basal      NaN    NaN       0.0    0      30.0\n",
      "1  96254963  165.0  Temp Basal      NaN    NaN       0.0    0      60.0\n",
      "2  96254963  165.0  Temp Basal      NaN    NaN       0.0    0      30.0\n",
      "        pid  sgv   eventType  insulin  carbs  absolute rate  duration\n",
      "0  57176789  118  Temp Basal      NaN    NaN       0.8  0.8      30.0\n",
      "1  57176789  118  Temp Basal      NaN    NaN       1.2  1.2      30.0\n",
      "2  57176789  118  Temp Basal      NaN    NaN       1.9  1.9      30.0\n",
      "        pid  sgv   eventType  insulin  carbs  absolute  rate  duration\n",
      "0  20396154  220  Temp Basal      NaN    NaN      0.00     0       0.0\n",
      "1  20396154  220  Temp Basal      NaN    NaN      0.45  0.45      30.0\n",
      "2  20396154  220  Temp Basal      NaN    NaN      1.40   1.4      30.0\n",
      "        pid  sgv   eventType  insulin  carbs  absolute   rate  duration\n",
      "0  00897741  118  Temp Basal      NaN    NaN     0.575  0.575      30.0\n",
      "1  00897741  118  Temp Basal      NaN    NaN     0.000      0      60.0\n",
      "2  00897741  118  Temp Basal      NaN    NaN     0.000      0      60.0\n",
      "        pid    sgv   eventType  insulin  carbs  absolute   rate  duration\n",
      "0  66836068  157.0  Temp Basal      NaN    NaN     0.975  0.975      30.0\n",
      "1  66836068  157.0  Temp Basal      NaN    NaN     0.000      0      60.0\n",
      "2  66836068  157.0  Temp Basal      NaN    NaN     1.000      1      30.0\n",
      "        pid    sgv   eventType  insulin  carbs  absolute  rate  duration\n",
      "0  66019205  224.0  Temp Basal      NaN    NaN      0.55  0.55      30.0\n",
      "1  66019205  224.0  Temp Basal      NaN    NaN      0.35  0.35      30.0\n",
      "2  66019205  224.0    BG Check      NaN    NaN       NaN   NaN       NaN\n",
      "        pid    sgv         eventType  insulin  carbs  absolute rate  duration\n",
      "0  95851255  136.0  Correction Bolus      1.5    NaN       NaN  NaN       0.0\n",
      "1  95851255  136.0        Temp Basal      NaN    NaN       0.0    0      60.0\n",
      "2  95851255  136.0        Temp Basal      NaN    NaN       0.0    0      60.0\n",
      "        pid    sgv   eventType  insulin  carbs  absolute  rate  duration\n",
      "0  97417885  269.0  Temp Basal      NaN    NaN      0.85  0.85      30.0\n",
      "1  97417885  269.0  Temp Basal      NaN    NaN      0.35  0.35      30.0\n",
      "2  97417885  269.0  Meal Bolus      4.6   70.0       NaN   NaN       0.0\n",
      "        pid    sgv   eventType  insulin  carbs  absolute  rate  duration\n",
      "0  20216809  119.0  Temp Basal      NaN    NaN      1.25  1.25      30.0\n",
      "1  20216809  119.0  Temp Basal      NaN    NaN      0.75  0.75      30.0\n",
      "2  20216809  119.0        Note      NaN    NaN       NaN   NaN       NaN\n",
      "        pid  sgv         eventType  insulin  carbs  absolute  rate  duration\n",
      "0  47750728  124        Temp Basal      NaN    NaN      0.95  0.95      30.0\n",
      "1  47750728  124  Correction Bolus      0.1    NaN       NaN   NaN       0.0\n",
      "2  47750728  124        Temp Basal      NaN    NaN      0.00     0      90.0\n",
      "        pid  sgv   eventType  insulin  carbs  absolute rate  duration\n",
      "0  60844515  204  Temp Basal      NaN    NaN       0.6  0.6      30.0\n",
      "1  60844515  204  Temp Basal      NaN    NaN       0.6  0.6      30.0\n",
      "2  60844515  204  Temp Basal      NaN    NaN       0.6  0.6      30.0\n",
      "        pid  sgv   eventType  insulin  carbs  absolute  rate  duration\n",
      "0  37764532  208  Temp Basal      NaN    NaN      0.65  0.65      30.0\n",
      "1  37764532  208  Temp Basal      NaN    NaN      0.85  0.85      30.0\n",
      "2  37764532  208  Temp Basal      NaN    NaN      1.00     1      30.0\n",
      "        pid    sgv   eventType  insulin  carbs  absolute rate  duration\n",
      "0  43589707  152.0  Temp Basal      NaN    NaN       0.9  0.9      30.0\n",
      "1  43589707  152.0  Temp Basal      NaN    NaN       0.9  0.9      30.0\n",
      "2  43589707  152.0  Temp Basal      NaN    NaN       0.9  0.9      30.0\n"
     ]
    }
   ],
   "source": [
    "# Synthesize treatment with entries\n",
    "\n",
    "path_treat = '/Users/wang/data/OpenAPS/treat_dfs'\n",
    "path_entries = '/Users/wang/data/OpenAPS/entry_dfs'\n",
    "start_date = '2018-01-01'\n",
    "end_date = '2018-01-31'\n",
    "\n",
    "dfs = []\n",
    "for sample in samples:\n",
    "    #treats\n",
    "    df_t = pickle.load(open(path_treat+'/'+sample+'_treats.pkl', 'rb'))\n",
    "    df_t.set_index('datetime', inplace=True)\n",
    "    df_t = df_t.tz_convert(None)\n",
    "    df_t_2018 = df_t[start_date:end_date]\n",
    "    #bg entries\n",
    "    df_e = pickle.load(open(path_entries+'/'+sample+'_entries.pkl', 'rb'))\n",
    "    df_e.set_index('datetime', inplace=True)\n",
    "    df_e = df_e.tz_convert(None)\n",
    "    df_e_2018 = df_e[start_date:end_date]\n",
    "    \n",
    "    df_2018 = pd.merge(df_e_2018,df_t_2018, on = 'pid', how='left' )\n",
    "    df_2018.sort_index(inplace = True)\n",
    "    print(df_2018.head(3))\n",
    "    dfs.append(df_2018)\n",
    "    \n",
    "dfs_all = pd.concat(dfs)\n",
    "pickle.dump(df_folder, open('/Users/wang/data/OpenAPS/sample_entry_treats.pkl', 'wb'))\n"
   ]
  },
  {
   "cell_type": "code",
   "execution_count": 22,
   "metadata": {},
   "outputs": [
    {
     "data": {
      "text/plain": [
       "count    1.645022e+07\n",
       "mean     3.332370e+01\n",
       "std      4.195641e+01\n",
       "min      0.000000e+00\n",
       "25%      3.000000e+01\n",
       "50%      3.000000e+01\n",
       "75%      3.000000e+01\n",
       "max      7.200000e+02\n",
       "Name: duration, dtype: float64"
      ]
     },
     "execution_count": 22,
     "metadata": {},
     "output_type": "execute_result"
    }
   ],
   "source": [
    "dfs_all['duration'].describe()"
   ]
  },
  {
   "cell_type": "code",
   "execution_count": 45,
   "metadata": {},
   "outputs": [
    {
     "data": {
      "text/plain": [
       "Index(['absolute', 'carbs', 'eventType', 'glucose', 'insulin', 'notes', 'pid',\n",
       "       'rate', 'ratio'],\n",
       "      dtype='object')"
      ]
     },
     "execution_count": 45,
     "metadata": {},
     "output_type": "execute_result"
    }
   ],
   "source": [
    "treats_df.columns"
   ]
  },
  {
   "cell_type": "code",
   "execution_count": 23,
   "metadata": {},
   "outputs": [
    {
     "ename": "NameError",
     "evalue": "name 'treats_df' is not defined",
     "output_type": "error",
     "traceback": [
      "\u001b[0;31m---------------------------------------------------------------------------\u001b[0m",
      "\u001b[0;31mNameError\u001b[0m                                 Traceback (most recent call last)",
      "\u001b[0;32m<ipython-input-23-50740a39e99f>\u001b[0m in \u001b[0;36m<module>\u001b[0;34m\u001b[0m\n\u001b[0;32m----> 1\u001b[0;31m \u001b[0mtreats_df\u001b[0m\u001b[0;34m[\u001b[0m\u001b[0;34m'eventType'\u001b[0m\u001b[0;34m]\u001b[0m\u001b[0;34m.\u001b[0m\u001b[0munique\u001b[0m\u001b[0;34m(\u001b[0m\u001b[0;34m)\u001b[0m\u001b[0;34m\u001b[0m\u001b[0;34m\u001b[0m\u001b[0m\n\u001b[0m",
      "\u001b[0;31mNameError\u001b[0m: name 'treats_df' is not defined"
     ]
    }
   ],
   "source": [
    "treats_df['eventType'].unique()"
   ]
  },
  {
   "cell_type": "code",
   "execution_count": 44,
   "metadata": {},
   "outputs": [
    {
     "data": {
      "text/html": [
       "<div>\n",
       "<style scoped>\n",
       "    .dataframe tbody tr th:only-of-type {\n",
       "        vertical-align: middle;\n",
       "    }\n",
       "\n",
       "    .dataframe tbody tr th {\n",
       "        vertical-align: top;\n",
       "    }\n",
       "\n",
       "    .dataframe thead th {\n",
       "        text-align: right;\n",
       "    }\n",
       "</style>\n",
       "<table border=\"1\" class=\"dataframe\">\n",
       "  <thead>\n",
       "    <tr style=\"text-align: right;\">\n",
       "      <th></th>\n",
       "      <th>pid</th>\n",
       "      <th>sgv</th>\n",
       "    </tr>\n",
       "  </thead>\n",
       "  <tbody>\n",
       "    <tr>\n",
       "      <th>count</th>\n",
       "      <td>336123</td>\n",
       "      <td>334934.0</td>\n",
       "    </tr>\n",
       "    <tr>\n",
       "      <th>unique</th>\n",
       "      <td>41</td>\n",
       "      <td>373.0</td>\n",
       "    </tr>\n",
       "    <tr>\n",
       "      <th>top</th>\n",
       "      <td>74077367</td>\n",
       "      <td>110.0</td>\n",
       "    </tr>\n",
       "    <tr>\n",
       "      <th>freq</th>\n",
       "      <td>16951</td>\n",
       "      <td>3628.0</td>\n",
       "    </tr>\n",
       "  </tbody>\n",
       "</table>\n",
       "</div>"
      ],
      "text/plain": [
       "             pid       sgv\n",
       "count     336123  334934.0\n",
       "unique        41     373.0\n",
       "top     74077367     110.0\n",
       "freq       16951    3628.0"
      ]
     },
     "execution_count": 44,
     "metadata": {},
     "output_type": "execute_result"
    }
   ],
   "source": [
    "entries_df.describe()"
   ]
  },
  {
   "cell_type": "code",
   "execution_count": null,
   "metadata": {},
   "outputs": [],
   "source": [
    "df_2018_1 = pd.merge(treats_df, entries_df, on='pid')"
   ]
  }
 ],
 "metadata": {
  "kernelspec": {
   "display_name": "Python 3",
   "language": "python",
   "name": "python3"
  },
  "language_info": {
   "codemirror_mode": {
    "name": "ipython",
    "version": 3
   },
   "file_extension": ".py",
   "mimetype": "text/x-python",
   "name": "python",
   "nbconvert_exporter": "python",
   "pygments_lexer": "ipython3",
   "version": "3.5.3"
  }
 },
 "nbformat": 4,
 "nbformat_minor": 2
}
