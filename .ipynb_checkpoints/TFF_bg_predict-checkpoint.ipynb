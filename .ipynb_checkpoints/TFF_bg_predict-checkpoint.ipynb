{
 "cells": [
  {
   "cell_type": "code",
   "execution_count": 7,
   "metadata": {},
   "outputs": [],
   "source": [
    "from __future__ import absolute_import, division, print_function\n",
    "\n",
    "\n",
    "import collections\n",
    "from six.moves import range\n",
    "import numpy as np\n",
    "import tensorflow as tf\n",
    "from tensorflow.python.keras.optimizer_v2 import gradient_descent\n",
    "from tensorflow_federated import python as tff\n",
    "from keras.models import Sequential, load_model\n",
    "import _pickle as pickle"
   ]
  },
  {
   "cell_type": "code",
   "execution_count": 37,
   "metadata": {},
   "outputs": [],
   "source": [
    "## load pretrained model 15032019-164754-e60.h5\n",
    "saved_model = load_model('saved_models/18032019-145400-e60.h5')\n"
   ]
  },
  {
   "cell_type": "code",
   "execution_count": 29,
   "metadata": {},
   "outputs": [],
   "source": [
    "# import data from two clients\n",
    "\n",
    "def load_entries_df(filename):\n",
    "    dataframe = pickle.load(open(filename, 'rb'))\n",
    "    return dataframe\n",
    "#     maxBG = np.max(dataframe['sgv'])+1\n",
    "#     data_train = dataframe[dataframe['datetime']<splitdate].reset_index()[cols].values\n",
    "#     data_test  = dataframe[dataframe['datetime']>=splitdate].reset_index()[cols].values\n",
    "        \n",
    "def prepare_input(bg_list, maxlen, step=1, maxBG=420):\n",
    "    windows = []\n",
    "    next_bgs = []\n",
    "    for i in range(0, len(bg_list) - maxlen, step):\n",
    "        windows.append(bg_list[i: i + maxlen])\n",
    "        next_bgs.append(bg_list[i + maxlen])\n",
    "    x = np.zeros((len(bg_list), maxlen, maxBG), dtype=np.bool)\n",
    "    y = np.zeros((len(bg_list), maxBG), dtype=np.bool)\n",
    "    for i, window in enumerate(windows):\n",
    "        for t, bg in enumerate(window):\n",
    "            x[i, t, bg] = 1\n",
    "        y[i, next_bgs[i]] = 1\n",
    "    return x,y"
   ]
  },
  {
   "cell_type": "code",
   "execution_count": 33,
   "metadata": {},
   "outputs": [],
   "source": [
    "entries_28176124 = load_entries_df('data/28176124_entries__to_2018-11-05_df.pkl')"
   ]
  },
  {
   "cell_type": "code",
   "execution_count": 31,
   "metadata": {},
   "outputs": [],
   "source": [
    "x,y = prepare_input(entries['sgv'].values, 12)"
   ]
  },
  {
   "cell_type": "code",
   "execution_count": 40,
   "metadata": {},
   "outputs": [
    {
     "ename": "TypeError",
     "evalue": "Expected tensorflow.python.keras.engine.training.Model, found keras.engine.sequential.Sequential.",
     "output_type": "error",
     "traceback": [
      "\u001b[0;31m---------------------------------------------------------------------------\u001b[0m",
      "\u001b[0;31mTypeError\u001b[0m                                 Traceback (most recent call last)",
      "\u001b[0;32m<ipython-input-40-caa888543c81>\u001b[0m in \u001b[0;36m<module>\u001b[0;34m\u001b[0m\n\u001b[1;32m      1\u001b[0m \u001b[0;31m# load existing keras model in TFF\u001b[0m\u001b[0;34m\u001b[0m\u001b[0;34m\u001b[0m\u001b[0;34m\u001b[0m\u001b[0m\n\u001b[0;32m----> 2\u001b[0;31m \u001b[0meixt_model\u001b[0m \u001b[0;34m=\u001b[0m \u001b[0mtff\u001b[0m\u001b[0;34m.\u001b[0m\u001b[0mlearning\u001b[0m\u001b[0;34m.\u001b[0m\u001b[0mfrom_keras_model\u001b[0m\u001b[0;34m(\u001b[0m\u001b[0msaved_model\u001b[0m\u001b[0;34m,\u001b[0m \u001b[0;36m1\u001b[0m\u001b[0;34m,\u001b[0m\u001b[0;34m''\u001b[0m\u001b[0;34m)\u001b[0m\u001b[0;34m\u001b[0m\u001b[0;34m\u001b[0m\u001b[0m\n\u001b[0m",
      "\u001b[0;32m/usr/local/lib/python3.7/site-packages/tensorflow_federated/python/learning/model_utils.py\u001b[0m in \u001b[0;36mfrom_keras_model\u001b[0;34m(keras_model, dummy_batch, loss, metrics, optimizer)\u001b[0m\n\u001b[1;32m    158\u001b[0m     \u001b[0mValueError\u001b[0m\u001b[0;34m:\u001b[0m \u001b[0;32mif\u001b[0m\u001b[0;31m \u001b[0m\u001b[0;31m`\u001b[0m\u001b[0mkeras_model\u001b[0m\u001b[0;31m`\u001b[0m \u001b[0mwas\u001b[0m \u001b[0mcompiled\u001b[0m\u001b[0;34m.\u001b[0m\u001b[0;34m\u001b[0m\u001b[0;34m\u001b[0m\u001b[0m\n\u001b[1;32m    159\u001b[0m   \"\"\"\n\u001b[0;32m--> 160\u001b[0;31m   \u001b[0mpy_typecheck\u001b[0m\u001b[0;34m.\u001b[0m\u001b[0mcheck_type\u001b[0m\u001b[0;34m(\u001b[0m\u001b[0mkeras_model\u001b[0m\u001b[0;34m,\u001b[0m \u001b[0mtf\u001b[0m\u001b[0;34m.\u001b[0m\u001b[0mkeras\u001b[0m\u001b[0;34m.\u001b[0m\u001b[0mModel\u001b[0m\u001b[0;34m)\u001b[0m\u001b[0;34m\u001b[0m\u001b[0;34m\u001b[0m\u001b[0m\n\u001b[0m\u001b[1;32m    161\u001b[0m   \u001b[0;32mif\u001b[0m \u001b[0mkeras_model\u001b[0m\u001b[0;34m.\u001b[0m\u001b[0m_is_compiled\u001b[0m\u001b[0;34m:\u001b[0m  \u001b[0;31m# pylint: disable=protected-access\u001b[0m\u001b[0;34m\u001b[0m\u001b[0;34m\u001b[0m\u001b[0m\n\u001b[1;32m    162\u001b[0m     raise ValueError('`keras_model` must not be compiled. Use '\n",
      "\u001b[0;32m/usr/local/lib/python3.7/site-packages/tensorflow_federated/python/common_libs/py_typecheck.py\u001b[0m in \u001b[0;36mcheck_type\u001b[0;34m(target, type_spec, label)\u001b[0m\n\u001b[1;32m     43\u001b[0m     raise TypeError('Expected {}{}, found {}.'.format(\n\u001b[1;32m     44\u001b[0m         \u001b[0;34m'{} to be of type '\u001b[0m\u001b[0;34m.\u001b[0m\u001b[0mformat\u001b[0m\u001b[0;34m(\u001b[0m\u001b[0mlabel\u001b[0m\u001b[0;34m)\u001b[0m \u001b[0;32mif\u001b[0m \u001b[0mlabel\u001b[0m \u001b[0;32mis\u001b[0m \u001b[0;32mnot\u001b[0m \u001b[0;32mNone\u001b[0m \u001b[0;32melse\u001b[0m \u001b[0;34m''\u001b[0m\u001b[0;34m,\u001b[0m\u001b[0;34m\u001b[0m\u001b[0;34m\u001b[0m\u001b[0m\n\u001b[0;32m---> 45\u001b[0;31m         type_string(type_spec), type_string(type(target))))\n\u001b[0m\u001b[1;32m     46\u001b[0m   \u001b[0;32mreturn\u001b[0m \u001b[0mtarget\u001b[0m\u001b[0;34m\u001b[0m\u001b[0;34m\u001b[0m\u001b[0m\n\u001b[1;32m     47\u001b[0m \u001b[0;34m\u001b[0m\u001b[0m\n",
      "\u001b[0;31mTypeError\u001b[0m: Expected tensorflow.python.keras.engine.training.Model, found keras.engine.sequential.Sequential."
     ]
    }
   ],
   "source": [
    "# load existing keras model in TFF \n",
    "eixt_model = tff.learning.from_keras_model(saved_model, 1,'')"
   ]
  },
  {
   "cell_type": "code",
   "execution_count": null,
   "metadata": {},
   "outputs": [],
   "source": []
  }
 ],
 "metadata": {
  "kernelspec": {
   "display_name": "Python 3",
   "language": "python",
   "name": "python3"
  },
  "language_info": {
   "codemirror_mode": {
    "name": "ipython",
    "version": 3
   },
   "file_extension": ".py",
   "mimetype": "text/x-python",
   "name": "python",
   "nbconvert_exporter": "python",
   "pygments_lexer": "ipython3",
   "version": "3.7.2"
  }
 },
 "nbformat": 4,
 "nbformat_minor": 2
}
