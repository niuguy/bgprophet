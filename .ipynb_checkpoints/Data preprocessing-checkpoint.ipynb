{
 "cells": [
  {
   "cell_type": "code",
   "execution_count": 3,
   "metadata": {},
   "outputs": [],
   "source": [
    "import sys\n",
    "import os\n",
    "import gzip\n",
    "import shutil\n",
    "import json\n",
    "import pandas as pd\n",
    "import _pickle as pickle\n",
    "import numpy as np\n",
    "%matplotlib inline"
   ]
  },
  {
   "cell_type": "markdown",
   "metadata": {},
   "source": [
    "## Preprocess treatment data"
   ]
  },
  {
   "cell_type": "code",
   "execution_count": 19,
   "metadata": {},
   "outputs": [],
   "source": [
    "def transfer_dataframe(patient_id, file_name):\n",
    "    with open(file_name) as file:\n",
    "        j_object = json.load(file)\n",
    "        df = pd.DataFrame(j_object)\n",
    "        try:\n",
    "            df['datetime'] = pd.to_datetime(df['timestamp'], utc=True)\n",
    "        except:\n",
    "            print(df['timestamp'].head())\n",
    "            return None\n",
    "            \n",
    "#         df.set_index('datetime', inplace = True)\n",
    "        df['pid'] = patient_id\n",
    "        df.sort_values(by='datetime', inplace=True)\n",
    "        df_result = df[['pid', 'datetime', 'eventType', 'insulin','carbs','absolute','rate','duration']]\n",
    "\n",
    "    return df_result"
   ]
  },
  {
   "cell_type": "code",
   "execution_count": 20,
   "metadata": {},
   "outputs": [
    {
     "name": "stdout",
     "output_type": "stream",
     "text": [
      "PID: 27700103\n",
      "file treatments_2017-06-05_to_2018-02-17.json\n",
      "0    NaN\n",
      "1    NaN\n",
      "2    NaN\n",
      "3    NaN\n",
      "4    NaN\n",
      "Name: timestamp, dtype: object\n",
      "saving result...\n",
      "done for 27700103\n",
      "----------------------\n",
      "PID: 96254963\n",
      "file treatments__to_2018-05-25.json\n",
      "saving result...\n",
      "done for 96254963\n",
      "----------------------\n",
      "PID: 57176789\n",
      "file treatments.json\n",
      "file treatments__to_2018-04-14.json\n",
      "saving result...\n",
      "done for 57176789\n",
      "----------------------\n",
      "PID: 20396154\n",
      "file treatments__to_2018-07-23.json\n",
      "file treatments__to_2018-12-20.json\n",
      "file treatments__to_2018-06-13.json\n",
      "file treatments__to_2018-01-17.json\n",
      "file treatments__to_2018-04-21.json\n",
      "file treatments__to_2018-02-18.json\n",
      "saving result...\n",
      "done for 20396154\n",
      "----------------------\n",
      "PID: 00897741\n",
      "file treatments.json\n",
      "file treatments__to_2018-02-01.json\n",
      "saving result...\n",
      "done for 00897741\n",
      "----------------------\n",
      "PID: 66836068\n",
      "file treatments__to_2018-03-23.json\n",
      "saving result...\n",
      "done for 66836068\n",
      "----------------------\n",
      "PID: 66019205\n",
      "file treatments_2017-10-09_to_2017-11-19.json\n",
      "file treatments__to_2018-02-27.json\n",
      "saving result...\n",
      "done for 66019205\n",
      "----------------------\n",
      "PID: 95851255\n",
      "file treatments_2018-02-11_to_2018-06-19.json\n",
      "file treatments__to_2018-02-11.json\n",
      "saving result...\n",
      "done for 95851255\n",
      "----------------------\n",
      "PID: 97417885\n",
      "file treatments__to_2017-10-26.json\n",
      "file treatments__to_2018-02-22.json\n",
      "saving result...\n",
      "done for 97417885\n",
      "----------------------\n",
      "PID: 20216809\n",
      "file treatments__to_2017-10-11.json\n",
      "file treatments__to_2018-03-27.json\n",
      "file treatments_2018-05-13_to_2018-07-11.json\n",
      "file treatments_2018-03-27_to_2018-05-13.json\n",
      "saving result...\n",
      "done for 20216809\n",
      "----------------------\n",
      "PID: 47750728\n",
      "file treatments.json\n",
      "file treatments__to_2018-02-21.json\n",
      "file treatments__to_2018-04-02.json\n",
      "file treatments__to_2018-07-01.json\n",
      "file treatments__to_2018-09-25.json\n",
      "file treatments__to_2018-01-12.json\n",
      "file treatments__to_2018-05-07.json\n",
      "saving result...\n",
      "done for 47750728\n",
      "----------------------\n",
      "PID: 60844515\n",
      "file treatments_2018-07-22_to_2018-10-22.json\n",
      "file treatments_2018-04-04_to_2018-04-06.json\n",
      "file treatments__to_2018-04-06.json\n",
      "saving result...\n",
      "done for 60844515\n",
      "----------------------\n",
      "PID: 37764532\n",
      "file treatments__to_2018-07-10.json\n",
      "saving result...\n",
      "done for 37764532\n",
      "----------------------\n",
      "PID: 43589707\n",
      "file treatments.json\n",
      "file treatments_2018-04-24_to_2018-06-07.json\n",
      "file treatments_2017-12-24_to_2018-04-23.json\n",
      "file treatments__to_2017-12-24.json\n",
      "file treatments_2018-06-08_to_2018-10-27.json\n",
      "saving result...\n",
      "done for 43589707\n",
      "----------------------\n",
      "PID: 14092221\n",
      "file treatments.json\n",
      "file treatments_2017-02-01_to_2018-12-18.json\n",
      "saving result...\n",
      "done for 14092221\n",
      "----------------------\n",
      "PID: 96805916\n",
      "file treatments.json\n",
      "file treatments_2018-05-29_to_2018-10-29.json\n",
      "file treatments_2017-09-27_to_2018-04-09.json\n",
      "file treatments_2018-04-09_to_2018-05-27.json\n",
      "saving result...\n",
      "done for 96805916\n",
      "----------------------\n",
      "PID: 95614431\n",
      "file treatments_2018-01-01_to_2018-03-01.json\n",
      "saving result...\n",
      "done for 95614431\n",
      "----------------------\n",
      "PID: 21946407\n",
      "file treatments_2017-11-25_to_2018-02-15.json\n",
      "file treatments_2018-02-15_to_2018-04-01.json\n",
      "file treatments__to_2017-11-25.json\n",
      "saving result...\n",
      "done for 21946407\n",
      "----------------------\n",
      "PID: 37948668\n",
      "file treatments_2018-03-19_to_2018-06-06.json\n",
      "file treatments_2018-01-11_to_2018-03-19.json\n",
      "file treatments__to_2017-11-25.json\n",
      "file treatments_2018-06-06_to_2018-07-23.json\n",
      "file treatments_2017-11-25_to_2018-01-11.json\n",
      "saving result...\n",
      "done for 37948668\n",
      "----------------------\n",
      "PID: 25692073\n",
      "file treatments_2018-01-01_to_2018-05-11.json\n"
     ]
    },
    {
     "ename": "KeyError",
     "evalue": "\"['rate'] not in index\"",
     "output_type": "error",
     "traceback": [
      "\u001b[0;31m---------------------------------------------------------------------------\u001b[0m",
      "\u001b[0;31mKeyError\u001b[0m                                  Traceback (most recent call last)",
      "\u001b[0;32m<ipython-input-20-5a5ec41867a8>\u001b[0m in \u001b[0;36m<module>\u001b[0;34m\u001b[0m\n\u001b[1;32m     16\u001b[0m             \u001b[0;32mif\u001b[0m \u001b[0mfile\u001b[0m\u001b[0;34m.\u001b[0m\u001b[0mfind\u001b[0m\u001b[0;34m(\u001b[0m\u001b[0;34m'treatments'\u001b[0m\u001b[0;34m)\u001b[0m \u001b[0;34m>\u001b[0m \u001b[0;34m-\u001b[0m\u001b[0;36m1\u001b[0m \u001b[0;32mand\u001b[0m \u001b[0mfile\u001b[0m\u001b[0;34m.\u001b[0m\u001b[0mendswith\u001b[0m\u001b[0;34m(\u001b[0m\u001b[0;34m'.json'\u001b[0m\u001b[0;34m)\u001b[0m\u001b[0;34m:\u001b[0m\u001b[0;34m\u001b[0m\u001b[0;34m\u001b[0m\u001b[0m\n\u001b[1;32m     17\u001b[0m                 \u001b[0mprint\u001b[0m\u001b[0;34m(\u001b[0m\u001b[0;34m'file'\u001b[0m\u001b[0;34m,\u001b[0m \u001b[0mfile\u001b[0m\u001b[0;34m)\u001b[0m\u001b[0;34m\u001b[0m\u001b[0;34m\u001b[0m\u001b[0m\n\u001b[0;32m---> 18\u001b[0;31m                 \u001b[0mdf\u001b[0m \u001b[0;34m=\u001b[0m \u001b[0mtransfer_dataframe\u001b[0m\u001b[0;34m(\u001b[0m\u001b[0mfolder\u001b[0m\u001b[0;34m,\u001b[0m \u001b[0mrecord_path\u001b[0m\u001b[0;34m+\u001b[0m\u001b[0;34m'/'\u001b[0m\u001b[0;34m+\u001b[0m\u001b[0mfile\u001b[0m\u001b[0;34m)\u001b[0m\u001b[0;34m\u001b[0m\u001b[0;34m\u001b[0m\u001b[0m\n\u001b[0m\u001b[1;32m     19\u001b[0m                 \u001b[0;32mif\u001b[0m \u001b[0mdf\u001b[0m \u001b[0;32mis\u001b[0m \u001b[0;32mNone\u001b[0m\u001b[0;34m:\u001b[0m\u001b[0;34m\u001b[0m\u001b[0;34m\u001b[0m\u001b[0m\n\u001b[1;32m     20\u001b[0m                     \u001b[0;32mcontinue\u001b[0m\u001b[0;34m\u001b[0m\u001b[0;34m\u001b[0m\u001b[0m\n",
      "\u001b[0;32m<ipython-input-19-6fcfc0cfe40a>\u001b[0m in \u001b[0;36mtransfer_dataframe\u001b[0;34m(patient_id, file_name)\u001b[0m\n\u001b[1;32m     12\u001b[0m         \u001b[0mdf\u001b[0m\u001b[0;34m[\u001b[0m\u001b[0;34m'pid'\u001b[0m\u001b[0;34m]\u001b[0m \u001b[0;34m=\u001b[0m \u001b[0mpatient_id\u001b[0m\u001b[0;34m\u001b[0m\u001b[0;34m\u001b[0m\u001b[0m\n\u001b[1;32m     13\u001b[0m         \u001b[0mdf\u001b[0m\u001b[0;34m.\u001b[0m\u001b[0msort_values\u001b[0m\u001b[0;34m(\u001b[0m\u001b[0mby\u001b[0m\u001b[0;34m=\u001b[0m\u001b[0;34m'datetime'\u001b[0m\u001b[0;34m,\u001b[0m \u001b[0minplace\u001b[0m\u001b[0;34m=\u001b[0m\u001b[0;32mTrue\u001b[0m\u001b[0;34m)\u001b[0m\u001b[0;34m\u001b[0m\u001b[0;34m\u001b[0m\u001b[0m\n\u001b[0;32m---> 14\u001b[0;31m         \u001b[0mdf_result\u001b[0m \u001b[0;34m=\u001b[0m \u001b[0mdf\u001b[0m\u001b[0;34m[\u001b[0m\u001b[0;34m[\u001b[0m\u001b[0;34m'pid'\u001b[0m\u001b[0;34m,\u001b[0m \u001b[0;34m'datetime'\u001b[0m\u001b[0;34m,\u001b[0m \u001b[0;34m'eventType'\u001b[0m\u001b[0;34m,\u001b[0m \u001b[0;34m'insulin'\u001b[0m\u001b[0;34m,\u001b[0m\u001b[0;34m'carbs'\u001b[0m\u001b[0;34m,\u001b[0m\u001b[0;34m'absolute'\u001b[0m\u001b[0;34m,\u001b[0m\u001b[0;34m'rate'\u001b[0m\u001b[0;34m,\u001b[0m\u001b[0;34m'duration'\u001b[0m\u001b[0;34m]\u001b[0m\u001b[0;34m]\u001b[0m\u001b[0;34m\u001b[0m\u001b[0;34m\u001b[0m\u001b[0m\n\u001b[0m\u001b[1;32m     15\u001b[0m \u001b[0;34m\u001b[0m\u001b[0m\n\u001b[1;32m     16\u001b[0m     \u001b[0;32mreturn\u001b[0m \u001b[0mdf_result\u001b[0m\u001b[0;34m\u001b[0m\u001b[0;34m\u001b[0m\u001b[0m\n",
      "\u001b[0;32m/usr/local/lib/python3.7/site-packages/pandas/core/frame.py\u001b[0m in \u001b[0;36m__getitem__\u001b[0;34m(self, key)\u001b[0m\n\u001b[1;32m   2932\u001b[0m                 \u001b[0mkey\u001b[0m \u001b[0;34m=\u001b[0m \u001b[0mlist\u001b[0m\u001b[0;34m(\u001b[0m\u001b[0mkey\u001b[0m\u001b[0;34m)\u001b[0m\u001b[0;34m\u001b[0m\u001b[0;34m\u001b[0m\u001b[0m\n\u001b[1;32m   2933\u001b[0m             indexer = self.loc._convert_to_indexer(key, axis=1,\n\u001b[0;32m-> 2934\u001b[0;31m                                                    raise_missing=True)\n\u001b[0m\u001b[1;32m   2935\u001b[0m \u001b[0;34m\u001b[0m\u001b[0m\n\u001b[1;32m   2936\u001b[0m         \u001b[0;31m# take() does not accept boolean indexers\u001b[0m\u001b[0;34m\u001b[0m\u001b[0;34m\u001b[0m\u001b[0;34m\u001b[0m\u001b[0m\n",
      "\u001b[0;32m/usr/local/lib/python3.7/site-packages/pandas/core/indexing.py\u001b[0m in \u001b[0;36m_convert_to_indexer\u001b[0;34m(self, obj, axis, is_setter, raise_missing)\u001b[0m\n\u001b[1;32m   1352\u001b[0m                 kwargs = {'raise_missing': True if is_setter else\n\u001b[1;32m   1353\u001b[0m                           raise_missing}\n\u001b[0;32m-> 1354\u001b[0;31m                 \u001b[0;32mreturn\u001b[0m \u001b[0mself\u001b[0m\u001b[0;34m.\u001b[0m\u001b[0m_get_listlike_indexer\u001b[0m\u001b[0;34m(\u001b[0m\u001b[0mobj\u001b[0m\u001b[0;34m,\u001b[0m \u001b[0maxis\u001b[0m\u001b[0;34m,\u001b[0m \u001b[0;34m**\u001b[0m\u001b[0mkwargs\u001b[0m\u001b[0;34m)\u001b[0m\u001b[0;34m[\u001b[0m\u001b[0;36m1\u001b[0m\u001b[0;34m]\u001b[0m\u001b[0;34m\u001b[0m\u001b[0;34m\u001b[0m\u001b[0m\n\u001b[0m\u001b[1;32m   1355\u001b[0m         \u001b[0;32melse\u001b[0m\u001b[0;34m:\u001b[0m\u001b[0;34m\u001b[0m\u001b[0;34m\u001b[0m\u001b[0m\n\u001b[1;32m   1356\u001b[0m             \u001b[0;32mtry\u001b[0m\u001b[0;34m:\u001b[0m\u001b[0;34m\u001b[0m\u001b[0;34m\u001b[0m\u001b[0m\n",
      "\u001b[0;32m/usr/local/lib/python3.7/site-packages/pandas/core/indexing.py\u001b[0m in \u001b[0;36m_get_listlike_indexer\u001b[0;34m(self, key, axis, raise_missing)\u001b[0m\n\u001b[1;32m   1159\u001b[0m         self._validate_read_indexer(keyarr, indexer,\n\u001b[1;32m   1160\u001b[0m                                     \u001b[0mo\u001b[0m\u001b[0;34m.\u001b[0m\u001b[0m_get_axis_number\u001b[0m\u001b[0;34m(\u001b[0m\u001b[0maxis\u001b[0m\u001b[0;34m)\u001b[0m\u001b[0;34m,\u001b[0m\u001b[0;34m\u001b[0m\u001b[0;34m\u001b[0m\u001b[0m\n\u001b[0;32m-> 1161\u001b[0;31m                                     raise_missing=raise_missing)\n\u001b[0m\u001b[1;32m   1162\u001b[0m         \u001b[0;32mreturn\u001b[0m \u001b[0mkeyarr\u001b[0m\u001b[0;34m,\u001b[0m \u001b[0mindexer\u001b[0m\u001b[0;34m\u001b[0m\u001b[0;34m\u001b[0m\u001b[0m\n\u001b[1;32m   1163\u001b[0m \u001b[0;34m\u001b[0m\u001b[0m\n",
      "\u001b[0;32m/usr/local/lib/python3.7/site-packages/pandas/core/indexing.py\u001b[0m in \u001b[0;36m_validate_read_indexer\u001b[0;34m(self, key, indexer, axis, raise_missing)\u001b[0m\n\u001b[1;32m   1250\u001b[0m             \u001b[0;32mif\u001b[0m \u001b[0;32mnot\u001b[0m\u001b[0;34m(\u001b[0m\u001b[0mself\u001b[0m\u001b[0;34m.\u001b[0m\u001b[0mname\u001b[0m \u001b[0;34m==\u001b[0m \u001b[0;34m'loc'\u001b[0m \u001b[0;32mand\u001b[0m \u001b[0;32mnot\u001b[0m \u001b[0mraise_missing\u001b[0m\u001b[0;34m)\u001b[0m\u001b[0;34m:\u001b[0m\u001b[0;34m\u001b[0m\u001b[0;34m\u001b[0m\u001b[0m\n\u001b[1;32m   1251\u001b[0m                 \u001b[0mnot_found\u001b[0m \u001b[0;34m=\u001b[0m \u001b[0mlist\u001b[0m\u001b[0;34m(\u001b[0m\u001b[0mset\u001b[0m\u001b[0;34m(\u001b[0m\u001b[0mkey\u001b[0m\u001b[0;34m)\u001b[0m \u001b[0;34m-\u001b[0m \u001b[0mset\u001b[0m\u001b[0;34m(\u001b[0m\u001b[0max\u001b[0m\u001b[0;34m)\u001b[0m\u001b[0;34m)\u001b[0m\u001b[0;34m\u001b[0m\u001b[0;34m\u001b[0m\u001b[0m\n\u001b[0;32m-> 1252\u001b[0;31m                 \u001b[0;32mraise\u001b[0m \u001b[0mKeyError\u001b[0m\u001b[0;34m(\u001b[0m\u001b[0;34m\"{} not in index\"\u001b[0m\u001b[0;34m.\u001b[0m\u001b[0mformat\u001b[0m\u001b[0;34m(\u001b[0m\u001b[0mnot_found\u001b[0m\u001b[0;34m)\u001b[0m\u001b[0;34m)\u001b[0m\u001b[0;34m\u001b[0m\u001b[0;34m\u001b[0m\u001b[0m\n\u001b[0m\u001b[1;32m   1253\u001b[0m \u001b[0;34m\u001b[0m\u001b[0m\n\u001b[1;32m   1254\u001b[0m             \u001b[0;31m# we skip the warning on Categorical/Interval\u001b[0m\u001b[0;34m\u001b[0m\u001b[0;34m\u001b[0m\u001b[0;34m\u001b[0m\u001b[0m\n",
      "\u001b[0;31mKeyError\u001b[0m: \"['rate'] not in index\""
     ]
    }
   ],
   "source": [
    "samples = ['27700103', '96254963', '57176789', '20396154', '00897741',\n",
    "       '66836068', '66019205', '95851255', '97417885', '20216809',\n",
    "       '47750728', '60844515', '37764532', '43589707', '14092221',\n",
    "       '96805916', '95614431', '21946407', '37948668', '25692073',\n",
    "       '99848889', '15634563', '80796147']\n",
    "\n",
    "count = 0\n",
    "path = '/Users/wang/data/OpenAPS'\n",
    "for folder in samples:\n",
    "    print('PID:', folder)\n",
    "    record_path = path + '/' +folder+'/direct-sharing-31'\n",
    "    if os.path.exists(record_path):\n",
    "        files = os.listdir(record_path)\n",
    "        df_folder = pd.DataFrame([], columns=['pid', 'datetime', 'eventType', 'insulin','carbs','absolute','rate','duration'])\n",
    "        for file in files:\n",
    "            if file.find('treatments') > -1 and file.endswith('.json'):\n",
    "                print('file', file)\n",
    "                df = transfer_dataframe(folder, record_path+'/'+file)\n",
    "                if df is None:\n",
    "                    continue\n",
    "                df_folder = df_folder.append(df)\n",
    "#         print('before drop', len(df_folder))\n",
    "#         df_folder.drop_duplicates('datetime',inplace = True)\n",
    "#         print('after drop', len(df_folder))\n",
    "        print('saving result...')\n",
    "        pickle.dump(df_folder, open(path + '/treat_dfs/'+folder+'_treats.pkl', 'wb'))\n",
    "        print('done for', folder)\n",
    "        print('----------------------')\n",
    "\n",
    "        "
   ]
  },
  {
   "cell_type": "code",
   "execution_count": 21,
   "metadata": {},
   "outputs": [
    {
     "name": "stdout",
     "output_type": "stream",
     "text": [
      "        pid    sgv   eventType  insulin  carbs  absolute rate  duration\n",
      "0  96254963  165.0  Temp Basal      NaN    NaN       0.0    0      30.0\n",
      "1  96254963  165.0  Temp Basal      NaN    NaN       0.0    0      60.0\n",
      "2  96254963  165.0  Temp Basal      NaN    NaN       0.0    0      30.0\n"
     ]
    }
   ],
   "source": [
    "# Synthesize treatment with entries\n",
    "\n",
    "path_treat = '/Users/wang/data/OpenAPS/treat_dfs'\n",
    "path_entries = '/Users/wang/data/OpenAPS/entry_dfs'\n",
    "start_date = '2018-01-01'\n",
    "end_date = '2018-01-31'\n",
    "\n",
    "dfs = []\n",
    "for sample in samples[1:]:\n",
    "    #treats\n",
    "    df_t = pickle.load(open(path_treat+'/'+sample+'_treats.pkl', 'rb'))\n",
    "    df_t.set_index('datetime', inplace=True)\n",
    "    df_t = df_t.tz_convert(None)\n",
    "    df_t_2018 = df_t[start_date:end_date]\n",
    "    #bg entries\n",
    "    df_e = pickle.load(open(path_entries+'/'+sample+'_entries.pkl', 'rb'))\n",
    "    df_e.set_index('datetime', inplace=True)\n",
    "    df_e = df_e.tz_convert(None)\n",
    "    df_e_2018 = df_e[start_date:end_date]\n",
    "    \n",
    "    df_2018 = pd.merge(df_e_2018,df_t_2018, on = 'pid', how='left' )\n",
    "    df_2018.sort_index(inplace = True)\n",
    "    print(df_2018.head(3))\n",
    "    dfs.append(df_2018)\n",
    "    \n",
    "dfs_all = pd.concat(dfs)"
   ]
  },
  {
   "cell_type": "code",
   "execution_count": 22,
   "metadata": {},
   "outputs": [
    {
     "data": {
      "text/plain": [
       "count    1.645022e+07\n",
       "mean     3.332370e+01\n",
       "std      4.195641e+01\n",
       "min      0.000000e+00\n",
       "25%      3.000000e+01\n",
       "50%      3.000000e+01\n",
       "75%      3.000000e+01\n",
       "max      7.200000e+02\n",
       "Name: duration, dtype: float64"
      ]
     },
     "execution_count": 22,
     "metadata": {},
     "output_type": "execute_result"
    }
   ],
   "source": [
    "dfs_all['duration'].describe()"
   ]
  },
  {
   "cell_type": "code",
   "execution_count": 45,
   "metadata": {},
   "outputs": [
    {
     "data": {
      "text/plain": [
       "Index(['absolute', 'carbs', 'eventType', 'glucose', 'insulin', 'notes', 'pid',\n",
       "       'rate', 'ratio'],\n",
       "      dtype='object')"
      ]
     },
     "execution_count": 45,
     "metadata": {},
     "output_type": "execute_result"
    }
   ],
   "source": [
    "treats_df.columns"
   ]
  },
  {
   "cell_type": "code",
   "execution_count": 44,
   "metadata": {},
   "outputs": [
    {
     "data": {
      "text/html": [
       "<div>\n",
       "<style scoped>\n",
       "    .dataframe tbody tr th:only-of-type {\n",
       "        vertical-align: middle;\n",
       "    }\n",
       "\n",
       "    .dataframe tbody tr th {\n",
       "        vertical-align: top;\n",
       "    }\n",
       "\n",
       "    .dataframe thead th {\n",
       "        text-align: right;\n",
       "    }\n",
       "</style>\n",
       "<table border=\"1\" class=\"dataframe\">\n",
       "  <thead>\n",
       "    <tr style=\"text-align: right;\">\n",
       "      <th></th>\n",
       "      <th>pid</th>\n",
       "      <th>sgv</th>\n",
       "    </tr>\n",
       "  </thead>\n",
       "  <tbody>\n",
       "    <tr>\n",
       "      <th>count</th>\n",
       "      <td>336123</td>\n",
       "      <td>334934.0</td>\n",
       "    </tr>\n",
       "    <tr>\n",
       "      <th>unique</th>\n",
       "      <td>41</td>\n",
       "      <td>373.0</td>\n",
       "    </tr>\n",
       "    <tr>\n",
       "      <th>top</th>\n",
       "      <td>74077367</td>\n",
       "      <td>110.0</td>\n",
       "    </tr>\n",
       "    <tr>\n",
       "      <th>freq</th>\n",
       "      <td>16951</td>\n",
       "      <td>3628.0</td>\n",
       "    </tr>\n",
       "  </tbody>\n",
       "</table>\n",
       "</div>"
      ],
      "text/plain": [
       "             pid       sgv\n",
       "count     336123  334934.0\n",
       "unique        41     373.0\n",
       "top     74077367     110.0\n",
       "freq       16951    3628.0"
      ]
     },
     "execution_count": 44,
     "metadata": {},
     "output_type": "execute_result"
    }
   ],
   "source": [
    "entries_df.describe()"
   ]
  },
  {
   "cell_type": "code",
   "execution_count": null,
   "metadata": {},
   "outputs": [],
   "source": [
    "df_2018_1 = pd.merge(treats_df, entries_df, on='pid')"
   ]
  }
 ],
 "metadata": {
  "kernelspec": {
   "display_name": "Python 3",
   "language": "python",
   "name": "python3"
  },
  "language_info": {
   "codemirror_mode": {
    "name": "ipython",
    "version": 3
   },
   "file_extension": ".py",
   "mimetype": "text/x-python",
   "name": "python",
   "nbconvert_exporter": "python",
   "pygments_lexer": "ipython3",
   "version": "3.7.2"
  }
 },
 "nbformat": 4,
 "nbformat_minor": 2
}
