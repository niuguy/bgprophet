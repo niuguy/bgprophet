{
 "cells": [
  {
   "cell_type": "code",
   "execution_count": 1,
   "metadata": {},
   "outputs": [],
   "source": [
    "import sys\n",
    "import os\n",
    "import gzip\n",
    "import shutil\n",
    "import json\n",
    "import pandas as pd\n",
    "import _pickle as pickle\n",
    "import numpy as np\n",
    "%matplotlib inline"
   ]
  },
  {
   "cell_type": "markdown",
   "metadata": {},
   "source": [
    "## Preprocess treatment data"
   ]
  },
  {
   "cell_type": "code",
   "execution_count": 30,
   "metadata": {},
   "outputs": [],
   "source": [
    "### Interpreting json file\n",
    "bg_path = '/home/jupyter/work/openaps/data/99908129/direct-sharing-31/entries_2017-01-01_to_2017-10-24.json'\n",
    "treat_path = '/home/jupyter/work/openaps/data/99908129/direct-sharing-31/treatments_2017-01-01_to_2017-10-24.json'\n",
    "df_bg = pd.read_json(bg_path)\n",
    "df_treat = pd.read_json(treat_path)"
   ]
  },
  {
   "cell_type": "code",
   "execution_count": 15,
   "metadata": {},
   "outputs": [
    {
     "data": {
      "text/html": [
       "<div>\n",
       "<style scoped>\n",
       "    .dataframe tbody tr th:only-of-type {\n",
       "        vertical-align: middle;\n",
       "    }\n",
       "\n",
       "    .dataframe tbody tr th {\n",
       "        vertical-align: top;\n",
       "    }\n",
       "\n",
       "    .dataframe thead th {\n",
       "        text-align: right;\n",
       "    }\n",
       "</style>\n",
       "<table border=\"1\" class=\"dataframe\">\n",
       "  <thead>\n",
       "    <tr style=\"text-align: right;\">\n",
       "      <th></th>\n",
       "      <th>_id</th>\n",
       "      <th>_tell</th>\n",
       "      <th>body</th>\n",
       "      <th>date</th>\n",
       "      <th>dateString</th>\n",
       "      <th>date_type</th>\n",
       "      <th>device</th>\n",
       "      <th>direction</th>\n",
       "      <th>display_time</th>\n",
       "      <th>glucose</th>\n",
       "      <th>name</th>\n",
       "      <th>op</th>\n",
       "      <th>packet_size</th>\n",
       "      <th>raw</th>\n",
       "      <th>sgv</th>\n",
       "      <th>trend</th>\n",
       "      <th>trend_arrow</th>\n",
       "      <th>type</th>\n",
       "    </tr>\n",
       "  </thead>\n",
       "  <tbody>\n",
       "    <tr>\n",
       "      <th>0</th>\n",
       "      <td>59ee817e32c555f2c8aae2ac</td>\n",
       "      <td>NaN</td>\n",
       "      <td>NaN</td>\n",
       "      <td>2017-10-23 23:55:08</td>\n",
       "      <td>2017-10-23T23:55:08.000Z</td>\n",
       "      <td>NaN</td>\n",
       "      <td>share2</td>\n",
       "      <td>SingleUp</td>\n",
       "      <td>NaT</td>\n",
       "      <td>NaN</td>\n",
       "      <td>NaN</td>\n",
       "      <td>NaN</td>\n",
       "      <td>NaN</td>\n",
       "      <td>NaN</td>\n",
       "      <td>190</td>\n",
       "      <td>2.0</td>\n",
       "      <td>NaN</td>\n",
       "      <td>sgv</td>\n",
       "    </tr>\n",
       "    <tr>\n",
       "      <th>1</th>\n",
       "      <td>59ee805232c555f2c8aaddf2</td>\n",
       "      <td>NaN</td>\n",
       "      <td>NaN</td>\n",
       "      <td>2017-10-23 23:50:08</td>\n",
       "      <td>2017-10-23T23:50:08.000Z</td>\n",
       "      <td>NaN</td>\n",
       "      <td>share2</td>\n",
       "      <td>DoubleUp</td>\n",
       "      <td>NaT</td>\n",
       "      <td>NaN</td>\n",
       "      <td>NaN</td>\n",
       "      <td>NaN</td>\n",
       "      <td>NaN</td>\n",
       "      <td>NaN</td>\n",
       "      <td>187</td>\n",
       "      <td>1.0</td>\n",
       "      <td>NaN</td>\n",
       "      <td>sgv</td>\n",
       "    </tr>\n",
       "    <tr>\n",
       "      <th>2</th>\n",
       "      <td>59ee7f2732c555f2c8aad933</td>\n",
       "      <td>NaN</td>\n",
       "      <td>NaN</td>\n",
       "      <td>2017-10-23 23:45:08</td>\n",
       "      <td>2017-10-23T23:45:08.000Z</td>\n",
       "      <td>NaN</td>\n",
       "      <td>share2</td>\n",
       "      <td>DoubleUp</td>\n",
       "      <td>NaT</td>\n",
       "      <td>NaN</td>\n",
       "      <td>NaN</td>\n",
       "      <td>NaN</td>\n",
       "      <td>NaN</td>\n",
       "      <td>NaN</td>\n",
       "      <td>178</td>\n",
       "      <td>1.0</td>\n",
       "      <td>NaN</td>\n",
       "      <td>sgv</td>\n",
       "    </tr>\n",
       "    <tr>\n",
       "      <th>3</th>\n",
       "      <td>59ee7dfb32c555f2c8aad467</td>\n",
       "      <td>NaN</td>\n",
       "      <td>NaN</td>\n",
       "      <td>2017-10-23 23:40:07</td>\n",
       "      <td>2017-10-23T23:40:07.000Z</td>\n",
       "      <td>NaN</td>\n",
       "      <td>share2</td>\n",
       "      <td>SingleUp</td>\n",
       "      <td>NaT</td>\n",
       "      <td>NaN</td>\n",
       "      <td>NaN</td>\n",
       "      <td>NaN</td>\n",
       "      <td>NaN</td>\n",
       "      <td>NaN</td>\n",
       "      <td>163</td>\n",
       "      <td>2.0</td>\n",
       "      <td>NaN</td>\n",
       "      <td>sgv</td>\n",
       "    </tr>\n",
       "    <tr>\n",
       "      <th>4</th>\n",
       "      <td>59ee7cce32c555f2c8aacf7e</td>\n",
       "      <td>NaN</td>\n",
       "      <td>NaN</td>\n",
       "      <td>2017-10-23 23:35:08</td>\n",
       "      <td>2017-10-23T23:35:08.000Z</td>\n",
       "      <td>NaN</td>\n",
       "      <td>share2</td>\n",
       "      <td>FortyFiveUp</td>\n",
       "      <td>NaT</td>\n",
       "      <td>NaN</td>\n",
       "      <td>NaN</td>\n",
       "      <td>NaN</td>\n",
       "      <td>NaN</td>\n",
       "      <td>NaN</td>\n",
       "      <td>145</td>\n",
       "      <td>3.0</td>\n",
       "      <td>NaN</td>\n",
       "      <td>sgv</td>\n",
       "    </tr>\n",
       "  </tbody>\n",
       "</table>\n",
       "</div>"
      ],
      "text/plain": [
       "                        _id  _tell body                date  \\\n",
       "0  59ee817e32c555f2c8aae2ac    NaN  NaN 2017-10-23 23:55:08   \n",
       "1  59ee805232c555f2c8aaddf2    NaN  NaN 2017-10-23 23:50:08   \n",
       "2  59ee7f2732c555f2c8aad933    NaN  NaN 2017-10-23 23:45:08   \n",
       "3  59ee7dfb32c555f2c8aad467    NaN  NaN 2017-10-23 23:40:07   \n",
       "4  59ee7cce32c555f2c8aacf7e    NaN  NaN 2017-10-23 23:35:08   \n",
       "\n",
       "                 dateString date_type  device    direction display_time  \\\n",
       "0  2017-10-23T23:55:08.000Z       NaN  share2     SingleUp          NaT   \n",
       "1  2017-10-23T23:50:08.000Z       NaN  share2     DoubleUp          NaT   \n",
       "2  2017-10-23T23:45:08.000Z       NaN  share2     DoubleUp          NaT   \n",
       "3  2017-10-23T23:40:07.000Z       NaN  share2     SingleUp          NaT   \n",
       "4  2017-10-23T23:35:08.000Z       NaN  share2  FortyFiveUp          NaT   \n",
       "\n",
       "   glucose name   op  packet_size  raw  sgv  trend trend_arrow type  \n",
       "0      NaN  NaN  NaN          NaN  NaN  190    2.0         NaN  sgv  \n",
       "1      NaN  NaN  NaN          NaN  NaN  187    1.0         NaN  sgv  \n",
       "2      NaN  NaN  NaN          NaN  NaN  178    1.0         NaN  sgv  \n",
       "3      NaN  NaN  NaN          NaN  NaN  163    2.0         NaN  sgv  \n",
       "4      NaN  NaN  NaN          NaN  NaN  145    3.0         NaN  sgv  "
      ]
     },
     "execution_count": 15,
     "metadata": {},
     "output_type": "execute_result"
    }
   ],
   "source": [
    "df_bg.head()"
   ]
  },
  {
   "cell_type": "code",
   "execution_count": 31,
   "metadata": {},
   "outputs": [
    {
     "data": {
      "text/plain": [
       "Timestamp('2017-03-19 13:11:19')"
      ]
     },
     "execution_count": 31,
     "metadata": {},
     "output_type": "execute_result"
    }
   ],
   "source": [
    "df_bg.date.min()"
   ]
  },
  {
   "cell_type": "code",
   "execution_count": 32,
   "metadata": {},
   "outputs": [
    {
     "data": {
      "text/plain": [
       "Timestamp('2017-10-23 23:55:08')"
      ]
     },
     "execution_count": 32,
     "metadata": {},
     "output_type": "execute_result"
    }
   ],
   "source": [
    "df_bg.date.max()"
   ]
  },
  {
   "cell_type": "code",
   "execution_count": 25,
   "metadata": {},
   "outputs": [
    {
     "data": {
      "text/plain": [
       "_id                 0\n",
       "_tell           52586\n",
       "body            55266\n",
       "date                0\n",
       "dateString          0\n",
       "date_type       52586\n",
       "device              0\n",
       "direction         463\n",
       "display_time    52586\n",
       "glucose         52567\n",
       "name            52586\n",
       "op              52586\n",
       "packet_size     52586\n",
       "raw             55266\n",
       "sgv                 0\n",
       "trend            2879\n",
       "trend_arrow     53049\n",
       "type                0\n",
       "dtype: int64"
      ]
     },
     "execution_count": 25,
     "metadata": {},
     "output_type": "execute_result"
    }
   ],
   "source": [
    "df_bg.isnull().sum()"
   ]
  },
  {
   "cell_type": "code",
   "execution_count": 33,
   "metadata": {},
   "outputs": [],
   "source": [
    "cols=['date', 'sgv','type']\n",
    "df_bg=df_bg[cols]"
   ]
  },
  {
   "cell_type": "code",
   "execution_count": 34,
   "metadata": {},
   "outputs": [
    {
     "data": {
      "text/plain": [
       "DatetimeIndex(['2017-03-19 13:11:19', '2017-03-19 13:16:19',\n",
       "               '2017-03-19 13:21:19', '2017-03-19 13:26:19',\n",
       "               '2017-03-19 13:31:19', '2017-03-19 13:36:19',\n",
       "               '2017-03-19 13:41:19', '2017-03-19 13:46:20',\n",
       "               '2017-03-19 13:51:19', '2017-03-19 13:56:19',\n",
       "               ...\n",
       "               '2017-10-23 23:10:07', '2017-10-23 23:15:07',\n",
       "               '2017-10-23 23:20:08', '2017-10-23 23:25:08',\n",
       "               '2017-10-23 23:30:08', '2017-10-23 23:35:08',\n",
       "               '2017-10-23 23:40:07', '2017-10-23 23:45:08',\n",
       "               '2017-10-23 23:50:08', '2017-10-23 23:55:08'],\n",
       "              dtype='datetime64[ns]', name='date', length=55465, freq=None)"
      ]
     },
     "execution_count": 34,
     "metadata": {},
     "output_type": "execute_result"
    }
   ],
   "source": [
    "df_bg = df_bg.set_index('date').sort_index()\n",
    "df_bg.index"
   ]
  },
  {
   "cell_type": "code",
   "execution_count": 38,
   "metadata": {},
   "outputs": [
    {
     "data": {
      "text/plain": [
       "<matplotlib.axes._subplots.AxesSubplot at 0x7fabcd1d0d68>"
      ]
     },
     "execution_count": 38,
     "metadata": {},
     "output_type": "execute_result"
    },
    {
     "data": {
      "image/png": "[encoded data removed]",
      "text/plain": [
       "<Figure size 1080x432 with 1 Axes>"
      ]
     },
     "metadata": {
      "needs_background": "light"
     },
     "output_type": "display_data"
    }
   ],
   "source": [
    "df_bg['2017-03-20':'2017-03-21'].sgv.plot(figsize=(15,6))"
   ]
  },
  {
   "cell_type": "code",
   "execution_count": 39,
   "metadata": {},
   "outputs": [
    {
     "data": {
      "text/plain": [
       "<matplotlib.axes._subplots.AxesSubplot at 0x7fabcd17e4e0>"
      ]
     },
     "execution_count": 39,
     "metadata": {},
     "output_type": "execute_result"
    },
    {
     "data": {
      "image/png": "[encoded data removed]",
      "text/plain": [
       "<Figure size 1080x432 with 1 Axes>"
      ]
     },
     "metadata": {
      "needs_background": "light"
     },
     "output_type": "display_data"
    }
   ],
   "source": [
    "df_bg['2017-03-21':'2017-03-22'].sgv.plot(figsize=(15,6))"
   ]
  },
  {
   "cell_type": "code",
   "execution_count": 40,
   "metadata": {},
   "outputs": [
    {
     "data": {
      "text/plain": [
       "<matplotlib.axes._subplots.AxesSubplot at 0x7fabccecf9e8>"
      ]
     },
     "execution_count": 40,
     "metadata": {},
     "output_type": "execute_result"
    },
    {
     "data": {
      "image/png": "[encoded data removed]",
      "text/plain": [
       "<Figure size 1080x432 with 1 Axes>"
      ]
     },
     "metadata": {
      "needs_background": "light"
     },
     "output_type": "display_data"
    }
   ],
   "source": [
    "df_bg['2017-03-22':'2017-03-23'].sgv.plot(figsize=(15,6))"
   ]
  },
  {
   "cell_type": "code",
   "execution_count": 51,
   "metadata": {},
   "outputs": [],
   "source": [
    "df_treat= df_treat[['created_at','timestamp','eventType', 'absolute', 'rate', 'duration','raw_duration', 'raw_rate']]"
   ]
  },
  {
   "cell_type": "code",
   "execution_count": 54,
   "metadata": {},
   "outputs": [
    {
     "data": {
      "text/plain": [
       "'2017-03-19T15:46:00-04:00'"
      ]
     },
     "execution_count": 54,
     "metadata": {},
     "output_type": "execute_result"
    }
   ],
   "source": [
    "df_treat['created_at'].min()"
   ]
  },
  {
   "cell_type": "code",
   "execution_count": 55,
   "metadata": {},
   "outputs": [
    {
     "data": {
      "text/plain": [
       "'2017-10-23T23:52:07-04:00'"
      ]
     },
     "execution_count": 55,
     "metadata": {},
     "output_type": "execute_result"
    }
   ],
   "source": [
    "df_treat['created_at'].max()"
   ]
  },
  {
   "cell_type": "code",
   "execution_count": 60,
   "metadata": {},
   "outputs": [
    {
     "data": {
      "text/plain": [
       "0               2017-10-23 23:52:07-04:00\n",
       "1               2017-10-23 23:47:41-04:00\n",
       "2               2017-10-23 23:45:29-04:00\n",
       "3               2017-10-23 23:45:28-04:00\n",
       "4               2017-10-23 23:45:27-04:00\n",
       "5               2017-10-23 23:32:39-04:00\n",
       "6               2017-10-23 23:29:13-04:00\n",
       "7               2017-10-23 23:27:29-04:00\n",
       "8               2017-10-23 23:25:00+00:00\n",
       "9               2017-10-23 23:24:49-04:00\n",
       "10              2017-10-23 23:24:08-04:00\n",
       "11              2017-10-23 23:23:55-04:00\n",
       "12              2017-10-23 23:18:05-04:00\n",
       "13              2017-10-23 23:13:42-04:00\n",
       "14              2017-10-23 23:13:25-04:00\n",
       "15              2017-10-23 23:10:52-04:00\n",
       "16              2017-10-23 23:09:32-04:00\n",
       "17              2017-10-23 22:53:04-04:00\n",
       "18              2017-10-23 22:30:25-04:00\n",
       "19              2017-10-23 22:12:38-04:00\n",
       "20              2017-10-23 22:07:31-04:00\n",
       "21       2017-10-23 22:04:40.124000+00:00\n",
       "22              2017-10-23 21:47:52-04:00\n",
       "23              2017-10-23 21:45:35-04:00\n",
       "24              2017-10-23 21:32:41-04:00\n",
       "25              2017-10-23 21:28:42-04:00\n",
       "26              2017-10-23 21:26:42-04:00\n",
       "27              2017-10-23 21:22:22-04:00\n",
       "28              2017-10-23 21:16:16-04:00\n",
       "29              2017-10-23 21:10:50-04:00\n",
       "                       ...               \n",
       "23813           2017-03-20 12:36:43-04:00\n",
       "23814           2017-03-20 12:35:55-04:00\n",
       "23815           2017-03-20 12:30:50-04:00\n",
       "23816           2017-03-20 11:32:06-04:00\n",
       "23817           2017-03-20 10:14:05-04:00\n",
       "23818           2017-03-20 09:03:01-04:00\n",
       "23819           2017-03-20 09:02:54-04:00\n",
       "23820           2017-03-20 08:55:41-04:00\n",
       "23821           2017-03-20 08:40:49-04:00\n",
       "23822           2017-03-20 08:30:00-04:00\n",
       "23823           2017-03-20 08:18:54-04:00\n",
       "23824           2017-03-20 07:57:02-04:00\n",
       "23825           2017-03-20 07:56:57-04:00\n",
       "23826           2017-03-20 07:54:06-04:00\n",
       "23827           2017-03-20 07:31:44-04:00\n",
       "23828           2017-03-20 07:16:52-04:00\n",
       "23829           2017-03-20 06:46:27-04:00\n",
       "23830           2017-03-20 03:57:32-04:00\n",
       "23831           2017-03-20 03:22:46-04:00\n",
       "23832           2017-03-20 02:42:53-04:00\n",
       "23833           2017-03-20 01:36:44-04:00\n",
       "23834           2017-03-19 23:34:58-04:00\n",
       "23835           2017-03-19 22:59:56-04:00\n",
       "23836           2017-03-19 22:25:50-04:00\n",
       "23837           2017-03-19 21:17:11-04:00\n",
       "23838           2017-03-19 21:16:08-04:00\n",
       "23839           2017-03-19 20:08:11-04:00\n",
       "23840           2017-03-19 20:08:00-04:00\n",
       "23841           2017-03-19 16:26:49-04:00\n",
       "23842           2017-03-19 15:46:00-04:00\n",
       "Name: created_at, Length: 23843, dtype: object"
      ]
     },
     "execution_count": 60,
     "metadata": {},
     "output_type": "execute_result"
    }
   ],
   "source": [
    "pd.to_datetime(df_treat['created_at'])"
   ]
  },
  {
   "cell_type": "code",
   "execution_count": 53,
   "metadata": {},
   "outputs": [
    {
     "data": {
      "text/html": [
       "<div>\n",
       "<style scoped>\n",
       "    .dataframe tbody tr th:only-of-type {\n",
       "        vertical-align: middle;\n",
       "    }\n",
       "\n",
       "    .dataframe tbody tr th {\n",
       "        vertical-align: top;\n",
       "    }\n",
       "\n",
       "    .dataframe thead th {\n",
       "        text-align: right;\n",
       "    }\n",
       "</style>\n",
       "<table border=\"1\" class=\"dataframe\">\n",
       "  <thead>\n",
       "    <tr style=\"text-align: right;\">\n",
       "      <th></th>\n",
       "      <th>created_at</th>\n",
       "      <th>timestamp</th>\n",
       "      <th>eventType</th>\n",
       "      <th>absolute</th>\n",
       "      <th>rate</th>\n",
       "      <th>duration</th>\n",
       "      <th>raw_duration</th>\n",
       "      <th>raw_rate</th>\n",
       "    </tr>\n",
       "  </thead>\n",
       "  <tbody>\n",
       "    <tr>\n",
       "      <th>0</th>\n",
       "      <td>2017-10-23T23:52:07-04:00</td>\n",
       "      <td>2017-10-24 03:52:07</td>\n",
       "      <td>Temp Basal</td>\n",
       "      <td>1.45</td>\n",
       "      <td>1.45</td>\n",
       "      <td>30.0</td>\n",
       "      <td>{'_date': '87b4175711', 'duration (min)': 30, ...</td>\n",
       "      <td>{'temp': 'absolute', '_date': '87b4175711', 'r...</td>\n",
       "    </tr>\n",
       "    <tr>\n",
       "      <th>1</th>\n",
       "      <td>2017-10-23T23:47:41-04:00</td>\n",
       "      <td>2017-10-24 03:47:41</td>\n",
       "      <td>Temp Basal</td>\n",
       "      <td>3.45</td>\n",
       "      <td>3.45</td>\n",
       "      <td>30.0</td>\n",
       "      <td>{'_date': 'a9af175711', 'duration (min)': 30, ...</td>\n",
       "      <td>{'temp': 'absolute', '_date': 'a9af175711', 'r...</td>\n",
       "    </tr>\n",
       "    <tr>\n",
       "      <th>2</th>\n",
       "      <td>2017-10-23T23:45:29-04:00</td>\n",
       "      <td>2017-10-24 03:45:29</td>\n",
       "      <td>Temp Basal</td>\n",
       "      <td>1.45</td>\n",
       "      <td>1.45</td>\n",
       "      <td>30.0</td>\n",
       "      <td>{'_date': '9dad175711', 'duration (min)': 30, ...</td>\n",
       "      <td>{'temp': 'absolute', '_date': '9dad175711', 'r...</td>\n",
       "    </tr>\n",
       "    <tr>\n",
       "      <th>3</th>\n",
       "      <td>2017-10-23T23:45:28-04:00</td>\n",
       "      <td>2017-10-24 03:45:28</td>\n",
       "      <td>Temp Basal</td>\n",
       "      <td>1.45</td>\n",
       "      <td>1.45</td>\n",
       "      <td>30.0</td>\n",
       "      <td>{'_date': '9cad175711', 'duration (min)': 30, ...</td>\n",
       "      <td>{'temp': 'absolute', '_date': '9cad175711', 'r...</td>\n",
       "    </tr>\n",
       "    <tr>\n",
       "      <th>4</th>\n",
       "      <td>2017-10-23T23:45:27-04:00</td>\n",
       "      <td>2017-10-24 03:45:27</td>\n",
       "      <td>Temp Basal</td>\n",
       "      <td>1.45</td>\n",
       "      <td>1.45</td>\n",
       "      <td>30.0</td>\n",
       "      <td>{'_date': '9bad175711', 'duration (min)': 30, ...</td>\n",
       "      <td>{'temp': 'absolute', '_date': '9bad175711', 'r...</td>\n",
       "    </tr>\n",
       "  </tbody>\n",
       "</table>\n",
       "</div>"
      ],
      "text/plain": [
       "                  created_at           timestamp   eventType  absolute  rate  \\\n",
       "0  2017-10-23T23:52:07-04:00 2017-10-24 03:52:07  Temp Basal      1.45  1.45   \n",
       "1  2017-10-23T23:47:41-04:00 2017-10-24 03:47:41  Temp Basal      3.45  3.45   \n",
       "2  2017-10-23T23:45:29-04:00 2017-10-24 03:45:29  Temp Basal      1.45  1.45   \n",
       "3  2017-10-23T23:45:28-04:00 2017-10-24 03:45:28  Temp Basal      1.45  1.45   \n",
       "4  2017-10-23T23:45:27-04:00 2017-10-24 03:45:27  Temp Basal      1.45  1.45   \n",
       "\n",
       "   duration                                       raw_duration  \\\n",
       "0      30.0  {'_date': '87b4175711', 'duration (min)': 30, ...   \n",
       "1      30.0  {'_date': 'a9af175711', 'duration (min)': 30, ...   \n",
       "2      30.0  {'_date': '9dad175711', 'duration (min)': 30, ...   \n",
       "3      30.0  {'_date': '9cad175711', 'duration (min)': 30, ...   \n",
       "4      30.0  {'_date': '9bad175711', 'duration (min)': 30, ...   \n",
       "\n",
       "                                            raw_rate  \n",
       "0  {'temp': 'absolute', '_date': '87b4175711', 'r...  \n",
       "1  {'temp': 'absolute', '_date': 'a9af175711', 'r...  \n",
       "2  {'temp': 'absolute', '_date': '9dad175711', 'r...  \n",
       "3  {'temp': 'absolute', '_date': '9cad175711', 'r...  \n",
       "4  {'temp': 'absolute', '_date': '9bad175711', 'r...  "
      ]
     },
     "execution_count": 53,
     "metadata": {},
     "output_type": "execute_result"
    }
   ],
   "source": [
    "df_treat.head()"
   ]
  },
  {
   "cell_type": "code",
   "execution_count": 46,
   "metadata": {},
   "outputs": [
    {
     "data": {
      "text/plain": [
       "_body                22327\n",
       "_date                22327\n",
       "_description         22327\n",
       "_head                22327\n",
       "_id                      0\n",
       "_type                22327\n",
       "absolute              3889\n",
       "alarm_description    23828\n",
       "alarm_type           23828\n",
       "amount               23014\n",
       "appended             23827\n",
       "bg                   23400\n",
       "bolus                21662\n",
       "carb_input           23816\n",
       "carbs                23378\n",
       "changed              23836\n",
       "created_at               0\n",
       "duration              1539\n",
       "enteredBy                1\n",
       "eventType                0\n",
       "fixed                23686\n",
       "glucose              22799\n",
       "glucoseType          22799\n",
       "insulin              21660\n",
       "invalid              23842\n",
       "maxBasal             23839\n",
       "medtronic              170\n",
       "notes                20712\n",
       "preBolus             23842\n",
       "rate                  3880\n",
       "ratio                23398\n",
       "raw_duration          3889\n",
       "raw_rate              3889\n",
       "reason               23674\n",
       "stale                23836\n",
       "tail                 23836\n",
       "targetBottom         23740\n",
       "targetTop            23740\n",
       "timestamp              170\n",
       "type                 23686\n",
       "units                23838\n",
       "wizard               23398\n",
       "dtype: int64"
      ]
     },
     "execution_count": 46,
     "metadata": {},
     "output_type": "execute_result"
    }
   ],
   "source": [
    "df_treat.isnull().sum()"
   ]
  },
  {
   "cell_type": "code",
   "execution_count": null,
   "metadata": {},
   "outputs": [],
   "source": [
    "cols = ['created_at', 'eventType', 'rate']"
   ]
  },
  {
   "cell_type": "code",
   "execution_count": 3,
   "metadata": {},
   "outputs": [],
   "source": [
    "def transfer_dataframe(patient_id, file_name):\n",
    "    with open(file_name) as file:\n",
    "        j_object = json.load(file)\n",
    "        df = pd.DataFrame(j_object)\n",
    "        try:\n",
    "            df['datetime'] = pd.to_datetime(df['timestamp'], utc=True)\n",
    "        except:\n",
    "            print(df['timestamp'].head())\n",
    "            return None\n",
    "            \n",
    "        df['pid'] = patient_id\n",
    "        df.sort_values(by='datetime', inplace=True)\n",
    "        df_result = df[['pid', 'datetime', 'eventType', 'insulin','carbs','absolute','rate','duration']]\n",
    "\n",
    "    return df_result"
   ]
  },
  {
   "cell_type": "code",
   "execution_count": 5,
   "metadata": {},
   "outputs": [],
   "source": [
    "## these samples have less data missing problems\n",
    "samples = ['96254963', '57176789', '20396154', '00897741',\n",
    "       '66836068', '66019205', '95851255', '97417885', '20216809',\n",
    "       '47750728', '60844515', '37764532', '43589707', '14092221',\n",
    "       '96805916', '95614431', '21946407', '37948668', '25692073',\n",
    "       '99848889', '15634563', '80796147']  "
   ]
  },
  {
   "cell_type": "code",
   "execution_count": null,
   "metadata": {},
   "outputs": [],
   "source": [
    "## merge treatment files person to person\n",
    "\n",
    "count = 0\n",
    "path = '/Users/wang/data/OpenAPS'\n",
    "for folder in samples:\n",
    "    print('PID:', folder)\n",
    "    record_path = path + '/' +folder+'/direct-sharing-31'\n",
    "    if os.path.exists(record_path):\n",
    "        files = os.listdir(record_path)\n",
    "        df_folder = pd.DataFrame([], columns=['pid', 'datetime', 'eventType', 'insulin','carbs','absolute','rate','duration'])\n",
    "        for file in files:\n",
    "            if file.find('treatments') > -1 and file.endswith('.json'):\n",
    "                print('file', file)\n",
    "                df = transfer_dataframe(folder, record_path+'/'+file)\n",
    "                if df is None:\n",
    "                    continue\n",
    "                df_folder = df_folder.append(df)\n",
    "#         print('before drop', len(df_folder))\n",
    "#         df_folder.drop_duplicates('datetime',inplace = True)\n",
    "#         print('after drop', len(df_folder))\n",
    "#         print('saving result...')\n",
    "        pickle.dump(df_folder, open(path + '/treat_dfs/'+folder+'_treats.pkl', 'wb'))\n",
    "# z\n"
   ]
  },
  {
   "cell_type": "code",
   "execution_count": null,
   "metadata": {},
   "outputs": [
    {
     "name": "stdout",
     "output_type": "stream",
     "text": [
      "        pid    sgv eventType insulin carbs absolute rate duration\n",
      "0  27700103  134.0       NaN     NaN   NaN      NaN  NaN      NaN\n",
      "1  27700103  138.0       NaN     NaN   NaN      NaN  NaN      NaN\n",
      "2  27700103  148.0       NaN     NaN   NaN      NaN  NaN      NaN\n",
      "        pid    sgv   eventType  insulin  carbs  absolute rate  duration\n",
      "0  96254963  165.0  Temp Basal      NaN    NaN       0.0    0      30.0\n",
      "1  96254963  165.0  Temp Basal      NaN    NaN       0.0    0      60.0\n",
      "2  96254963  165.0  Temp Basal      NaN    NaN       0.0    0      30.0\n",
      "        pid  sgv   eventType  insulin  carbs  absolute rate  duration\n",
      "0  57176789  118  Temp Basal      NaN    NaN       0.8  0.8      30.0\n",
      "1  57176789  118  Temp Basal      NaN    NaN       1.2  1.2      30.0\n",
      "2  57176789  118  Temp Basal      NaN    NaN       1.9  1.9      30.0\n",
      "        pid  sgv   eventType  insulin  carbs  absolute  rate  duration\n",
      "0  20396154  220  Temp Basal      NaN    NaN      0.00     0       0.0\n",
      "1  20396154  220  Temp Basal      NaN    NaN      0.45  0.45      30.0\n",
      "2  20396154  220  Temp Basal      NaN    NaN      1.40   1.4      30.0\n",
      "        pid  sgv   eventType  insulin  carbs  absolute   rate  duration\n",
      "0  00897741  118  Temp Basal      NaN    NaN     0.575  0.575      30.0\n",
      "1  00897741  118  Temp Basal      NaN    NaN     0.000      0      60.0\n",
      "2  00897741  118  Temp Basal      NaN    NaN     0.000      0      60.0\n",
      "        pid    sgv   eventType  insulin  carbs  absolute   rate  duration\n",
      "0  66836068  157.0  Temp Basal      NaN    NaN     0.975  0.975      30.0\n",
      "1  66836068  157.0  Temp Basal      NaN    NaN     0.000      0      60.0\n",
      "2  66836068  157.0  Temp Basal      NaN    NaN     1.000      1      30.0\n",
      "        pid    sgv   eventType  insulin  carbs  absolute  rate  duration\n",
      "0  66019205  224.0  Temp Basal      NaN    NaN      0.55  0.55      30.0\n",
      "1  66019205  224.0  Temp Basal      NaN    NaN      0.35  0.35      30.0\n",
      "2  66019205  224.0    BG Check      NaN    NaN       NaN   NaN       NaN\n",
      "        pid    sgv         eventType  insulin  carbs  absolute rate  duration\n",
      "0  95851255  136.0  Correction Bolus      1.5    NaN       NaN  NaN       0.0\n",
      "1  95851255  136.0        Temp Basal      NaN    NaN       0.0    0      60.0\n",
      "2  95851255  136.0        Temp Basal      NaN    NaN       0.0    0      60.0\n",
      "        pid    sgv   eventType  insulin  carbs  absolute  rate  duration\n",
      "0  97417885  269.0  Temp Basal      NaN    NaN      0.85  0.85      30.0\n",
      "1  97417885  269.0  Temp Basal      NaN    NaN      0.35  0.35      30.0\n",
      "2  97417885  269.0  Meal Bolus      4.6   70.0       NaN   NaN       0.0\n",
      "        pid    sgv   eventType  insulin  carbs  absolute  rate  duration\n",
      "0  20216809  119.0  Temp Basal      NaN    NaN      1.25  1.25      30.0\n",
      "1  20216809  119.0  Temp Basal      NaN    NaN      0.75  0.75      30.0\n",
      "2  20216809  119.0        Note      NaN    NaN       NaN   NaN       NaN\n",
      "        pid  sgv         eventType  insulin  carbs  absolute  rate  duration\n",
      "0  47750728  124        Temp Basal      NaN    NaN      0.95  0.95      30.0\n",
      "1  47750728  124  Correction Bolus      0.1    NaN       NaN   NaN       0.0\n",
      "2  47750728  124        Temp Basal      NaN    NaN      0.00     0      90.0\n",
      "        pid  sgv   eventType  insulin  carbs  absolute rate  duration\n",
      "0  60844515  204  Temp Basal      NaN    NaN       0.6  0.6      30.0\n",
      "1  60844515  204  Temp Basal      NaN    NaN       0.6  0.6      30.0\n",
      "2  60844515  204  Temp Basal      NaN    NaN       0.6  0.6      30.0\n",
      "        pid  sgv   eventType  insulin  carbs  absolute  rate  duration\n",
      "0  37764532  208  Temp Basal      NaN    NaN      0.65  0.65      30.0\n",
      "1  37764532  208  Temp Basal      NaN    NaN      0.85  0.85      30.0\n",
      "2  37764532  208  Temp Basal      NaN    NaN      1.00     1      30.0\n",
      "        pid    sgv   eventType  insulin  carbs  absolute rate  duration\n",
      "0  43589707  152.0  Temp Basal      NaN    NaN       0.9  0.9      30.0\n",
      "1  43589707  152.0  Temp Basal      NaN    NaN       0.9  0.9      30.0\n",
      "2  43589707  152.0  Temp Basal      NaN    NaN       0.9  0.9      30.0\n"
     ]
    }
   ],
   "source": [
    "# Synthesize treatment with entries\n",
    "\n",
    "path_treat = '/Users/wang/data/OpenAPS/treat_dfs'\n",
    "path_entries = '/Users/wang/data/OpenAPS/entry_dfs'\n",
    "start_date = '2018-01-01'\n",
    "end_date = '2018-01-31'\n",
    "\n",
    "dfs = []\n",
    "for sample in samples:\n",
    "    #treats\n",
    "    df_t = pickle.load(open(path_treat+'/'+sample+'_treats.pkl', 'rb'))\n",
    "    df_t.set_index('datetime', inplace=True)\n",
    "    df_t = df_t.tz_convert(None)\n",
    "    df_t_2018 = df_t[start_date:end_date]\n",
    "    #bg entries\n",
    "    df_e = pickle.load(open(path_entries+'/'+sample+'_entries.pkl', 'rb'))\n",
    "    df_e.set_index('datetime', inplace=True)\n",
    "    df_e = df_e.tz_convert(None)\n",
    "    df_e_2018 = df_e[start_date:end_date]\n",
    "    \n",
    "    df_2018 = pd.merge(df_e_2018,df_t_2018, on = 'pid', how='left' )\n",
    "    df_2018.sort_index(inplace = True)\n",
    "    print(df_2018.head(3))\n",
    "    dfs.append(df_2018)\n",
    "    \n",
    "dfs_all = pd.concat(dfs)\n",
    "pickle.dump(df_folder, open('/Users/wang/data/OpenAPS/sample_entry_treats.pkl', 'wb'))\n"
   ]
  },
  {
   "cell_type": "code",
   "execution_count": 22,
   "metadata": {},
   "outputs": [
    {
     "data": {
      "text/plain": [
       "count    1.645022e+07\n",
       "mean     3.332370e+01\n",
       "std      4.195641e+01\n",
       "min      0.000000e+00\n",
       "25%      3.000000e+01\n",
       "50%      3.000000e+01\n",
       "75%      3.000000e+01\n",
       "max      7.200000e+02\n",
       "Name: duration, dtype: float64"
      ]
     },
     "execution_count": 22,
     "metadata": {},
     "output_type": "execute_result"
    }
   ],
   "source": [
    "dfs_all['duration'].describe()"
   ]
  },
  {
   "cell_type": "code",
   "execution_count": 45,
   "metadata": {},
   "outputs": [
    {
     "data": {
      "text/plain": [
       "Index(['absolute', 'carbs', 'eventType', 'glucose', 'insulin', 'notes', 'pid',\n",
       "       'rate', 'ratio'],\n",
       "      dtype='object')"
      ]
     },
     "execution_count": 45,
     "metadata": {},
     "output_type": "execute_result"
    }
   ],
   "source": [
    "treats_df.columns"
   ]
  },
  {
   "cell_type": "code",
   "execution_count": 23,
   "metadata": {},
   "outputs": [
    {
     "ename": "NameError",
     "evalue": "name 'treats_df' is not defined",
     "output_type": "error",
     "traceback": [
      "\u001b[0;31m---------------------------------------------------------------------------\u001b[0m",
      "\u001b[0;31mNameError\u001b[0m                                 Traceback (most recent call last)",
      "\u001b[0;32m<ipython-input-23-50740a39e99f>\u001b[0m in \u001b[0;36m<module>\u001b[0;34m\u001b[0m\n\u001b[0;32m----> 1\u001b[0;31m \u001b[0mtreats_df\u001b[0m\u001b[0;34m[\u001b[0m\u001b[0;34m'eventType'\u001b[0m\u001b[0;34m]\u001b[0m\u001b[0;34m.\u001b[0m\u001b[0munique\u001b[0m\u001b[0;34m(\u001b[0m\u001b[0;34m)\u001b[0m\u001b[0;34m\u001b[0m\u001b[0;34m\u001b[0m\u001b[0m\n\u001b[0m",
      "\u001b[0;31mNameError\u001b[0m: name 'treats_df' is not defined"
     ]
    }
   ],
   "source": [
    "treats_df['eventType'].unique()"
   ]
  },
  {
   "cell_type": "code",
   "execution_count": 44,
   "metadata": {},
   "outputs": [
    {
     "data": {
      "text/html": [
       "<div>\n",
       "<style scoped>\n",
       "    .dataframe tbody tr th:only-of-type {\n",
       "        vertical-align: middle;\n",
       "    }\n",
       "\n",
       "    .dataframe tbody tr th {\n",
       "        vertical-align: top;\n",
       "    }\n",
       "\n",
       "    .dataframe thead th {\n",
       "        text-align: right;\n",
       "    }\n",
       "</style>\n",
       "<table border=\"1\" class=\"dataframe\">\n",
       "  <thead>\n",
       "    <tr style=\"text-align: right;\">\n",
       "      <th></th>\n",
       "      <th>pid</th>\n",
       "      <th>sgv</th>\n",
       "    </tr>\n",
       "  </thead>\n",
       "  <tbody>\n",
       "    <tr>\n",
       "      <th>count</th>\n",
       "      <td>336123</td>\n",
       "      <td>334934.0</td>\n",
       "    </tr>\n",
       "    <tr>\n",
       "      <th>unique</th>\n",
       "      <td>41</td>\n",
       "      <td>373.0</td>\n",
       "    </tr>\n",
       "    <tr>\n",
       "      <th>top</th>\n",
       "      <td>74077367</td>\n",
       "      <td>110.0</td>\n",
       "    </tr>\n",
       "    <tr>\n",
       "      <th>freq</th>\n",
       "      <td>16951</td>\n",
       "      <td>3628.0</td>\n",
       "    </tr>\n",
       "  </tbody>\n",
       "</table>\n",
       "</div>"
      ],
      "text/plain": [
       "             pid       sgv\n",
       "count     336123  334934.0\n",
       "unique        41     373.0\n",
       "top     74077367     110.0\n",
       "freq       16951    3628.0"
      ]
     },
     "execution_count": 44,
     "metadata": {},
     "output_type": "execute_result"
    }
   ],
   "source": [
    "entries_df.describe()"
   ]
  },
  {
   "cell_type": "code",
   "execution_count": null,
   "metadata": {},
   "outputs": [],
   "source": [
    "df_2018_1 = pd.merge(treats_df, entries_df, on='pid')"
   ]
  }
 ],
 "metadata": {
  "kernelspec": {
   "display_name": "Python 3",
   "language": "python",
   "name": "python3"
  },
  "language_info": {
   "codemirror_mode": {
    "name": "ipython",
    "version": 3
   },
   "file_extension": ".py",
   "mimetype": "text/x-python",
   "name": "python",
   "nbconvert_exporter": "python",
   "pygments_lexer": "ipython3",
   "version": "3.5.3"
  }
 },
 "nbformat": 4,
 "nbformat_minor": 2
}
