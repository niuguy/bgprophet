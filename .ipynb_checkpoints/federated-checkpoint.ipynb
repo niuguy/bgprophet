{
 "cells": [
  {
   "cell_type": "code",
   "execution_count": 79,
   "metadata": {},
   "outputs": [],
   "source": [
    "from __future__ import absolute_import, division, print_function\n",
    "\n",
    "import collections\n",
    "import numpy as np\n",
    "from six.moves import range\n",
    "import tensorflow as tf\n",
    "import tensorflow_federated as tff\n",
    "import tempfile\n",
    "import os\n",
    "import six\n",
    "\n",
    "import json\n",
    "import pandas as pd\n",
    "import _pickle as pickle\n",
    "\n",
    "tf.enable_resource_variables()"
   ]
  },
  {
   "cell_type": "markdown",
   "metadata": {},
   "source": [
    "### Data preprocessing"
   ]
  },
  {
   "cell_type": "code",
   "execution_count": 21,
   "metadata": {},
   "outputs": [],
   "source": [
    "##1. read raw data\n",
    "bg1_path = 'data/20396154_entries.json'\n",
    "bg2_path = 'data/99296581_entries.json'\n",
    "df_bg1 = pd.read_json(bg1_path)\n",
    "df_bg2 = pd.read_json(bg2_path)"
   ]
  },
  {
   "cell_type": "code",
   "execution_count": 115,
   "metadata": {},
   "outputs": [],
   "source": [
    "##2. first step cleaning, remove unrelated information\n",
    "def prefed_process(df_bg, client_id, window):\n",
    "    df_bg = df_bg[['date', 'sgv']]    \n",
    "    ret = df_bg.set_index('date').sort_index()\n",
    "    in_start = 0\n",
    "    fed = []\n",
    "    for i in range(len(df_bg)):\n",
    "        in_end = in_start + window\n",
    "        if in_end < len(df_bg):\n",
    "            fed.append((client_id, df_bg['sgv'][in_start:in_end].values.tolist()))\n",
    "        in_start += 1 \n",
    "    \n",
    "    return fed"
   ]
  },
  {
   "cell_type": "code",
   "execution_count": 131,
   "metadata": {},
   "outputs": [],
   "source": [
    "fed1 = prefed_process(df_bg1,'20396154',18)\n",
    "fed2 = prefed_process(df_bg2,'99296581',18)"
   ]
  },
  {
   "cell_type": "code",
   "execution_count": 132,
   "metadata": {},
   "outputs": [
    {
     "data": {
      "text/plain": [
       "('20396154',\n",
       " [137,\n",
       "  143,\n",
       "  148,\n",
       "  149,\n",
       "  147,\n",
       "  149,\n",
       "  146,\n",
       "  138,\n",
       "  131,\n",
       "  130,\n",
       "  127,\n",
       "  121,\n",
       "  116,\n",
       "  109,\n",
       "  107,\n",
       "  105,\n",
       "  108,\n",
       "  112])"
      ]
     },
     "execution_count": 132,
     "metadata": {},
     "output_type": "execute_result"
    }
   ],
   "source": [
    "fed1[0]"
   ]
  },
  {
   "cell_type": "code",
   "execution_count": 133,
   "metadata": {},
   "outputs": [],
   "source": [
    "fed = fed1+fed2"
   ]
  },
  {
   "cell_type": "code",
   "execution_count": 185,
   "metadata": {},
   "outputs": [],
   "source": [
    "def _create_example(features):\n",
    "  \"\"\"Convert a tuple of features to a tf.Example.\"\"\"\n",
    "  output_features = collections.OrderedDict()\n",
    "  for i, feature in enumerate(features):\n",
    "    if isinstance(feature, int):\n",
    "      output_features[str(i)] = tf.train.Feature(\n",
    "          int64_list=tf.train.Int64List(value=[feature]))\n",
    "    elif isinstance(feature, float):\n",
    "      output_features[str(i)] = tf.train.Feature(\n",
    "          float_list=tf.train.FloatList(value=[feature]))\n",
    "    elif isinstance(feature, list):\n",
    "      output_features[str(i)] = tf.train.Feature(\n",
    "          float_list=tf.train.FloatList(value=feature))\n",
    "    else:\n",
    "      # This is hit if the unittest is updated with unknown types, not an error\n",
    "      # in the object under test. Extend the unittest capabilities to fix.\n",
    "      raise NotImplementedError('Cannot handle feature type [%s]' %\n",
    "                                type(feature))\n",
    "  return tf.train.Example(features=tf.train.Features(\n",
    "      feature=output_features)).SerializeToString()"
   ]
  },
  {
   "cell_type": "code",
   "execution_count": 186,
   "metadata": {},
   "outputs": [],
   "source": [
    "class FakeUserData(object):\n",
    "  \"\"\"Container object that creates fake per-user data.\n",
    "  Using the fake test data, create temporary per-user TFRecord files used for\n",
    "  the test. Convert each feature-tuple to a `tf.Example` protocol buffer message\n",
    "  and serialize it to the per-user file.\n",
    "  \"\"\"\n",
    "\n",
    "  def __init__(self, test_data, temp_dir):\n",
    "    \"\"\"Construct a FakePerUseData object.\n",
    "    Args:\n",
    "      test_data: A list of tuples whose first element is the client ID and all\n",
    "        subsequent elements are training example features.\n",
    "      temp_dir: The path to the directory to store temporary per-user files.\n",
    "    Returns:\n",
    "      A dict of client IDs to string file paths to TFRecord files.\n",
    "    \"\"\"\n",
    "    writers = {}\n",
    "    client_file_dict = {}\n",
    "    for example in test_data:\n",
    "      client_id, features = example[0], example[1:]\n",
    "      writer = writers.get(client_id)\n",
    "      if writer is None:\n",
    "        fd, path = tempfile.mkstemp(suffix=client_id, dir=temp_dir)\n",
    "        # close the pre-opened file descriptor immediately to avoid leaking.\n",
    "        os.close(fd)\n",
    "        client_file_dict[client_id] = path\n",
    "        writer = tf.python_io.TFRecordWriter(path=path)\n",
    "        writers[client_id] = writer\n",
    "      writer.write(_create_example(features))\n",
    "    for writer in six.itervalues(writers):\n",
    "      writer.close()\n",
    "    self._client_data_file_dict = client_file_dict\n",
    "\n",
    "  def create_test_dataset_fn(self, client_id):\n",
    "    client_path = self._client_data_file_dict[client_id]\n",
    "    features = {\n",
    "#         '0': tf.FixedLenFeature(shape=[], dtype=tf.int64),\n",
    "        '0': tf.FixedLenFeature(shape=[18], dtype=tf.float32),\n",
    "    }\n",
    "\n",
    "    def parse_example(e):\n",
    "      feature_dict = tf.parse_single_example(serialized=e, features=features)\n",
    "      return tuple(feature_dict[k] for k in sorted(six.iterkeys(feature_dict)))\n",
    "\n",
    "    return tf.data.TFRecordDataset(client_path).map(parse_example)\n",
    "\n",
    "  @property\n",
    "  def client_ids(self):\n",
    "    return list(self._client_data_file_dict.keys())\n"
   ]
  },
  {
   "cell_type": "code",
   "execution_count": 192,
   "metadata": {},
   "outputs": [],
   "source": [
    "BATCH_SIZE = 128\n",
    "SEQ_LENGTH = 18\n",
    "\n",
    "BatchType = collections.namedtuple('BatchType', ['x', 'y'])\n",
    "\n",
    "def split_input_target(chunk):\n",
    "  input_text = tf.map_fn(lambda x: x[:12], chunk)\n",
    "  target_text = tf.map_fn(lambda x: x[12:], chunk)\n",
    "  return BatchType(input_text, target_text)\n",
    "\n",
    "\n",
    "def preprocess(dataset):  \n",
    "  return (dataset\n",
    "      # each of length SEQ_LENGTH.\n",
    "      .map(split_input_target))"
   ]
  },
  {
   "cell_type": "code",
   "execution_count": 193,
   "metadata": {},
   "outputs": [],
   "source": [
    "temp_dir = tempfile.mkdtemp()\n",
    "data = FakeUserData(fed, temp_dir)"
   ]
  },
  {
   "cell_type": "code",
   "execution_count": 195,
   "metadata": {},
   "outputs": [
    {
     "ename": "AttributeError",
     "evalue": "'list' object has no attribute 'map'",
     "output_type": "error",
     "traceback": [
      "\u001b[0;31m---------------------------------------------------------------------------\u001b[0m",
      "\u001b[0;31mAttributeError\u001b[0m                            Traceback (most recent call last)",
      "\u001b[0;32m<ipython-input-195-5a47a332dfa0>\u001b[0m in \u001b[0;36m<module>\u001b[0;34m\u001b[0m\n\u001b[0;32m----> 1\u001b[0;31m \u001b[0mexample_data\u001b[0m \u001b[0;34m=\u001b[0m \u001b[0mpreprocess\u001b[0m\u001b[0;34m(\u001b[0m\u001b[0mfed\u001b[0m\u001b[0;34m)\u001b[0m\u001b[0;34m\u001b[0m\u001b[0m\n\u001b[0m",
      "\u001b[0;32m<ipython-input-192-74845db35480>\u001b[0m in \u001b[0;36mpreprocess\u001b[0;34m(dataset)\u001b[0m\n\u001b[1;32m     11\u001b[0m \u001b[0;34m\u001b[0m\u001b[0m\n\u001b[1;32m     12\u001b[0m \u001b[0;32mdef\u001b[0m \u001b[0mpreprocess\u001b[0m\u001b[0;34m(\u001b[0m\u001b[0mdataset\u001b[0m\u001b[0;34m)\u001b[0m\u001b[0;34m:\u001b[0m\u001b[0;34m\u001b[0m\u001b[0m\n\u001b[0;32m---> 13\u001b[0;31m   return (dataset\n\u001b[0m\u001b[1;32m     14\u001b[0m       \u001b[0;31m# each of length SEQ_LENGTH.\u001b[0m\u001b[0;34m\u001b[0m\u001b[0;34m\u001b[0m\u001b[0m\n\u001b[1;32m     15\u001b[0m       .map(split_input_target))\n",
      "\u001b[0;31mAttributeError\u001b[0m: 'list' object has no attribute 'map'"
     ]
    }
   ],
   "source": [
    "example_data = preprocess(fed)"
   ]
  },
  {
   "cell_type": "code",
   "execution_count": null,
   "metadata": {},
   "outputs": [],
   "source": [
    "example = data.create_test_dataset_fn('20396154')"
   ]
  },
  {
   "cell_type": "code",
   "execution_count": null,
   "metadata": {},
   "outputs": [],
   "source": [
    "example.take(1)"
   ]
  },
  {
   "cell_type": "markdown",
   "metadata": {},
   "source": [
    "### Load Model"
   ]
  },
  {
   "cell_type": "code",
   "execution_count": 127,
   "metadata": {},
   "outputs": [],
   "source": [
    "keras_conv_lstm = tf.keras.models.load_model('models/conv_lstm_128_2_6.kerasmodel', compile=False)"
   ]
  },
  {
   "cell_type": "code",
   "execution_count": 148,
   "metadata": {},
   "outputs": [
    {
     "data": {
      "text/plain": [
       "array([[114.02403, 112.042  , 109.5221 , 109.03717, 108.37824, 107.89183]],\n",
       "      dtype=float32)"
      ]
     },
     "execution_count": 148,
     "metadata": {},
     "output_type": "execute_result"
    }
   ],
   "source": [
    "keras_conv_lstm.predict(np.array([137,143,148,149,147,149,146,138,131,130,127,121]).reshape(((1, 2, 1, 6, 1))))"
   ]
  },
  {
   "cell_type": "code",
   "execution_count": 135,
   "metadata": {},
   "outputs": [],
   "source": [
    "def compile(keras_model):\n",
    "  keras_model.compile(\n",
    "      optimizer=tf.keras.optimizers.SGD(lr=0.5),loss='mse')\n",
    "  return keras_model"
   ]
  },
  {
   "cell_type": "code",
   "execution_count": 177,
   "metadata": {},
   "outputs": [],
   "source": [
    "\n",
    "\n",
    "def create_tff_model():\n",
    "  # TFF uses a `dummy_batch` so it knows the types and shapes\n",
    "  # that your model expects.\n",
    "  x = tf.constant(np.random.random_sample((BATCH_SIZE, 2, 1, 6, 1))*200)\n",
    "  x = tf.cast(x, 'float32')\n",
    "  y = tf.constant(np.random.random_sample((BATCH_SIZE, 6))*200)\n",
    "  y = tf.cast(y, 'float32')\n",
    "  dummy_batch = collections.OrderedDict([('x', x), ('y', y)]) \n",
    "  keras_model_clone = compile(tf.keras.models.clone_model(keras_model))\n",
    "  return tff.learning.from_compiled_keras_model(\n",
    "      keras_model_clone, dummy_batch=dummy_batch)"
   ]
  },
  {
   "cell_type": "code",
   "execution_count": 178,
   "metadata": {},
   "outputs": [
    {
     "name": "stderr",
     "output_type": "stream",
     "text": [
      "W0620 16:28:02.401590 140439100831488 deprecation.py:323] From /home/jupyter/.local/lib/python3.5/site-packages/tensorflow_core/python/keras/optimizer_v2/optimizer_v2.py:460: BaseResourceVariable.constraint (from tensorflow.python.ops.resource_variable_ops) is deprecated and will be removed in a future version.\n",
      "Instructions for updating:\n",
      "Apply a constraint manually following the optimizer update step.\n",
      "W0620 16:28:02.421520 140439100831488 deprecation_wrapper.py:118] From /home/jupyter/.local/lib/python3.5/site-packages/tensorflow_federated/python/core/impl/tensorflow_serialization.py:296: The name tf.initializers.variables is deprecated. Please use tf.compat.v1.initializers.variables instead.\n",
      "\n",
      "W0620 16:28:06.055349 140439100831488 deprecation.py:323] From /home/jupyter/.local/lib/python3.5/site-packages/tensorflow_core/python/ops/math_grad.py:1251: add_dispatch_support.<locals>.wrapper (from tensorflow.python.ops.array_ops) is deprecated and will be removed in a future version.\n",
      "Instructions for updating:\n",
      "Use tf.where in 2.0, which has the same broadcast rule as np.where\n"
     ]
    }
   ],
   "source": [
    "fed_avg = tff.learning.build_federated_averaging_process(model_fn=create_tff_model)"
   ]
  },
  {
   "cell_type": "code",
   "execution_count": 197,
   "metadata": {},
   "outputs": [
    {
     "data": {
      "text/plain": [
       "('20396154',\n",
       " [137,\n",
       "  143,\n",
       "  148,\n",
       "  149,\n",
       "  147,\n",
       "  149,\n",
       "  146,\n",
       "  138,\n",
       "  131,\n",
       "  130,\n",
       "  127,\n",
       "  121,\n",
       "  116,\n",
       "  109,\n",
       "  107,\n",
       "  105,\n",
       "  108,\n",
       "  112])"
      ]
     },
     "execution_count": 197,
     "metadata": {},
     "output_type": "execute_result"
    }
   ],
   "source": [
    "fed[0]"
   ]
  },
  {
   "cell_type": "code",
   "execution_count": 200,
   "metadata": {},
   "outputs": [
    {
     "ename": "TypeError",
     "evalue": "Unable to convert a Python object of type int into an `AnonymousTuple`.",
     "output_type": "error",
     "traceback": [
      "\u001b[0;31m---------------------------------------------------------------------------\u001b[0m",
      "\u001b[0;31mTypeError\u001b[0m                                 Traceback (most recent call last)",
      "\u001b[0;32m<ipython-input-200-284e128c3f08>\u001b[0m in \u001b[0;36m<module>\u001b[0;34m\u001b[0m\n\u001b[1;32m      1\u001b[0m \u001b[0mstate\u001b[0m \u001b[0;34m=\u001b[0m \u001b[0mfed_avg\u001b[0m\u001b[0;34m.\u001b[0m\u001b[0minitialize\u001b[0m\u001b[0;34m(\u001b[0m\u001b[0;34m)\u001b[0m\u001b[0;34m\u001b[0m\u001b[0m\n\u001b[0;32m----> 2\u001b[0;31m \u001b[0mstate\u001b[0m\u001b[0;34m,\u001b[0m \u001b[0mmetrics\u001b[0m \u001b[0;34m=\u001b[0m \u001b[0mfed_avg\u001b[0m\u001b[0;34m.\u001b[0m\u001b[0mnext\u001b[0m\u001b[0;34m(\u001b[0m\u001b[0mstate\u001b[0m\u001b[0;34m,\u001b[0m \u001b[0;34m(\u001b[0m\u001b[0;34m[\u001b[0m\u001b[0;34m[\u001b[0m\u001b[0;36m123\u001b[0m\u001b[0;34m,\u001b[0m\u001b[0;36m4124\u001b[0m\u001b[0;34m]\u001b[0m\u001b[0;34m]\u001b[0m\u001b[0;34m)\u001b[0m\u001b[0;34m)\u001b[0m\u001b[0;34m\u001b[0m\u001b[0m\n\u001b[0m\u001b[1;32m      3\u001b[0m \u001b[0mprint\u001b[0m\u001b[0;34m(\u001b[0m\u001b[0mmetrics\u001b[0m\u001b[0;34m)\u001b[0m\u001b[0;34m\u001b[0m\u001b[0m\n",
      "\u001b[0;32m~/.local/lib/python3.5/site-packages/tensorflow_federated/python/core/impl/function_utils.py\u001b[0m in \u001b[0;36m__call__\u001b[0;34m(self, *args, **kwargs)\u001b[0m\n\u001b[1;32m    628\u001b[0m   \u001b[0;32mdef\u001b[0m \u001b[0m__call__\u001b[0m\u001b[0;34m(\u001b[0m\u001b[0mself\u001b[0m\u001b[0;34m,\u001b[0m \u001b[0;34m*\u001b[0m\u001b[0margs\u001b[0m\u001b[0;34m,\u001b[0m \u001b[0;34m**\u001b[0m\u001b[0mkwargs\u001b[0m\u001b[0;34m)\u001b[0m\u001b[0;34m:\u001b[0m\u001b[0;34m\u001b[0m\u001b[0m\n\u001b[1;32m    629\u001b[0m     \u001b[0mcontext\u001b[0m \u001b[0;34m=\u001b[0m \u001b[0mself\u001b[0m\u001b[0;34m.\u001b[0m\u001b[0m_context_stack\u001b[0m\u001b[0;34m.\u001b[0m\u001b[0mcurrent\u001b[0m\u001b[0;34m\u001b[0m\u001b[0m\n\u001b[0;32m--> 630\u001b[0;31m     \u001b[0marg\u001b[0m \u001b[0;34m=\u001b[0m \u001b[0mpack_args\u001b[0m\u001b[0;34m(\u001b[0m\u001b[0mself\u001b[0m\u001b[0;34m.\u001b[0m\u001b[0m_type_signature\u001b[0m\u001b[0;34m.\u001b[0m\u001b[0mparameter\u001b[0m\u001b[0;34m,\u001b[0m \u001b[0margs\u001b[0m\u001b[0;34m,\u001b[0m \u001b[0mkwargs\u001b[0m\u001b[0;34m,\u001b[0m \u001b[0mcontext\u001b[0m\u001b[0;34m)\u001b[0m\u001b[0;34m\u001b[0m\u001b[0m\n\u001b[0m\u001b[1;32m    631\u001b[0m     \u001b[0;32mreturn\u001b[0m \u001b[0mcontext\u001b[0m\u001b[0;34m.\u001b[0m\u001b[0minvoke\u001b[0m\u001b[0;34m(\u001b[0m\u001b[0mself\u001b[0m\u001b[0;34m,\u001b[0m \u001b[0marg\u001b[0m\u001b[0;34m)\u001b[0m\u001b[0;34m\u001b[0m\u001b[0m\n\u001b[1;32m    632\u001b[0m \u001b[0;34m\u001b[0m\u001b[0m\n",
      "\u001b[0;32m~/.local/lib/python3.5/site-packages/tensorflow_federated/python/core/impl/function_utils.py\u001b[0m in \u001b[0;36mpack_args\u001b[0;34m(parameter_type, args, kwargs, context)\u001b[0m\n\u001b[1;32m    385\u001b[0m       \u001b[0;32melse\u001b[0m\u001b[0;34m:\u001b[0m\u001b[0;34m\u001b[0m\u001b[0m\n\u001b[1;32m    386\u001b[0m         arg = pack_args_into_anonymous_tuple(args, kwargs, parameter_type,\n\u001b[0;32m--> 387\u001b[0;31m                                              context)\n\u001b[0m\u001b[1;32m    388\u001b[0m       \u001b[0;32mreturn\u001b[0m \u001b[0mcontext\u001b[0m\u001b[0;34m.\u001b[0m\u001b[0mingest\u001b[0m\u001b[0;34m(\u001b[0m\u001b[0marg\u001b[0m\u001b[0;34m,\u001b[0m \u001b[0mparameter_type\u001b[0m\u001b[0;34m)\u001b[0m\u001b[0;34m\u001b[0m\u001b[0m\n\u001b[1;32m    389\u001b[0m \u001b[0;34m\u001b[0m\u001b[0m\n",
      "\u001b[0;32m~/.local/lib/python3.5/site-packages/tensorflow_federated/python/core/impl/function_utils.py\u001b[0m in \u001b[0;36mpack_args_into_anonymous_tuple\u001b[0;34m(args, kwargs, type_spec, context)\u001b[0m\n\u001b[1;32m    307\u001b[0m           \u001b[0;32melse\u001b[0m\u001b[0;34m:\u001b[0m\u001b[0;34m\u001b[0m\u001b[0m\n\u001b[1;32m    308\u001b[0m             \u001b[0marg_value\u001b[0m \u001b[0;34m=\u001b[0m \u001b[0margs\u001b[0m\u001b[0;34m[\u001b[0m\u001b[0mindex\u001b[0m\u001b[0;34m]\u001b[0m\u001b[0;34m\u001b[0m\u001b[0m\n\u001b[0;32m--> 309\u001b[0;31m             \u001b[0mresult_elements\u001b[0m\u001b[0;34m.\u001b[0m\u001b[0mappend\u001b[0m\u001b[0;34m(\u001b[0m\u001b[0;34m(\u001b[0m\u001b[0mname\u001b[0m\u001b[0;34m,\u001b[0m \u001b[0mcontext\u001b[0m\u001b[0;34m.\u001b[0m\u001b[0mingest\u001b[0m\u001b[0;34m(\u001b[0m\u001b[0marg_value\u001b[0m\u001b[0;34m,\u001b[0m \u001b[0melem_type\u001b[0m\u001b[0;34m)\u001b[0m\u001b[0;34m)\u001b[0m\u001b[0;34m)\u001b[0m\u001b[0;34m\u001b[0m\u001b[0m\n\u001b[0m\u001b[1;32m    310\u001b[0m             \u001b[0mpositions_used\u001b[0m\u001b[0;34m.\u001b[0m\u001b[0madd\u001b[0m\u001b[0;34m(\u001b[0m\u001b[0mindex\u001b[0m\u001b[0;34m)\u001b[0m\u001b[0;34m\u001b[0m\u001b[0m\n\u001b[1;32m    311\u001b[0m         \u001b[0;32melif\u001b[0m \u001b[0mname\u001b[0m \u001b[0;32mis\u001b[0m \u001b[0;32mnot\u001b[0m \u001b[0;32mNone\u001b[0m \u001b[0;32mand\u001b[0m \u001b[0mname\u001b[0m \u001b[0;32min\u001b[0m \u001b[0mkwargs\u001b[0m\u001b[0;34m:\u001b[0m\u001b[0;34m\u001b[0m\u001b[0m\n",
      "\u001b[0;32m~/.local/lib/python3.5/site-packages/tensorflow_federated/python/core/impl/reference_executor.py\u001b[0m in \u001b[0;36mingest\u001b[0;34m(self, arg, type_spec)\u001b[0m\n\u001b[1;32m    666\u001b[0m       \u001b[0;32mreturn\u001b[0m \u001b[0mfn\u001b[0m\u001b[0;34m\u001b[0m\u001b[0m\n\u001b[1;32m    667\u001b[0m \u001b[0;34m\u001b[0m\u001b[0m\n\u001b[0;32m--> 668\u001b[0;31m     \u001b[0;32mreturn\u001b[0m \u001b[0mto_representation_for_type\u001b[0m\u001b[0;34m(\u001b[0m\u001b[0marg\u001b[0m\u001b[0;34m,\u001b[0m \u001b[0mtype_spec\u001b[0m\u001b[0;34m,\u001b[0m \u001b[0m_handle_callable\u001b[0m\u001b[0;34m)\u001b[0m\u001b[0;34m\u001b[0m\u001b[0m\n\u001b[0m\u001b[1;32m    669\u001b[0m \u001b[0;34m\u001b[0m\u001b[0m\n\u001b[1;32m    670\u001b[0m   \u001b[0;32mdef\u001b[0m \u001b[0minvoke\u001b[0m\u001b[0;34m(\u001b[0m\u001b[0mself\u001b[0m\u001b[0;34m,\u001b[0m \u001b[0mfn\u001b[0m\u001b[0;34m,\u001b[0m \u001b[0marg\u001b[0m\u001b[0;34m)\u001b[0m\u001b[0;34m:\u001b[0m\u001b[0;34m\u001b[0m\u001b[0m\n",
      "\u001b[0;32m~/.local/lib/python3.5/site-packages/tensorflow_federated/python/core/impl/reference_executor.py\u001b[0m in \u001b[0;36mto_representation_for_type\u001b[0;34m(value, type_spec, callable_handler)\u001b[0m\n\u001b[1;32m    240\u001b[0m       return [\n\u001b[1;32m    241\u001b[0m           \u001b[0mto_representation_for_type\u001b[0m\u001b[0;34m(\u001b[0m\u001b[0mv\u001b[0m\u001b[0;34m,\u001b[0m \u001b[0mtype_spec\u001b[0m\u001b[0;34m.\u001b[0m\u001b[0mmember\u001b[0m\u001b[0;34m,\u001b[0m \u001b[0mcallable_handler\u001b[0m\u001b[0;34m)\u001b[0m\u001b[0;34m\u001b[0m\u001b[0m\n\u001b[0;32m--> 242\u001b[0;31m           \u001b[0;32mfor\u001b[0m \u001b[0mv\u001b[0m \u001b[0;32min\u001b[0m \u001b[0mvalue\u001b[0m\u001b[0;34m\u001b[0m\u001b[0m\n\u001b[0m\u001b[1;32m    243\u001b[0m       ]\n\u001b[1;32m    244\u001b[0m   \u001b[0;32melse\u001b[0m\u001b[0;34m:\u001b[0m\u001b[0;34m\u001b[0m\u001b[0m\n",
      "\u001b[0;32m~/.local/lib/python3.5/site-packages/tensorflow_federated/python/core/impl/reference_executor.py\u001b[0m in \u001b[0;36m<listcomp>\u001b[0;34m(.0)\u001b[0m\n\u001b[1;32m    240\u001b[0m       return [\n\u001b[1;32m    241\u001b[0m           \u001b[0mto_representation_for_type\u001b[0m\u001b[0;34m(\u001b[0m\u001b[0mv\u001b[0m\u001b[0;34m,\u001b[0m \u001b[0mtype_spec\u001b[0m\u001b[0;34m.\u001b[0m\u001b[0mmember\u001b[0m\u001b[0;34m,\u001b[0m \u001b[0mcallable_handler\u001b[0m\u001b[0;34m)\u001b[0m\u001b[0;34m\u001b[0m\u001b[0m\n\u001b[0;32m--> 242\u001b[0;31m           \u001b[0;32mfor\u001b[0m \u001b[0mv\u001b[0m \u001b[0;32min\u001b[0m \u001b[0mvalue\u001b[0m\u001b[0;34m\u001b[0m\u001b[0m\n\u001b[0m\u001b[1;32m    243\u001b[0m       ]\n\u001b[1;32m    244\u001b[0m   \u001b[0;32melse\u001b[0m\u001b[0;34m:\u001b[0m\u001b[0;34m\u001b[0m\u001b[0m\n",
      "\u001b[0;32m~/.local/lib/python3.5/site-packages/tensorflow_federated/python/core/impl/reference_executor.py\u001b[0m in \u001b[0;36mto_representation_for_type\u001b[0;34m(value, type_spec, callable_handler)\u001b[0m\n\u001b[1;32m    207\u001b[0m     return [\n\u001b[1;32m    208\u001b[0m         \u001b[0mto_representation_for_type\u001b[0m\u001b[0;34m(\u001b[0m\u001b[0mv\u001b[0m\u001b[0;34m,\u001b[0m \u001b[0mtype_spec\u001b[0m\u001b[0;34m.\u001b[0m\u001b[0melement\u001b[0m\u001b[0;34m,\u001b[0m \u001b[0mcallable_handler\u001b[0m\u001b[0;34m)\u001b[0m\u001b[0;34m\u001b[0m\u001b[0m\n\u001b[0;32m--> 209\u001b[0;31m         \u001b[0;32mfor\u001b[0m \u001b[0mv\u001b[0m \u001b[0;32min\u001b[0m \u001b[0mvalue\u001b[0m\u001b[0;34m\u001b[0m\u001b[0m\n\u001b[0m\u001b[1;32m    210\u001b[0m     ]\n\u001b[1;32m    211\u001b[0m   \u001b[0;32melif\u001b[0m \u001b[0misinstance\u001b[0m\u001b[0;34m(\u001b[0m\u001b[0mtype_spec\u001b[0m\u001b[0;34m,\u001b[0m \u001b[0mcomputation_types\u001b[0m\u001b[0;34m.\u001b[0m\u001b[0mFunctionType\u001b[0m\u001b[0;34m)\u001b[0m\u001b[0;34m:\u001b[0m\u001b[0;34m\u001b[0m\u001b[0m\n",
      "\u001b[0;32m~/.local/lib/python3.5/site-packages/tensorflow_federated/python/core/impl/reference_executor.py\u001b[0m in \u001b[0;36m<listcomp>\u001b[0;34m(.0)\u001b[0m\n\u001b[1;32m    207\u001b[0m     return [\n\u001b[1;32m    208\u001b[0m         \u001b[0mto_representation_for_type\u001b[0m\u001b[0;34m(\u001b[0m\u001b[0mv\u001b[0m\u001b[0;34m,\u001b[0m \u001b[0mtype_spec\u001b[0m\u001b[0;34m.\u001b[0m\u001b[0melement\u001b[0m\u001b[0;34m,\u001b[0m \u001b[0mcallable_handler\u001b[0m\u001b[0;34m)\u001b[0m\u001b[0;34m\u001b[0m\u001b[0m\n\u001b[0;32m--> 209\u001b[0;31m         \u001b[0;32mfor\u001b[0m \u001b[0mv\u001b[0m \u001b[0;32min\u001b[0m \u001b[0mvalue\u001b[0m\u001b[0;34m\u001b[0m\u001b[0m\n\u001b[0m\u001b[1;32m    210\u001b[0m     ]\n\u001b[1;32m    211\u001b[0m   \u001b[0;32melif\u001b[0m \u001b[0misinstance\u001b[0m\u001b[0;34m(\u001b[0m\u001b[0mtype_spec\u001b[0m\u001b[0;34m,\u001b[0m \u001b[0mcomputation_types\u001b[0m\u001b[0;34m.\u001b[0m\u001b[0mFunctionType\u001b[0m\u001b[0;34m)\u001b[0m\u001b[0;34m:\u001b[0m\u001b[0;34m\u001b[0m\u001b[0m\n",
      "\u001b[0;32m~/.local/lib/python3.5/site-packages/tensorflow_federated/python/core/impl/reference_executor.py\u001b[0m in \u001b[0;36mto_representation_for_type\u001b[0;34m(value, type_spec, callable_handler)\u001b[0m\n\u001b[1;32m    174\u001b[0m           \u001b[0;34m(\u001b[0m\u001b[0mk\u001b[0m\u001b[0;34m,\u001b[0m \u001b[0mvalue\u001b[0m\u001b[0;34m[\u001b[0m\u001b[0mk\u001b[0m\u001b[0;34m]\u001b[0m\u001b[0;34m)\u001b[0m \u001b[0;32mfor\u001b[0m \u001b[0mk\u001b[0m\u001b[0;34m,\u001b[0m \u001b[0m_\u001b[0m \u001b[0;32min\u001b[0m \u001b[0mtype_spec_elements\u001b[0m\u001b[0;34m\u001b[0m\u001b[0m\n\u001b[1;32m    175\u001b[0m       ])\n\u001b[0;32m--> 176\u001b[0;31m     \u001b[0mvalue\u001b[0m \u001b[0;34m=\u001b[0m \u001b[0manonymous_tuple\u001b[0m\u001b[0;34m.\u001b[0m\u001b[0mfrom_container\u001b[0m\u001b[0;34m(\u001b[0m\u001b[0mvalue\u001b[0m\u001b[0;34m)\u001b[0m\u001b[0;34m\u001b[0m\u001b[0m\n\u001b[0m\u001b[1;32m    177\u001b[0m     \u001b[0mvalue_elements\u001b[0m \u001b[0;34m=\u001b[0m \u001b[0manonymous_tuple\u001b[0m\u001b[0;34m.\u001b[0m\u001b[0mto_elements\u001b[0m\u001b[0;34m(\u001b[0m\u001b[0mvalue\u001b[0m\u001b[0;34m)\u001b[0m\u001b[0;34m\u001b[0m\u001b[0m\n\u001b[1;32m    178\u001b[0m     \u001b[0;32mif\u001b[0m \u001b[0mlen\u001b[0m\u001b[0;34m(\u001b[0m\u001b[0mvalue_elements\u001b[0m\u001b[0;34m)\u001b[0m \u001b[0;34m!=\u001b[0m \u001b[0mlen\u001b[0m\u001b[0;34m(\u001b[0m\u001b[0mtype_spec_elements\u001b[0m\u001b[0;34m)\u001b[0m\u001b[0;34m:\u001b[0m\u001b[0;34m\u001b[0m\u001b[0m\n",
      "\u001b[0;32m~/.local/lib/python3.5/site-packages/tensorflow_federated/python/common_libs/anonymous_tuple.py\u001b[0m in \u001b[0;36mfrom_container\u001b[0;34m(value, recursive)\u001b[0m\n\u001b[1;32m    417\u001b[0m       \u001b[0;32mreturn\u001b[0m \u001b[0mvalue\u001b[0m\u001b[0;34m\u001b[0m\u001b[0m\n\u001b[1;32m    418\u001b[0m \u001b[0;34m\u001b[0m\u001b[0m\n\u001b[0;32m--> 419\u001b[0;31m   \u001b[0;32mreturn\u001b[0m \u001b[0m_convert\u001b[0m\u001b[0;34m(\u001b[0m\u001b[0mvalue\u001b[0m\u001b[0;34m,\u001b[0m \u001b[0mrecursive\u001b[0m\u001b[0;34m,\u001b[0m \u001b[0mmust_be_container\u001b[0m\u001b[0;34m=\u001b[0m\u001b[0;32mTrue\u001b[0m\u001b[0;34m)\u001b[0m\u001b[0;34m\u001b[0m\u001b[0m\n\u001b[0m",
      "\u001b[0;32m~/.local/lib/python3.5/site-packages/tensorflow_federated/python/common_libs/anonymous_tuple.py\u001b[0m in \u001b[0;36m_convert\u001b[0;34m(value, recursive, must_be_container)\u001b[0m\n\u001b[1;32m    413\u001b[0m       raise TypeError('Unable to convert a Python object of type {} into '\n\u001b[1;32m    414\u001b[0m                       'an `AnonymousTuple`.'.format(\n\u001b[0;32m--> 415\u001b[0;31m                           py_typecheck.type_string(type(value))))\n\u001b[0m\u001b[1;32m    416\u001b[0m     \u001b[0;32melse\u001b[0m\u001b[0;34m:\u001b[0m\u001b[0;34m\u001b[0m\u001b[0m\n\u001b[1;32m    417\u001b[0m       \u001b[0;32mreturn\u001b[0m \u001b[0mvalue\u001b[0m\u001b[0;34m\u001b[0m\u001b[0m\n",
      "\u001b[0;31mTypeError\u001b[0m: Unable to convert a Python object of type int into an `AnonymousTuple`."
     ]
    }
   ],
   "source": [
    "state = fed_avg.initialize()\n",
    "state, metrics = fed_avg.next(state, ([]))\n",
    "print(metrics)"
   ]
  },
  {
   "cell_type": "code",
   "execution_count": null,
   "metadata": {},
   "outputs": [],
   "source": []
  }
 ],
 "metadata": {
  "kernelspec": {
   "display_name": "Python 3",
   "language": "python",
   "name": "python3"
  },
  "language_info": {
   "codemirror_mode": {
    "name": "ipython",
    "version": 3
   },
   "file_extension": ".py",
   "mimetype": "text/x-python",
   "name": "python",
   "nbconvert_exporter": "python",
   "pygments_lexer": "ipython3",
   "version": "3.5.3"
  }
 },
 "nbformat": 4,
 "nbformat_minor": 2
}
