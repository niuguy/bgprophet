{
 "cells": [
  {
   "cell_type": "code",
   "execution_count": 202,
   "metadata": {},
   "outputs": [],
   "source": [
    "from __future__ import absolute_import, division, print_function\n",
    "\n",
    "import collections\n",
    "import numpy as np\n",
    "from six.moves import range\n",
    "import tensorflow as tf\n",
    "import tensorflow_federated as tff\n",
    "import tempfile\n",
    "import os\n",
    "import six\n",
    "\n",
    "import json\n",
    "import pandas as pd\n",
    "import _pickle as pickle\n",
    "from tensorflow_federated.python.simulation import file_per_user_client_data\n",
    "\n",
    "\n",
    "tf.enable_resource_variables()"
   ]
  },
  {
   "cell_type": "markdown",
   "metadata": {},
   "source": [
    "### Data preprocessing"
   ]
  },
  {
   "cell_type": "code",
   "execution_count": 21,
   "metadata": {},
   "outputs": [],
   "source": [
    "##1. read raw data\n",
    "bg1_path = 'data/20396154_entries.json'\n",
    "bg2_path = 'data/99296581_entries.json'\n",
    "df_bg1 = pd.read_json(bg1_path)\n",
    "df_bg2 = pd.read_json(bg2_path)"
   ]
  },
  {
   "cell_type": "code",
   "execution_count": 115,
   "metadata": {},
   "outputs": [],
   "source": [
    "##2. first step cleaning, remove unrelated information\n",
    "def prefed_process(df_bg, client_id, window):\n",
    "    df_bg = df_bg[['date', 'sgv']]    \n",
    "    ret = df_bg.set_index('date').sort_index()\n",
    "    in_start = 0\n",
    "    fed = []\n",
    "    for i in range(len(df_bg)):\n",
    "        in_end = in_start + window\n",
    "        if in_end < len(df_bg):\n",
    "            fed.append((client_id, df_bg['sgv'][in_start:in_end].values.tolist()))\n",
    "        in_start += 1 \n",
    "    \n",
    "    return fed"
   ]
  },
  {
   "cell_type": "code",
   "execution_count": 131,
   "metadata": {},
   "outputs": [],
   "source": [
    "fed1 = prefed_process(df_bg1,'20396154',18)\n",
    "fed2 = prefed_process(df_bg2,'99296581',18)"
   ]
  },
  {
   "cell_type": "code",
   "execution_count": 133,
   "metadata": {},
   "outputs": [],
   "source": [
    "fed = fed1+fed2"
   ]
  },
  {
   "cell_type": "code",
   "execution_count": 185,
   "metadata": {},
   "outputs": [],
   "source": [
    "# Create an instance of the client\n",
    "def _create_example(features):\n",
    "  \"\"\"Convert a tuple of features to a tf.Example.\"\"\"\n",
    "  output_features = collections.OrderedDict()\n",
    "  for i, feature in enumerate(features):\n",
    "    if isinstance(feature, int):\n",
    "      output_features[str(i)] = tf.train.Feature(\n",
    "          int64_list=tf.train.Int64List(value=[feature]))\n",
    "    elif isinstance(feature, float):\n",
    "      output_features[str(i)] = tf.train.Feature(\n",
    "          float_list=tf.train.FloatList(value=[feature]))\n",
    "    elif isinstance(feature, list):\n",
    "      output_features[str(i)] = tf.train.Feature(\n",
    "          float_list=tf.train.FloatList(value=feature))\n",
    "    else:\n",
    "      # This is hit if the unittest is updated with unknown types, not an error\n",
    "      # in the object under test. Extend the unittest capabilities to fix.\n",
    "      raise NotImplementedError('Cannot handle feature type [%s]' %\n",
    "                                type(feature))\n",
    "  return tf.train.Example(features=tf.train.Features(\n",
    "      feature=output_features)).SerializeToString()"
   ]
  },
  {
   "cell_type": "code",
   "execution_count": 186,
   "metadata": {},
   "outputs": [],
   "source": [
    "class FakeUserData(object):\n",
    "  \"\"\"Container object that creates fake per-user data.\n",
    "  Using the fake test data, create temporary per-user TFRecord files used for\n",
    "  the test. Convert each feature-tuple to a `tf.Example` protocol buffer message\n",
    "  and serialize it to the per-user file.\n",
    "  \"\"\"\n",
    "\n",
    "  def __init__(self, test_data, temp_dir):\n",
    "    \"\"\"Construct a FakePerUseData object.\n",
    "    Args:\n",
    "      test_data: A list of tuples whose first element is the client ID and all\n",
    "        subsequent elements are training example features.\n",
    "      temp_dir: The path to the directory to store temporary per-user files.\n",
    "    Returns:\n",
    "      A dict of client IDs to string file paths to TFRecord files.\n",
    "    \"\"\"\n",
    "    writers = {}\n",
    "    client_file_dict = {}\n",
    "    for example in test_data:\n",
    "      client_id, features = example[0], example[1:]\n",
    "      writer = writers.get(client_id)\n",
    "      if writer is None:\n",
    "        fd, path = tempfile.mkstemp(suffix=client_id, dir=temp_dir)\n",
    "        # close the pre-opened file descriptor immediately to avoid leaking.\n",
    "        os.close(fd)\n",
    "        client_file_dict[client_id] = path\n",
    "        writer = tf.python_io.TFRecordWriter(path=path)\n",
    "        writers[client_id] = writer\n",
    "      writer.write(_create_example(features))\n",
    "    for writer in six.itervalues(writers):\n",
    "      writer.close()\n",
    "    self._client_data_file_dict = client_file_dict\n",
    "\n",
    "  def create_test_dataset_fn(self, client_id):\n",
    "    client_path = self._client_data_file_dict[client_id]\n",
    "    features = {\n",
    "#         '0': tf.FixedLenFeature(shape=[], dtype=tf.int64),\n",
    "        '0': tf.FixedLenFeature(shape=[], dtype=tf.float32),\n",
    "    }\n",
    "\n",
    "    def parse_example(e):\n",
    "      feature_dict = tf.parse_single_example(serialized=e, features=features)\n",
    "      return tuple(feature_dict[k] for k in sorted(six.iterkeys(feature_dict)))\n",
    "\n",
    "    return tf.data.TFRecordDataset(client_path).map(parse_example)\n",
    "\n",
    "  @property\n",
    "  def client_ids(self):\n",
    "    return list(self._client_data_file_dict.keys())\n"
   ]
  },
  {
   "cell_type": "code",
   "execution_count": 230,
   "metadata": {},
   "outputs": [],
   "source": [
    "temp_dir = tempfile.mkdtemp()\n",
    "fakeUserData = FakeUserData(fed, temp_dir)"
   ]
  },
  {
   "cell_type": "code",
   "execution_count": 260,
   "metadata": {},
   "outputs": [],
   "source": [
    "client1_data_raw = fakeUserData.create_test_dataset_fn('20396154')"
   ]
  },
  {
   "cell_type": "code",
   "execution_count": null,
   "metadata": {},
   "outputs": [],
   "source": [
    "BATCH_SIZE = 128\n",
    "SEQ_LENGTH = 18\n",
    "BUFFER_SIZE = 10000\n",
    "\n",
    "BatchType = collections.namedtuple('BatchType', ['x', 'y'])\n",
    "\n",
    "def to_ids(x):\n",
    "    s = tf.reshape(x[0], shape=[1])\n",
    "    return s  \n",
    "\n",
    "def split_input_target(chunk):\n",
    "    input_text = tf.reshape(tf.map_fn(lambda x: x[:12], chunk), shape=[BATCH_SIZE,2,1,6,1])\n",
    "    target_text = tf.map_fn(lambda x: x[12:], chunk)\n",
    "    return BatchType(input_text, target_text)\n",
    "\n",
    "\n",
    "def preprocess(dataset):  \n",
    "    return (dataset\n",
    "            .map(to_ids)\n",
    "            .apply(tf.data.experimental.unbatch())# Form example sequences of SEQ_LENGTH +1\n",
    "            .batch(SEQ_LENGTH,  drop_remainder=True)# Shuffle and form minibatches\n",
    "            .shuffle(BUFFER_SIZE)\n",
    "            .batch(BATCH_SIZE, drop_remainder=True)\n",
    "            .map(split_input_target))\n",
    "client1_data = preprocess(client1_data_raw)\n",
    "for c in client1_data.take(1):\n",
    "    print(c)"
   ]
  },
  {
   "cell_type": "markdown",
   "metadata": {},
   "source": [
    "### Load Model"
   ]
  },
  {
   "cell_type": "code",
   "execution_count": 127,
   "metadata": {},
   "outputs": [],
   "source": [
    "keras_conv_lstm = tf.keras.models.load_model('models/conv_lstm_128_2_6.kerasmodel', compile=False)"
   ]
  },
  {
   "cell_type": "code",
   "execution_count": 148,
   "metadata": {},
   "outputs": [
    {
     "data": {
      "text/plain": [
       "array([[114.02403, 112.042  , 109.5221 , 109.03717, 108.37824, 107.89183]],\n",
       "      dtype=float32)"
      ]
     },
     "execution_count": 148,
     "metadata": {},
     "output_type": "execute_result"
    }
   ],
   "source": [
    "keras_conv_lstm.predict(np.array([137,143,148,149,147,149,146,138,131,130,127,121]).reshape(((1, 2, 1, 6, 1))))"
   ]
  },
  {
   "cell_type": "code",
   "execution_count": 135,
   "metadata": {},
   "outputs": [],
   "source": [
    "def compile(keras_model):\n",
    "  keras_model.compile(\n",
    "      optimizer=tf.keras.optimizers.SGD(lr=0.5),loss='mse')\n",
    "  return keras_model"
   ]
  },
  {
   "cell_type": "code",
   "execution_count": 280,
   "metadata": {},
   "outputs": [],
   "source": [
    "def create_tff_model():\n",
    "  # TFF uses a `dummy_batch` so it knows the types and shapes\n",
    "  # that your model expects.\n",
    "  x = tf.constant(np.random.random_sample((BATCH_SIZE, 2, 1, 6, 1))*200)\n",
    "  x = tf.cast(x, 'float32')\n",
    "  y = tf.constant(np.random.random_sample((BATCH_SIZE, 6))*200)\n",
    "  y = tf.cast(y, 'float32')\n",
    "  dummy_batch = collections.OrderedDict([('x', x), ('y', y)]) \n",
    "  keras_model_clone = compile(tf.keras.models.clone_model(keras_model))\n",
    "  return tff.learning.from_compiled_keras_model(\n",
    "      keras_model_clone, dummy_batch=dummy_batch)"
   ]
  },
  {
   "cell_type": "code",
   "execution_count": 281,
   "metadata": {},
   "outputs": [],
   "source": [
    "fed_avg = tff.learning.build_federated_averaging_process(model_fn=create_tff_model)"
   ]
  },
  {
   "cell_type": "code",
   "execution_count": 282,
   "metadata": {},
   "outputs": [
    {
     "name": "stdout",
     "output_type": "stream",
     "text": [
      "<loss=18893.996>\n"
     ]
    }
   ],
   "source": [
    "state = fed_avg.initialize()\n",
    "state, metrics = fed_avg.next(state, [client1_data.take(1)])\n",
    "print(metrics)"
   ]
  },
  {
   "cell_type": "code",
   "execution_count": null,
   "metadata": {},
   "outputs": [],
   "source": [
    "def data(client, source=fakeUserData):\n",
    "  return preprocess(\n",
    "      source.create_tf_dataset_for_client(client)).take(2)\n",
    "\n",
    "clients = ['20396154',\n",
    "           '99296581']\n",
    "\n",
    "train_datasets = [data(client) for client in clients]\n",
    "\n",
    "# We concatenate the test datasets for evaluation with Keras.\n",
    "test_dataset = functools.reduce(\n",
    "    lambda d1, d2: d1.concatenate(d2),\n",
    "    [data(client, test_data) for client in clients])"
   ]
  }
 ],
 "metadata": {
  "kernelspec": {
   "display_name": "Python 3",
   "language": "python",
   "name": "python3"
  },
  "language_info": {
   "codemirror_mode": {
    "name": "ipython",
    "version": 3
   },
   "file_extension": ".py",
   "mimetype": "text/x-python",
   "name": "python",
   "nbconvert_exporter": "python",
   "pygments_lexer": "ipython3",
   "version": "3.5.3"
  }
 },
 "nbformat": 4,
 "nbformat_minor": 2
}
