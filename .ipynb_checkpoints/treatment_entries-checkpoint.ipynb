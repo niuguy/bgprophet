{
 "cells": [
  {
   "cell_type": "code",
   "execution_count": 4,
   "metadata": {},
   "outputs": [],
   "source": [
    "%matplotlib inline\n",
    "import pandas as pd\n",
    "import json\n",
    "from pprint import pprint\n",
    "import plotly\n",
    "import plotly.plotly as py\n",
    "import plotly.graph_objs as go\n",
    "import datetime\n",
    "from plotly import tools\n",
    "from pandas import Grouper\n",
    "plotly.tools.set_credentials_file(username='niuguy',                                              \n",
    "                                  api_key='z3NhXUhBnpf5hAc3v3yd')"
   ]
  },
  {
   "cell_type": "markdown",
   "metadata": {},
   "source": [
    "## Walk through all the data "
   ]
  },
  {
   "cell_type": "code",
   "execution_count": 5,
   "metadata": {},
   "outputs": [],
   "source": [
    "def load_json(file_name):\n",
    "    with open(file_name) as file:\n",
    "        j_object = json.load(file)        \n",
    "    return j_object, pd.DataFrame(j_object)    "
   ]
  },
  {
   "cell_type": "code",
   "execution_count": 6,
   "metadata": {},
   "outputs": [],
   "source": [
    "treat, pd_treat = load_json('data/20396154_treatments__to_2018-12-20.json')\n",
    "treat_2, pd_treat_2 = load_json('data/85653830-treatments.json')"
   ]
  },
  {
   "cell_type": "code",
   "execution_count": 5,
   "metadata": {},
   "outputs": [],
   "source": [
    "profile, pd_profile = load_json('data/20396154_profile__to_2018-12-20.json')"
   ]
  },
  {
   "cell_type": "code",
   "execution_count": 7,
   "metadata": {},
   "outputs": [],
   "source": [
    "entries, pd_entries = load_json('data/20396154_entries__to_2018-12-20.json')\n",
    "entries_2, pd_entries_2 = load_json('data/85653830-entries.json')"
   ]
  },
  {
   "cell_type": "code",
   "execution_count": 7,
   "metadata": {},
   "outputs": [],
   "source": [
    "device, pd_device = load_json('data/20396154_devicestatus__to_2018-12-20.json')"
   ]
  },
  {
   "cell_type": "markdown",
   "metadata": {},
   "source": [
    "### Refactoring\n",
    "---"
   ]
  },
  {
   "cell_type": "code",
   "execution_count": 8,
   "metadata": {},
   "outputs": [
    {
     "data": {
      "text/plain": [
       "32418"
      ]
     },
     "execution_count": 8,
     "metadata": {},
     "output_type": "execute_result"
    }
   ],
   "source": [
    "# transfer date formate\n",
    "pd_entries['datetime'] = pd.to_datetime(pd_entries['dateString'], utc=True)\n"
   ]
  },
  {
   "cell_type": "code",
   "execution_count": null,
   "metadata": {},
   "outputs": [],
   "source": []
  },
  {
   "cell_type": "markdown",
   "metadata": {},
   "source": [
    "---"
   ]
  },
  {
   "cell_type": "code",
   "execution_count": 56,
   "metadata": {},
   "outputs": [],
   "source": [
    "# convert \n",
    "pd_treat['date'] = pd.to_datetime(pd_treat['timestamp'],utc=True)\n",
    "pd_treat_2['date'] = pd.to_datetime(pd_treat_2['timestamp'], utc=True)"
   ]
  },
  {
   "cell_type": "code",
   "execution_count": 114,
   "metadata": {},
   "outputs": [],
   "source": [
    "mask = (pd_treat['date']> '2018-12-17') & (pd_treat['date']<='2018-12-18')\n",
    "pd_treat_selected = pd_treat.loc[mask]\n",
    "mask_2 = (pd_treat_2['date']> '2017-08-24') & (pd_treat_2['date']<='2017-08-25')\n",
    "pd_treat_selected_2 = pd_treat_2.loc[mask_2]"
   ]
  },
  {
   "cell_type": "code",
   "execution_count": 116,
   "metadata": {},
   "outputs": [
    {
     "data": {
      "text/plain": [
       "24   2017-08-24 23:03:46+00:00\n",
       "25   2017-08-24 23:02:42+00:00\n",
       "26   2017-08-24 22:59:13+00:00\n",
       "27   2017-08-24 22:57:08+00:00\n",
       "28   2017-08-24 22:47:56+00:00\n",
       "Name: date, dtype: datetime64[ns, UTC]"
      ]
     },
     "execution_count": 116,
     "metadata": {},
     "output_type": "execute_result"
    }
   ],
   "source": [
    "pd_treat_selected_2['date'].head()"
   ]
  },
  {
   "cell_type": "code",
   "execution_count": 121,
   "metadata": {},
   "outputs": [],
   "source": [
    "pd_temp_basal = pd_treat_selected[pd_treat_selected['eventType']=='Temp Basal']\n",
    "pd_temp_basal_2 = pd_treat_selected_2[pd_treat_selected_2['eventType']=='Temp Basal']"
   ]
  },
  {
   "cell_type": "code",
   "execution_count": 100,
   "metadata": {},
   "outputs": [],
   "source": [
    "pd_entries['datetime'] = pd.to_datetime(pd_entries['dateString'])\n",
    "\n",
    "mask = (pd_entries['datetime']> '2018-12-17') & (pd_entries['datetime']<='2018-12-18')\n",
    "\n",
    "pd_entries_selected = pd_entries.loc[mask]\n"
   ]
  },
  {
   "cell_type": "code",
   "execution_count": 117,
   "metadata": {},
   "outputs": [],
   "source": [
    "pd_entries_2['datetime'] = pd.to_datetime(pd_entries_2['dateString'], utc=True)\n",
    "\n",
    "mask_2 = (pd_entries_2['datetime']> '2017-08-24') & (pd_entries_2['datetime']<='2017-08-25')\n",
    "\n",
    "pd_entries_selected_2 = pd_entries_2.loc[mask_2]\n"
   ]
  },
  {
   "cell_type": "markdown",
   "metadata": {},
   "source": [
    "### Look at the first person, and try to figure out its routine"
   ]
  },
  {
   "cell_type": "code",
   "execution_count": 146,
   "metadata": {},
   "outputs": [
    {
     "name": "stderr",
     "output_type": "stream",
     "text": [
      "/usr/local/lib/python3.7/site-packages/IPython/core/display.py:689: UserWarning:\n",
      "\n",
      "Consider using IPython.display.IFrame instead\n",
      "\n"
     ]
    },
    {
     "data": {
      "text/html": [
       "<iframe id=\"igraph\" scrolling=\"no\" style=\"border:none;\" seamless=\"seamless\" src=\"https://plot.ly/~niuguy/68.embed\" height=\"525px\" width=\"100%\"></iframe>"
      ],
      "text/plain": [
       "<plotly.tools.PlotlyDisplay object>"
      ]
     },
     "execution_count": 146,
     "metadata": {},
     "output_type": "execute_result"
    }
   ],
   "source": [
    "mask= (pd_entries['datetime']> '2018-12-08') & (pd_entries['datetime']<='2018-12-18')\n",
    "\n",
    "pd_entries_selected = pd_entries[mask]\n",
    "\n",
    "trace_entries = go.Scatter(x=pd_entries_selected.datetime, y = pd_entries_selected.sgv)\n",
    "\n",
    "data = [trace_entries]\n",
    "\n",
    "py.iplot(data, filename='bg 1 month')"
   ]
  },
  {
   "cell_type": "code",
   "execution_count": 168,
   "metadata": {},
   "outputs": [],
   "source": [
    "from pandas import TimeGrouper\n",
    "from matplotlib import pyplot\n",
    "import seaborn\n",
    "import matplotlib.pyplot as plt\n",
    "\n",
    "\n",
    "# pd_entries_selected.set_index('datetime')\n",
    "# fig, ax = plt.subplots(figsize=(12,5))\n",
    "# seaborn.boxplot(pd_entries_selected.index.dayofyear, ts, ax=ax)\n",
    "\n",
    "\n",
    "\n",
    "\n",
    "daily_groups = pd_entries_selected.groupby(Grouper(key='datetime', freq='1d'))\n",
    "day_sgvs = {}\n",
    "data = []\n",
    "for name,group in daily_groups:\n",
    "#     print(group['sgv'].values)\n",
    "    day_sgvs[name] = group['sgv'].values\n",
    "    data.append(go.Box( y=group['sgv'].values, name=str(name), showlegend=False ) )\n",
    "\n",
    "\n",
    "    \n",
    "# day_sgvs_df = pd.DataFrame.from_dict(day_sgvs, orient = 'index')\n",
    "\n",
    "# day_sgvs_df.head()\n",
    "\n",
    "url = py.plot(data, filename='pandas-box-plot')\n"
   ]
  },
  {
   "cell_type": "code",
   "execution_count": 169,
   "metadata": {},
   "outputs": [
    {
     "name": "stdout",
     "output_type": "stream",
     "text": [
      "This is the format of your plot grid:\n",
      "[ (1,1) x1,y1 ]\n",
      "[ (2,1) x2,y2 ]\n",
      "\n"
     ]
    },
    {
     "data": {
      "text/html": [
       "<iframe id=\"igraph\" scrolling=\"no\" style=\"border:none;\" seamless=\"seamless\" src=\"https://plot.ly/~niuguy/80.embed\" height=\"900px\" width=\"1200px\"></iframe>"
      ],
      "text/plain": [
       "<plotly.tools.PlotlyDisplay object>"
      ]
     },
     "execution_count": 169,
     "metadata": {},
     "output_type": "execute_result"
    }
   ],
   "source": [
    "# Compare two people with their BG and Temp Basals\n",
    "\n",
    "trace_entries = go.Scatter(x=pd_entries_selected.datetime, y = pd_entries_selected.sgv)\n",
    "trace_entries_2 = go.Scatter(x=pd_entries_selected_2.datetime, y = pd_entries_selected_2.sgv)\n",
    "trace_basal = go.Scatter(x=pd_temp_basal.date, y = pd_temp_basal.absolute)\n",
    "trace_basal_2 = go.Scatter(x=pd_temp_basal_2.date, y = pd_temp_basal_2.absolute)\n",
    "\n",
    "# layout = go.Layout(title='BG&Events&Temp Basal', xaxis=dict(title='Date'))\n",
    "fig = tools.make_subplots(rows=2, cols=1, subplot_titles=('blood glucose', 'temp basal'))\n",
    "\n",
    "# fig = tools.make_subplots(rows=2, cols=2, subplot_titles=('blood glucose_1','bg_2','tb_1','tb_2'))\n",
    "fig.append_trace(trace_entries, 1, 1)\n",
    "# fig.append_trace(trace_entries_2, 1, 2)\n",
    "\n",
    "# fig.append_trace(trace_event, 2, 1)\n",
    "fig.append_trace(trace_basal, 2, 1)\n",
    "# fig.append_trace(trace_basal_2, 2, 2)\n",
    "\n",
    "\n",
    "fig['layout'].update(height=900, width=1200, title='Blood Glucose & Temp Basal')\n",
    "\n",
    "# fig = go.Figure(data=[trace_entries, trace_event], layout=layout)\n",
    "py.iplot(fig, sharing='public')"
   ]
  },
  {
   "cell_type": "markdown",
   "metadata": {},
   "source": [
    "## Predict Result"
   ]
  },
  {
   "cell_type": "code",
   "execution_count": 27,
   "metadata": {},
   "outputs": [],
   "source": [
    "import _pickle as pickle\n",
    "results = pickle.load(open('results/predict_1552658605.6576672.pkl', 'rb'))"
   ]
  },
  {
   "cell_type": "code",
   "execution_count": 28,
   "metadata": {},
   "outputs": [],
   "source": [
    "target_entries = pd_entries[pd_entries['datetime']>'2018-12-01 01:00:00'].sort_values(by=['datetime'], ascending = True)\n",
    "# print(target_entries.sort_values(by=['datetime'], ascending = True).head())"
   ]
  },
  {
   "cell_type": "code",
   "execution_count": 29,
   "metadata": {},
   "outputs": [
    {
     "name": "stdout",
     "output_type": "stream",
     "text": [
      "5230\n",
      "2018-12-19 20:55:04+00:00\n",
      "76\n"
     ]
    }
   ],
   "source": [
    "print(len(target_entries.datetime))\n",
    "print(target_entries.datetime[0])\n",
    "print(results[0])"
   ]
  },
  {
   "cell_type": "code",
   "execution_count": 31,
   "metadata": {},
   "outputs": [
    {
     "data": {
      "text/html": [
       "<iframe id=\"igraph\" scrolling=\"no\" style=\"border:none;\" seamless=\"seamless\" src=\"https://plot.ly/~niuguy/20.embed\" height=\"525px\" width=\"100%\"></iframe>"
      ],
      "text/plain": [
       "<plotly.tools.PlotlyDisplay object>"
      ]
     },
     "execution_count": 31,
     "metadata": {},
     "output_type": "execute_result"
    }
   ],
   "source": [
    "trace_target_entries = go.Scatter(x=target_entries.datetime[:288], y = target_entries.sgv[:288], name = 'true')\n",
    "trace_pred_entries = go.Scatter(x=target_entries.datetime[:288], y = results[:288], name = 'predict')\n",
    "data = [trace_target_entries, trace_pred_entries]\n",
    "py.iplot(data, filename='line-mode')"
   ]
  },
  {
   "cell_type": "markdown",
   "metadata": {},
   "source": [
    "## Profile&Device"
   ]
  },
  {
   "cell_type": "code",
   "execution_count": 49,
   "metadata": {
    "scrolled": true
   },
   "outputs": [
    {
     "data": {
      "text/plain": [
       "[{'created_at': '2018-12-20T06:33:08Z',\n",
       "  'enteredBy': 'loop',\n",
       "  'mills': '0',\n",
       "  'startDate': '2018-12-20T06:33:08Z',\n",
       "  'loopSettings': {'dosingEnabled': True,\n",
       "   'minimumBGGuard': {'units': 'mg/dL', 'value': 75},\n",
       "   'integralRetrospectiveCorrectionEnabled': True,\n",
       "   'retrospectiveCorrectionEnabled': True,\n",
       "   'maximumBolus': 6,\n",
       "   'maximumBasalRatePerHour': 4,\n",
       "   'version': 1,\n",
       "   'cgmSource': {'version': 1, 'transmitterID': '80APA2', 'type': 'g5'},\n",
       "   'workoutTargets': {'workout': '150.0 - 170.0',\n",
       "    'remoteTempTarget': '145.0 - 155.0',\n",
       "    'preMeal': '70.0 - 75.0'}},\n",
       "  '_id': '5c1b37a5ea3a6000044dc94b',\n",
       "  'units': 'mg/dL',\n",
       "  'store': {'Default': {'basal': [{'timeAsSeconds': 0,\n",
       "      'time': '00:00',\n",
       "      'value': 0.75},\n",
       "     {'timeAsSeconds': 18000, 'time': '05:00', 'value': 0.85},\n",
       "     {'timeAsSeconds': 32400, 'time': '09:00', 'value': 0.95},\n",
       "     {'timeAsSeconds': 50400, 'time': '14:00', 'value': 0.6},\n",
       "     {'timeAsSeconds': 54000, 'time': '15:00', 'value': 0.55},\n",
       "     {'timeAsSeconds': 64800, 'time': '18:00', 'value': 1.1},\n",
       "     {'timeAsSeconds': 82800, 'time': '23:00', 'value': 1}],\n",
       "    'dia': 6,\n",
       "    'carbratio': [{'timeAsSeconds': 0, 'time': '00:00', 'value': 14},\n",
       "     {'timeAsSeconds': 36000, 'time': '10:00', 'value': 10},\n",
       "     {'timeAsSeconds': 50400, 'time': '14:00', 'value': 20},\n",
       "     {'timeAsSeconds': 64800, 'time': '18:00', 'value': 12}],\n",
       "    'timezone': 'America/Los_Angeles',\n",
       "    'target_high': [{'timeAsSeconds': 84600, 'time': '23:00', 'value': 105}],\n",
       "    'sens': [{'timeAsSeconds': 0, 'time': '00:00', 'value': 95},\n",
       "     {'timeAsSeconds': 39600, 'time': '11:00', 'value': 90},\n",
       "     {'timeAsSeconds': 50400, 'time': '14:00', 'value': 100},\n",
       "     {'timeAsSeconds': 64800, 'time': '18:00', 'value': 85},\n",
       "     {'timeAsSeconds': 68400, 'time': '19:00', 'value': 75}],\n",
       "    'carbs_hr': '0',\n",
       "    'target_low': [{'timeAsSeconds': 84600, 'time': '23:00', 'value': 95}],\n",
       "    'delay': '0'}},\n",
       "  'defaultProfile': 'Default'},\n",
       " {'created_at': '2018-12-19T07:12:20Z',\n",
       "  'enteredBy': 'loop',\n",
       "  'mills': '0',\n",
       "  'startDate': '2018-12-19T07:12:20Z',\n",
       "  'loopSettings': {'dosingEnabled': True,\n",
       "   'minimumBGGuard': {'units': 'mg/dL', 'value': 75},\n",
       "   'integralRetrospectiveCorrectionEnabled': True,\n",
       "   'retrospectiveCorrectionEnabled': True,\n",
       "   'maximumBolus': 6,\n",
       "   'maximumBasalRatePerHour': 4,\n",
       "   'version': 1,\n",
       "   'cgmSource': {'version': 1, 'transmitterID': '80APA2', 'type': 'g5'},\n",
       "   'workoutTargets': {'workout': '150.0 - 170.0',\n",
       "    'remoteTempTarget': '80.0 - 80.0',\n",
       "    'preMeal': '70.0 - 75.0'}},\n",
       "  '_id': '5c19ef56067e3900049a413e',\n",
       "  'units': 'mg/dL',\n",
       "  'store': {'Default': {'basal': [{'timeAsSeconds': 0,\n",
       "      'time': '00:00',\n",
       "      'value': 0.75},\n",
       "     {'timeAsSeconds': 18000, 'time': '05:00', 'value': 0.85},\n",
       "     {'timeAsSeconds': 32400, 'time': '09:00', 'value': 0.95},\n",
       "     {'timeAsSeconds': 50400, 'time': '14:00', 'value': 0.6},\n",
       "     {'timeAsSeconds': 54000, 'time': '15:00', 'value': 0.55},\n",
       "     {'timeAsSeconds': 64800, 'time': '18:00', 'value': 1.1},\n",
       "     {'timeAsSeconds': 82800, 'time': '23:00', 'value': 1}],\n",
       "    'dia': 6,\n",
       "    'carbratio': [{'timeAsSeconds': 0, 'time': '00:00', 'value': 14},\n",
       "     {'timeAsSeconds': 36000, 'time': '10:00', 'value': 10},\n",
       "     {'timeAsSeconds': 50400, 'time': '14:00', 'value': 20},\n",
       "     {'timeAsSeconds': 64800, 'time': '18:00', 'value': 12}],\n",
       "    'timezone': 'America/Los_Angeles',\n",
       "    'target_high': [{'timeAsSeconds': 84600, 'time': '23:00', 'value': 105}],\n",
       "    'sens': [{'timeAsSeconds': 0, 'time': '00:00', 'value': 95},\n",
       "     {'timeAsSeconds': 39600, 'time': '11:00', 'value': 90},\n",
       "     {'timeAsSeconds': 50400, 'time': '14:00', 'value': 100},\n",
       "     {'timeAsSeconds': 64800, 'time': '18:00', 'value': 85},\n",
       "     {'timeAsSeconds': 68400, 'time': '19:00', 'value': 75}],\n",
       "    'carbs_hr': '0',\n",
       "    'target_low': [{'timeAsSeconds': 84600, 'time': '23:00', 'value': 95}],\n",
       "    'delay': '0'}},\n",
       "  'defaultProfile': 'Default'},\n",
       " {'created_at': '2018-12-17T16:48:57Z',\n",
       "  'enteredBy': 'loop',\n",
       "  'mills': '0',\n",
       "  'startDate': '2018-12-17T16:48:57Z',\n",
       "  'loopSettings': {'dosingEnabled': True,\n",
       "   'minimumBGGuard': {'units': 'mg/dL', 'value': 75},\n",
       "   'integralRetrospectiveCorrectionEnabled': True,\n",
       "   'retrospectiveCorrectionEnabled': True,\n",
       "   'maximumBolus': 6,\n",
       "   'maximumBasalRatePerHour': 4,\n",
       "   'version': 1,\n",
       "   'cgmSource': {'version': 1, 'transmitterID': '80APA2', 'type': 'g5'},\n",
       "   'workoutTargets': {'workout': '150.0 - 170.0',\n",
       "    'remoteTempTarget': '145.0 - 155.0',\n",
       "    'preMeal': '70.0 - 75.0'}},\n",
       "  '_id': '5c17d37a46608600043c555f',\n",
       "  'units': 'mg/dL',\n",
       "  'store': {'Default': {'delay': '0',\n",
       "    'dia': 6,\n",
       "    'carbratio': [{'timeAsSeconds': 0, 'time': '00:00', 'value': 14},\n",
       "     {'timeAsSeconds': 36000, 'time': '10:00', 'value': 10},\n",
       "     {'timeAsSeconds': 50400, 'time': '14:00', 'value': 20},\n",
       "     {'timeAsSeconds': 64800, 'time': '18:00', 'value': 12}],\n",
       "    'sens': [{'timeAsSeconds': 0, 'time': '00:00', 'value': 95},\n",
       "     {'timeAsSeconds': 39600, 'time': '11:00', 'value': 90},\n",
       "     {'timeAsSeconds': 50400, 'time': '14:00', 'value': 100},\n",
       "     {'timeAsSeconds': 64800, 'time': '18:00', 'value': 85},\n",
       "     {'timeAsSeconds': 68400, 'time': '19:00', 'value': 75}],\n",
       "    'target_high': [{'timeAsSeconds': 84600, 'time': '23:00', 'value': 105}],\n",
       "    'timezone': 'America/Los_Angeles',\n",
       "    'carbs_hr': '0',\n",
       "    'target_low': [{'timeAsSeconds': 84600, 'time': '23:00', 'value': 95}],\n",
       "    'basal': [{'timeAsSeconds': 0, 'time': '00:00', 'value': 0.75},\n",
       "     {'timeAsSeconds': 18000, 'time': '05:00', 'value': 0.85},\n",
       "     {'timeAsSeconds': 32400, 'time': '09:00', 'value': 0.95},\n",
       "     {'timeAsSeconds': 50400, 'time': '14:00', 'value': 0.6},\n",
       "     {'timeAsSeconds': 54000, 'time': '15:00', 'value': 0.55},\n",
       "     {'timeAsSeconds': 64800, 'time': '18:00', 'value': 1.1},\n",
       "     {'timeAsSeconds': 82800, 'time': '23:00', 'value': 1}]}},\n",
       "  'defaultProfile': 'Default'},\n",
       " {'created_at': '2018-12-17T03:37:04Z',\n",
       "  'enteredBy': 'loop',\n",
       "  'mills': '0',\n",
       "  'startDate': '2018-12-17T03:37:04Z',\n",
       "  'loopSettings': {'dosingEnabled': True,\n",
       "   'minimumBGGuard': {'units': 'mg/dL', 'value': 75},\n",
       "   'integralRetrospectiveCorrectionEnabled': True,\n",
       "   'retrospectiveCorrectionEnabled': True,\n",
       "   'maximumBolus': 6,\n",
       "   'maximumBasalRatePerHour': 4,\n",
       "   'version': 1,\n",
       "   'cgmSource': {'version': 1, 'transmitterID': '80APA2', 'type': 'g5'},\n",
       "   'workoutTargets': {'workout': '150.0 - 170.0',\n",
       "    'remoteTempTarget': '150.0 - 150.0',\n",
       "    'preMeal': '70.0 - 75.0'}},\n",
       "  '_id': '5c1719e446608600043c5402',\n",
       "  'units': 'mg/dL',\n",
       "  'store': {'Default': {'basal': [{'time': '00:00',\n",
       "      'timeAsSeconds': 0,\n",
       "      'value': 0.75},\n",
       "     {'time': '05:00', 'timeAsSeconds': 18000, 'value': 0.85},\n",
       "     {'time': '09:00', 'timeAsSeconds': 32400, 'value': 0.95},\n",
       "     {'time': '14:00', 'timeAsSeconds': 50400, 'value': 0.6},\n",
       "     {'time': '15:00', 'timeAsSeconds': 54000, 'value': 0.55},\n",
       "     {'time': '18:00', 'timeAsSeconds': 64800, 'value': 1.1},\n",
       "     {'time': '23:00', 'timeAsSeconds': 82800, 'value': 1}],\n",
       "    'dia': 6,\n",
       "    'carbratio': [{'time': '00:00', 'timeAsSeconds': 0, 'value': 14},\n",
       "     {'time': '10:00', 'timeAsSeconds': 36000, 'value': 10},\n",
       "     {'time': '14:00', 'timeAsSeconds': 50400, 'value': 20},\n",
       "     {'time': '18:00', 'timeAsSeconds': 64800, 'value': 12}],\n",
       "    'sens': [{'time': '00:00', 'timeAsSeconds': 0, 'value': 95},\n",
       "     {'time': '11:00', 'timeAsSeconds': 39600, 'value': 90},\n",
       "     {'time': '14:00', 'timeAsSeconds': 50400, 'value': 100},\n",
       "     {'time': '18:00', 'timeAsSeconds': 64800, 'value': 85},\n",
       "     {'time': '19:00', 'timeAsSeconds': 68400, 'value': 75}],\n",
       "    'target_high': [{'time': '23:00', 'timeAsSeconds': 84600, 'value': 105}],\n",
       "    'timezone': 'America/Los_Angeles',\n",
       "    'carbs_hr': '0',\n",
       "    'target_low': [{'time': '23:00', 'timeAsSeconds': 84600, 'value': 95}],\n",
       "    'delay': '0'}},\n",
       "  'defaultProfile': 'Default'},\n",
       " {'created_at': '2018-12-17T03:36:47Z',\n",
       "  'enteredBy': 'loop',\n",
       "  'mills': '0',\n",
       "  'startDate': '2018-12-17T03:36:47Z',\n",
       "  'loopSettings': {'dosingEnabled': True,\n",
       "   'minimumBGGuard': {'units': 'mg/dL', 'value': 75},\n",
       "   'integralRetrospectiveCorrectionEnabled': True,\n",
       "   'retrospectiveCorrectionEnabled': True,\n",
       "   'maximumBolus': 6,\n",
       "   'maximumBasalRatePerHour': 4,\n",
       "   'version': 1,\n",
       "   'cgmSource': {'version': 1, 'transmitterID': '80APA2', 'type': 'g5'},\n",
       "   'workoutTargets': {'workout': '150.0 - 170.0',\n",
       "    'remoteTempTarget': '150.0 - 150.0',\n",
       "    'preMeal': '70.0 - 75.0'}},\n",
       "  '_id': '5c1719cf46608600043c5401',\n",
       "  'units': 'mg/dL',\n",
       "  'store': {'Default': {'basal': [{'time': '00:00',\n",
       "      'timeAsSeconds': 0,\n",
       "      'value': 0.75},\n",
       "     {'time': '05:00', 'timeAsSeconds': 18000, 'value': 0.85},\n",
       "     {'time': '09:00', 'timeAsSeconds': 32400, 'value': 0.95},\n",
       "     {'time': '14:00', 'timeAsSeconds': 50400, 'value': 0.6},\n",
       "     {'time': '15:00', 'timeAsSeconds': 54000, 'value': 0.55},\n",
       "     {'time': '18:00', 'timeAsSeconds': 64800, 'value': 1.1},\n",
       "     {'time': '23:00', 'timeAsSeconds': 82800, 'value': 1}],\n",
       "    'dia': 6,\n",
       "    'carbratio': [{'time': '00:00', 'timeAsSeconds': 0, 'value': 12},\n",
       "     {'time': '10:00', 'timeAsSeconds': 36000, 'value': 10},\n",
       "     {'time': '14:00', 'timeAsSeconds': 50400, 'value': 20},\n",
       "     {'time': '18:00', 'timeAsSeconds': 64800, 'value': 12}],\n",
       "    'sens': [{'time': '00:00', 'timeAsSeconds': 0, 'value': 95},\n",
       "     {'time': '11:00', 'timeAsSeconds': 39600, 'value': 90},\n",
       "     {'time': '14:00', 'timeAsSeconds': 50400, 'value': 100},\n",
       "     {'time': '18:00', 'timeAsSeconds': 64800, 'value': 85},\n",
       "     {'time': '19:00', 'timeAsSeconds': 68400, 'value': 75}],\n",
       "    'target_high': [{'time': '23:00', 'timeAsSeconds': 84600, 'value': 105}],\n",
       "    'timezone': 'America/Los_Angeles',\n",
       "    'carbs_hr': '0',\n",
       "    'target_low': [{'time': '23:00', 'timeAsSeconds': 84600, 'value': 95}],\n",
       "    'delay': '0'}},\n",
       "  'defaultProfile': 'Default'}]"
      ]
     },
     "execution_count": 49,
     "metadata": {},
     "output_type": "execute_result"
    }
   ],
   "source": [
    "profile[:5]"
   ]
  },
  {
   "cell_type": "code",
   "execution_count": 50,
   "metadata": {},
   "outputs": [
    {
     "data": {
      "text/plain": [
       "[{'_id': '5c1af914ea3a6000044dc8c3',\n",
       "  'created_at': '2018-12-19T23:55:48Z',\n",
       "  'device': 'V9N08H',\n",
       "  'loop': {'timestamp': '2018-12-19T23:55:48Z',\n",
       "   'recommendedBolus': 0,\n",
       "   'name': 'BGTargets (95:105) | EvBG 57 | Loop',\n",
       "   'cob': {'cob': 1.2488588438502402, 'timestamp': '2018-12-19T23:55:00Z'},\n",
       "   'enacted': {'rate': 0,\n",
       "    'timestamp': '2018-12-19T23:55:47Z',\n",
       "    'duration': 30,\n",
       "    'received': True},\n",
       "   'iob': {'timestamp': '2018-12-19T23:55:00Z', 'iob': -0.21436700438772152},\n",
       "   'version': '1.9.2-katie',\n",
       "   'predicted': {'startDate': '2018-12-19T23:55:06Z',\n",
       "    'values': [76,\n",
       "     78,\n",
       "     79,\n",
       "     78,\n",
       "     75,\n",
       "     72,\n",
       "     69,\n",
       "     67,\n",
       "     65,\n",
       "     63,\n",
       "     61,\n",
       "     59,\n",
       "     58,\n",
       "     57,\n",
       "     56,\n",
       "     55,\n",
       "     54,\n",
       "     54,\n",
       "     53,\n",
       "     52,\n",
       "     52,\n",
       "     52,\n",
       "     52,\n",
       "     51,\n",
       "     51,\n",
       "     51,\n",
       "     51,\n",
       "     51,\n",
       "     51,\n",
       "     51,\n",
       "     51,\n",
       "     51,\n",
       "     52,\n",
       "     52,\n",
       "     52,\n",
       "     52,\n",
       "     53,\n",
       "     53,\n",
       "     53,\n",
       "     54,\n",
       "     54,\n",
       "     54,\n",
       "     55,\n",
       "     55,\n",
       "     55,\n",
       "     55,\n",
       "     55,\n",
       "     55,\n",
       "     56,\n",
       "     56,\n",
       "     56,\n",
       "     56,\n",
       "     56,\n",
       "     56,\n",
       "     56,\n",
       "     56,\n",
       "     56,\n",
       "     57,\n",
       "     57,\n",
       "     57,\n",
       "     57,\n",
       "     57,\n",
       "     57,\n",
       "     57,\n",
       "     57,\n",
       "     57,\n",
       "     57,\n",
       "     57,\n",
       "     57,\n",
       "     57,\n",
       "     57,\n",
       "     57,\n",
       "     57,\n",
       "     57,\n",
       "     57,\n",
       "     57]}},\n",
       "  'uploader': {'timestamp': '2018-12-19T23:55:48Z',\n",
       "   'battery': 69,\n",
       "   'name': 'KK’s iPhone'}},\n",
       " {'_id': '5c1af914ea3a6000044dc8c2',\n",
       "  'radioAdapter': {'lastTuned': '2018-12-19T23:00:58Z',\n",
       "   'frequency': 916.55,\n",
       "   'hardware': 'RileyLink',\n",
       "   'firmwareVersion': 'subg_rfspy 2.2',\n",
       "   'name': 'KKRILEY2000'},\n",
       "  'pump': {'battery': {'status': 'normal', 'voltage': 1.6},\n",
       "   'pumpID': '408475',\n",
       "   'clock': '2018-12-19T23:55:21Z',\n",
       "   'reservoir': 103.8,\n",
       "   'bolusing': False,\n",
       "   'secondsFromGMT': -28800,\n",
       "   'suspended': False},\n",
       "  'device': 'V9N08H',\n",
       "  'created_at': '2018-12-19T23:55:25Z'},\n",
       " {'_id': '5c1af914ea3a6000044dc8c1',\n",
       "  'created_at': '2018-12-19T23:50:49Z',\n",
       "  'device': 'V9N08H',\n",
       "  'loop': {'timestamp': '2018-12-19T23:50:49Z',\n",
       "   'recommendedBolus': 0,\n",
       "   'name': 'BGTargets (95:105) | EvBG 44 | Loop',\n",
       "   'cob': {'cob': 2.052430272421666, 'timestamp': '2018-12-19T23:50:00Z'},\n",
       "   'enacted': {'rate': 0,\n",
       "    'timestamp': '2018-12-19T23:50:49Z',\n",
       "    'duration': 30,\n",
       "    'received': True},\n",
       "   'iob': {'timestamp': '2018-12-19T23:50:00Z', 'iob': -0.14317289352678336},\n",
       "   'version': '1.9.2-katie',\n",
       "   'predicted': {'startDate': '2018-12-19T23:50:05Z',\n",
       "    'values': [73,\n",
       "     73,\n",
       "     74,\n",
       "     74,\n",
       "     71,\n",
       "     67,\n",
       "     64,\n",
       "     62,\n",
       "     59,\n",
       "     57,\n",
       "     55,\n",
       "     53,\n",
       "     51,\n",
       "     50,\n",
       "     48,\n",
       "     47,\n",
       "     46,\n",
       "     45,\n",
       "     44,\n",
       "     43,\n",
       "     43,\n",
       "     42,\n",
       "     42,\n",
       "     41,\n",
       "     41,\n",
       "     41,\n",
       "     41,\n",
       "     40,\n",
       "     40,\n",
       "     40,\n",
       "     40,\n",
       "     40,\n",
       "     40,\n",
       "     40,\n",
       "     41,\n",
       "     41,\n",
       "     41,\n",
       "     41,\n",
       "     42,\n",
       "     42,\n",
       "     42,\n",
       "     42,\n",
       "     43,\n",
       "     43,\n",
       "     43,\n",
       "     43,\n",
       "     43,\n",
       "     43,\n",
       "     43,\n",
       "     44,\n",
       "     44,\n",
       "     44,\n",
       "     44,\n",
       "     44,\n",
       "     44,\n",
       "     44,\n",
       "     44,\n",
       "     44,\n",
       "     44,\n",
       "     44,\n",
       "     44,\n",
       "     44,\n",
       "     44,\n",
       "     44,\n",
       "     44,\n",
       "     45,\n",
       "     45,\n",
       "     45,\n",
       "     45,\n",
       "     45,\n",
       "     45,\n",
       "     45,\n",
       "     45,\n",
       "     45,\n",
       "     45,\n",
       "     45]}},\n",
       "  'uploader': {'timestamp': '2018-12-19T23:50:49Z',\n",
       "   'battery': 70,\n",
       "   'name': 'KK’s iPhone'}},\n",
       " {'_id': '5c1af914ea3a6000044dc8c0',\n",
       "  'radioAdapter': {'lastTuned': '2018-12-19T23:00:58Z',\n",
       "   'frequency': 916.55,\n",
       "   'hardware': 'RileyLink',\n",
       "   'firmwareVersion': 'subg_rfspy 2.2',\n",
       "   'name': 'KKRILEY2000'},\n",
       "  'pump': {'battery': {'status': 'normal', 'voltage': 1.6},\n",
       "   'pumpID': '408475',\n",
       "   'clock': '2018-12-19T23:50:23Z',\n",
       "   'reservoir': 103.8,\n",
       "   'bolusing': False,\n",
       "   'secondsFromGMT': -28800,\n",
       "   'suspended': False},\n",
       "  'device': 'V9N08H',\n",
       "  'created_at': '2018-12-19T23:50:27Z'},\n",
       " {'_id': '5c1af914ea3a6000044dc8bf',\n",
       "  'created_at': '2018-12-19T23:45:48Z',\n",
       "  'device': 'V9N08H',\n",
       "  'loop': {'timestamp': '2018-12-19T23:45:48Z',\n",
       "   'recommendedBolus': 0,\n",
       "   'name': 'BGTargets (95:105) | EvBG 36 | Loop',\n",
       "   'cob': {'cob': 2.8560017009930965, 'timestamp': '2018-12-19T23:45:00Z'},\n",
       "   'enacted': {'rate': 0,\n",
       "    'timestamp': '2018-12-19T23:45:48Z',\n",
       "    'duration': 30,\n",
       "    'received': True},\n",
       "   'iob': {'timestamp': '2018-12-19T23:45:00Z', 'iob': -0.07065775553536695},\n",
       "   'version': '1.9.2-katie',\n",
       "   'predicted': {'startDate': '2018-12-19T23:45:06Z',\n",
       "    'values': [72,\n",
       "     70,\n",
       "     70,\n",
       "     71,\n",
       "     71,\n",
       "     67,\n",
       "     64,\n",
       "     61,\n",
       "     58,\n",
       "     56,\n",
       "     53,\n",
       "     51,\n",
       "     49,\n",
       "     47,\n",
       "     45,\n",
       "     44,\n",
       "     42,\n",
       "     41,\n",
       "     40,\n",
       "     39,\n",
       "     38,\n",
       "     37,\n",
       "     36,\n",
       "     36,\n",
       "     35,\n",
       "     35,\n",
       "     34,\n",
       "     34,\n",
       "     34,\n",
       "     34,\n",
       "     33,\n",
       "     33,\n",
       "     33,\n",
       "     33,\n",
       "     33,\n",
       "     34,\n",
       "     34,\n",
       "     34,\n",
       "     34,\n",
       "     34,\n",
       "     34,\n",
       "     35,\n",
       "     35,\n",
       "     35,\n",
       "     35,\n",
       "     35,\n",
       "     35,\n",
       "     35,\n",
       "     35,\n",
       "     35,\n",
       "     36,\n",
       "     36,\n",
       "     36,\n",
       "     36,\n",
       "     36,\n",
       "     36,\n",
       "     36,\n",
       "     36,\n",
       "     36,\n",
       "     36,\n",
       "     36,\n",
       "     36,\n",
       "     36,\n",
       "     36,\n",
       "     36,\n",
       "     36,\n",
       "     36,\n",
       "     36,\n",
       "     36,\n",
       "     36,\n",
       "     36,\n",
       "     36,\n",
       "     36,\n",
       "     36,\n",
       "     36,\n",
       "     36]}},\n",
       "  'uploader': {'timestamp': '2018-12-19T23:45:48Z',\n",
       "   'battery': 70,\n",
       "   'name': 'KK’s iPhone'}}]"
      ]
     },
     "execution_count": 50,
     "metadata": {},
     "output_type": "execute_result"
    }
   ],
   "source": [
    "device[:5]"
   ]
  },
  {
   "cell_type": "code",
   "execution_count": null,
   "metadata": {},
   "outputs": [],
   "source": []
  }
 ],
 "metadata": {
  "kernelspec": {
   "display_name": "Python 3",
   "language": "python",
   "name": "python3"
  },
  "language_info": {
   "codemirror_mode": {
    "name": "ipython",
    "version": 3
   },
   "file_extension": ".py",
   "mimetype": "text/x-python",
   "name": "python",
   "nbconvert_exporter": "python",
   "pygments_lexer": "ipython3",
   "version": "3.7.2"
  }
 },
 "nbformat": 4,
 "nbformat_minor": 2
}
