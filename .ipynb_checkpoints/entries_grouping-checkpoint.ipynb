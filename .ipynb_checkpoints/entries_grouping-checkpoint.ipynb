{
 "cells": [
  {
   "cell_type": "code",
   "execution_count": 50,
   "metadata": {},
   "outputs": [],
   "source": [
    "import os\n",
    "import gzip\n",
    "import shutil\n",
    "import json\n",
    "import pandas as pd\n",
    "import _pickle as pickle\n",
    "import numpy as np\n",
    "%matplotlib inline"
   ]
  },
  {
   "cell_type": "markdown",
   "metadata": {},
   "source": [
    "## Data Preprocessing -1\n",
    "Aggregation according to each person(only run once, save results in pickles) "
   ]
  },
  {
   "cell_type": "code",
   "execution_count": 2,
   "metadata": {},
   "outputs": [],
   "source": [
    "df_file = pd.DataFrame()"
   ]
  },
  {
   "cell_type": "code",
   "execution_count": 3,
   "metadata": {},
   "outputs": [],
   "source": [
    "def transfer_dataframe(patient_id, file_name):\n",
    "    with open(file_name) as file:\n",
    "        j_object = json.load(file)\n",
    "        df = pd.DataFrame(j_object)\n",
    "#         try:\n",
    "#             df['datetime'] = pd.Timestamp(df['dateString']).to_datetime()\n",
    "        df['datetime'] = pd.to_datetime(df['dateString'], utc=True)\n",
    "#         except ValueError:\n",
    "# #             df['datetime'] = pd.to_datetime(df['dateString'],format=\"%d/%m/%Y %H:%M:%S %p\")\n",
    "#         else:\n",
    "#             raise        \n",
    "        df['pid'] = patient_id\n",
    "        df_result = df[['pid', 'datetime', 'sgv']]\n",
    "        df_result = df_result.sort_values(by=['datetime'], ascending = True)\n",
    "    return df_result"
   ]
  },
  {
   "cell_type": "code",
   "execution_count": null,
   "metadata": {},
   "outputs": [],
   "source": [
    "count = 0\n",
    "for folder in os.listdir(os.getcwd()+'/OpenAPS'):\n",
    "    print('PID:', folder)\n",
    "    record_path = 'OpenAPS/'+folder+'/direct-sharing-31'\n",
    "    if os.path.exists(record_path):\n",
    "        files = os.listdir(record_path)\n",
    "        df_folder = pd.DataFrame([], columns=['pid', 'datetime', 'sgv'])\n",
    "        for file in files:\n",
    "            if file.find('entries') > -1 and file.endswith('.json'):\n",
    "                try:\n",
    "                    df = transfer_dataframe(folder, record_path+'/'+file)\n",
    "                except :\n",
    "                    print(folder, file, 'cannot be transfered to datetime, pass' )\n",
    "                    continue\n",
    "                  \n",
    "                df_folder = df_folder.append(df)\n",
    "        print('before drop', len(df_folder))\n",
    "        df_folder.drop_duplicates('datetime',inplace = True)\n",
    "        print('after drop', len(df_folder))\n",
    "        print('saving result...')\n",
    "        pickle.dump(df_folder, open(os.getcwd()+'/OpenAPS/entry_dfs/'+folder+'_entries.pkl', 'wb'))\n",
    "        print('done for', folder)\n",
    "\n",
    "        "
   ]
  },
  {
   "cell_type": "code",
   "execution_count": 64,
   "metadata": {},
   "outputs": [
    {
     "data": {
      "text/plain": [
       "Timestamp('2017-10-08 23:58:22.681000+0000', tz='UTC')"
      ]
     },
     "execution_count": 64,
     "metadata": {},
     "output_type": "execute_result"
    }
   ],
   "source": [
    "pd.to_datetime('2017-10-08T19:58:22.681-0400', utc=True)"
   ]
  },
  {
   "cell_type": "code",
   "execution_count": 5,
   "metadata": {},
   "outputs": [
    {
     "data": {
      "text/plain": [
       "110"
      ]
     },
     "execution_count": 5,
     "metadata": {},
     "output_type": "execute_result"
    }
   ],
   "source": [
    "len(os.listdir(os.getcwd()+'/OpenAPS/entry_dfs'))\n",
    "    "
   ]
  },
  {
   "cell_type": "code",
   "execution_count": null,
   "metadata": {},
   "outputs": [],
   "source": [
    "path = os.getcwd()+'/OpenAPS/entry_dfs'\n",
    "for file in os.listdir(path):\n",
    "    df = pickle.load(open(path+'/'+file, 'rb'))\n",
    "    print(df.head())"
   ]
  },
  {
   "cell_type": "markdown",
   "metadata": {},
   "source": [
    "## Data preprocessing -2\n",
    "Find time intervals in same length(save results in pickles)"
   ]
  },
  {
   "cell_type": "code",
   "execution_count": null,
   "metadata": {},
   "outputs": [],
   "source": [
    "count = 0\n",
    "start_date = '2017-03-01'\n",
    "end_date = '2017-03-11'\n",
    "path = '/Users/wang/data/OpenAPS/entry_dfs_sliced'\n",
    "for file in os.listdir(path):\n",
    "    df = pickle.load(open(path+'/'+file, 'rb'))\n",
    "#     mask = (df['datetime'] > '2017-03-01') & (df['datetime'] < '2017-03-11')\n",
    "    df.set_index('datetime',inplace = True)\n",
    "#     df.index = df.tz_convert('America/Los_Angeles')\n",
    "    df = df.tz_convert(None)\n",
    "\n",
    "    df_selected = df[start_date:end_date]\n",
    "    if len(df_selected)>0:\n",
    "        print(df_selected.index[:2])\n",
    "        print(df_selected['pid'].values[0])\n",
    "        pickle.dump(df_selected, open(os.getcwd()+'/OpenAPS/entry_dfs_sliced/'+df_selected['pid'].values[0]+'.pkl', 'wb'))\n",
    "        count += 1\n",
    "print('Instances found:', count)        "
   ]
  },
  {
   "cell_type": "code",
   "execution_count": 68,
   "metadata": {},
   "outputs": [],
   "source": []
  },
  {
   "cell_type": "markdown",
   "metadata": {},
   "source": [
    "## Compute distance with Dynamic Time Wrappinng"
   ]
  },
  {
   "cell_type": "code",
   "execution_count": 51,
   "metadata": {},
   "outputs": [],
   "source": [
    "import math\n",
    "def DTWDistance(s1, s2,w):\n",
    "    DTW={}\n",
    "    \n",
    "    w = max(w, abs(len(s1)-len(s2)))\n",
    "    \n",
    "    for i in range(-1,len(s1)):\n",
    "        for j in range(-1,len(s2)):\n",
    "            DTW[(i, j)] = float('inf')\n",
    "    DTW[(-1, -1)] = 0\n",
    "  \n",
    "    for i in range(len(s1)):\n",
    "        for j in range(max(0, i-w), min(len(s2), i+w)):\n",
    "            dist= (s1[i]-s2[j])**2\n",
    "            DTW[(i, j)] = dist + min(DTW[(i-1, j)],DTW[(i, j-1)], DTW[(i-1, j-1)])\n",
    "            \n",
    "    return math.sqrt(DTW[len(s1)-1, len(s2)-1])"
   ]
  },
  {
   "cell_type": "code",
   "execution_count": 136,
   "metadata": {},
   "outputs": [],
   "source": [
    "def LB_Keogh(s1,s2,r):\n",
    "    LB_sum=0\n",
    "    for ind,i in enumerate(s1):\n",
    "        \n",
    "        lower_bound=min(s2[(ind-r if ind-r>=0 else 0):(ind+r)])\n",
    "        upper_bound=max(s2[(ind-r if ind-r>=0 else 0):(ind+r)])\n",
    "#         print('i', i)\n",
    "#         print('upper_bound', upper_bound)\n",
    "        if i>upper_bound:\n",
    "            LB_sum=LB_sum+(i-upper_bound)**2\n",
    "        elif i<lower_bound:\n",
    "            LB_sum=LB_sum+(i-lower_bound)**2\n",
    "    \n",
    "    return math.sqrt(LB_sum)"
   ]
  },
  {
   "cell_type": "code",
   "execution_count": null,
   "metadata": {},
   "outputs": [],
   "source": [
    "path2 = '/Users/wang/data/OpenAPS/entry_dfs_sliced/'\n",
    "\n",
    "files = os.listdir(path2)\n",
    "\n",
    "df1 = pickle.load(open(path2+'/'+files[0], 'rb'))\n",
    "df2 = pickle.load(open(path2+'/'+files[1], 'rb'))"
   ]
  },
  {
   "cell_type": "code",
   "execution_count": 70,
   "metadata": {},
   "outputs": [
    {
     "data": {
      "text/plain": [
       "152"
      ]
     },
     "execution_count": 70,
     "metadata": {},
     "output_type": "execute_result"
    }
   ],
   "source": [
    "len(df1['sgv'].unique())"
   ]
  },
  {
   "cell_type": "code",
   "execution_count": 67,
   "metadata": {},
   "outputs": [
    {
     "data": {
      "text/plain": [
       "365.276607518193"
      ]
     },
     "execution_count": 67,
     "metadata": {},
     "output_type": "execute_result"
    }
   ],
   "source": [
    "DTWDistance(df1['sgv'].values[:288], df2['sgv'].values[:288], 96)"
   ]
  },
  {
   "cell_type": "code",
   "execution_count": 71,
   "metadata": {},
   "outputs": [
    {
     "data": {
      "text/plain": [
       "91.03296106356203"
      ]
     },
     "execution_count": 71,
     "metadata": {},
     "output_type": "execute_result"
    }
   ],
   "source": [
    "LB_Keogh(df1['sgv'].values[:288], df2['sgv'].values[:288], 96)"
   ]
  },
  {
   "cell_type": "markdown",
   "metadata": {},
   "source": [
    "## Clustering with KNN"
   ]
  },
  {
   "cell_type": "code",
   "execution_count": 82,
   "metadata": {},
   "outputs": [],
   "source": [
    "## load raw data\n",
    "def load_data(path):\n",
    "    rst = {}\n",
    "    for file in os.listdir(path):\n",
    "        df = pickle.load(open(path+'/'+file, 'rb'))\n",
    "#         df.set_index('datetime',inplace = True)\n",
    "#         df = df.tz_convert(None)\n",
    "        df.dropna(inplace=True)\n",
    "        if len(df)==0:\n",
    "            continue\n",
    "        pid =np.asscalar(df['pid'].values[:1])\n",
    "    #     print('pid', pid)\n",
    "        bgs = df.sgv.values[:288]\n",
    "    #     print('len of bgs', len(bgs))\n",
    "        if len(bgs)>0:\n",
    "            rst[int(pid)] = bgs\n",
    "        return rst\n"
   ]
  },
  {
   "cell_type": "code",
   "execution_count": 146,
   "metadata": {},
   "outputs": [],
   "source": [
    "import random\n",
    "\n",
    "def k_means_clust(bg_dicts,num_clust,num_iter,w=5):\n",
    "    keys = list(bg_dicts.keys())\n",
    "    # for the final result backtracking\n",
    "    search_dict = {}\n",
    "    for i in range(len(keys)):\n",
    "        search_dict[i] = keys[i]\n",
    "    data = list(bg_dicts.values())\n",
    "    data = [[int(l) for l in r] for r in data]\n",
    "    centroids = random.sample(data, num_clust)\n",
    "       \n",
    "    counter=0\n",
    "    for n in range(num_iter):\n",
    "        counter+=1\n",
    "        print(counter)\n",
    "        assignments={}\n",
    "        #assign data points to clusters\n",
    "        for ind,i in enumerate(data):\n",
    "            min_dist=float('inf')\n",
    "            closest_clust=None\n",
    "            for c_ind,j in enumerate(centroids):\n",
    "                lb = LB_Keogh(i,j,5)\n",
    "                if lb<min_dist:\n",
    "                    cur_dist=DTWDistance(i,j,w)\n",
    "                    if cur_dist<min_dist:\n",
    "                        min_dist=cur_dist\n",
    "                        closest_clust=c_ind            \n",
    "            assignments.setdefault(closest_clust,[])\n",
    "            assignments[closest_clust].append(ind)\n",
    "    \n",
    "        #recalculate centroids of clusters\n",
    "        for key in assignments:\n",
    "            clust_sum=np.zeros(len(data[0]))\n",
    "            for k in assignments[key]:\n",
    "                clust_sum=clust_sum+data[k]\n",
    "                \n",
    "            centroids[key]=[m/len(assignments[key]) for m in clust_sum]\n",
    "    \n",
    "    return centroids,assignments"
   ]
  },
  {
   "cell_type": "code",
   "execution_count": null,
   "metadata": {},
   "outputs": [],
   "source": [
    "centroids, assignnments = k_means_clust(rst, 4, 10)"
   ]
  },
  {
   "cell_type": "code",
   "execution_count": 148,
   "metadata": {},
   "outputs": [
    {
     "name": "stdout",
     "output_type": "stream",
     "text": [
      "{3: [0, 5, 10, 14, 15, 16, 17, 19, 21, 25, 26, 29, 33, 36, 45, 48, 49, 53, 56, 57, 60, 62, 67, 68, 75, 76, 77], 0: [1, 18, 20, 30, 32, 35, 37, 39, 47, 50, 52, 58, 64, 65], 1: [2, 3, 6, 8, 11, 12, 23, 24, 27, 28, 31, 34, 38, 40, 41, 42, 43, 61, 66, 70, 71, 72, 78], 2: [4, 7, 9, 13, 22, 44, 46, 51, 54, 55, 59, 63, 69, 73, 74]}\n"
     ]
    }
   ],
   "source": [
    "print(assignnments)"
   ]
  },
  {
   "cell_type": "code",
   "execution_count": 154,
   "metadata": {},
   "outputs": [
    {
     "name": "stdout",
     "output_type": "stream",
     "text": [
      "57176789 [27700103, 84984656, 89710417, 897741, 28768536, 1884126, 1352464, 80373992, 89727223, 13029224, 66836068, 13484299, 32407882, 17161370, 7886752, 46966807, 98974339, 74077367, 14092221, 99296581, 62401782, 24587372, 45025419, 37948668, 39986716, 87770486, 88004055]\n",
      "27700103 [96254963, 3572116, 67208817, 97417885, 67359234, 5274556, 47750728, 96484928, 60844515, 37764532, 85199788, 96805916, 21946407, 71397255]\n",
      "96254963 [73521474, 57176789, 71236754, 49796612, 28176124, 40237051, 80501215, 24448124, 66019205, 95851255, 20216809, 84081904, 78420229, 77104076, 94875538, 41663654, 13783771, 95614431, 72492570, 99848889, 91161972, 38110191, 64024750]\n",
      "73521474 [51336122, 43104037, 20396154, 79526193, 99908129, 37875431, 84589080, 43589707, 4762925, 34148224, 40997757, 84109428, 25692073, 15634563, 80796147]\n"
     ]
    }
   ],
   "source": [
    "keys = list(rst.keys())\n",
    "clusters = {}\n",
    "for k,v in assignnments.items():\n",
    "    clusters[keys[k]] = [keys[i] for i in v]\n",
    "\n",
    "for k,v in clusters.items():\n",
    "    print(k,v)"
   ]
  },
  {
   "cell_type": "markdown",
   "metadata": {},
   "source": [
    "## Hierachy Clustering"
   ]
  },
  {
   "cell_type": "code",
   "execution_count": null,
   "metadata": {},
   "outputs": [],
   "source": [
    "from matplotlib import pyplot as plt\n",
    "from scipy.cluster.hierarchy import dendrogram, linkage\n",
    "import numpy as np\n",
    "%matplotlib inline\n",
    "np.set_printoptions(precision=5, suppress=True)  # suppress scientific float notation"
   ]
  },
  {
   "cell_type": "code",
   "execution_count": 131,
   "metadata": {},
   "outputs": [
    {
     "name": "stdout",
     "output_type": "stream",
     "text": [
      "(31, 144)\n",
      "[94.0 100.0 109.0 118.0 122.0 123.0 127.0 136.0 139.0 158.0 170.0 178.0\n",
      " 182.0 189.0 186.0 188.0 188.0 185.0 172.0 166.0 159.0 152.0 147.0 141.0\n",
      " 136.0 131.0 123.0 116.0 109.0 100.0 82.0 77.0 74.0 73.0 74.0 78.0 82.0\n",
      " 83.0 86.0 91.0 94.0 97.0 101.0 104.0 106.0 109.0 109.0 107.0 106.0 106.0\n",
      " 107.0 106.0 105.0 106.0 110.0 112.0 110.0 109.0 107.0 105.0 103.0 102.0\n",
      " 102.0 102.0 100.0 96.0 87.0 76.0 66.0 59.0 55.0 56.0 52.0 48.0 46.0 45.0\n",
      " 47.0 51.0 57.0 65.0 71.0 76.0 81.0 86.0 91.0 97.0 104.0 111.0 114.0 113.0\n",
      " 113.0 114.0 116.0 121.0 128.0 130.0 128.0 125.0 127.0 126.0 121.0 116.0\n",
      " 114.0 108.0 103.0 102.0 105.0 107.0 104.0 100.0 97.0 96.0 95.0 90.0 81.0\n",
      " 76.0 71.0 66.0 58.0 53.0 53.0 51.0 47.0 45.0 45.0 45.0 45.0 47.0 49.0\n",
      " 52.0 60.0 67.0 68.0 68.0 68.0 67.0 72.0 77.0 86.0 91.0 95.0 100.0 105.0\n",
      " 117.0]\n"
     ]
    }
   ],
   "source": [
    "# Preparing data\n",
    "path = '/Users/wang/data/OpenAPS/entry_dfs_sliced'\n",
    "window = 144\n",
    "normal_data = np.zeros(144)\n",
    "for file in os.listdir(path):\n",
    "    df = pickle.load(open(path+'/'+file, 'rb'))\n",
    "    pid =np.asscalar(df['pid'].values[:1])\n",
    "    df.dropna(inplace=True)\n",
    "    sgv_row = df['sgv'].values[:window]\n",
    "#     normal_data = normal_data.append(sgv_row)\n",
    "#     print(normal_data.shape)\n",
    "#     print(df['sgv'].values[:window].shape)\n",
    "    normal_data = np.concatenate([normal_data, sgv_row])\n",
    "\n",
    "\n",
    "normal_data = normal_data.reshape((32,144))\n",
    "normal_data = normal_data[1:]   \n",
    "print(normal_data.shape)    \n",
    "print(normal_data[0])\n"
   ]
  },
  {
   "cell_type": "code",
   "execution_count": 132,
   "metadata": {},
   "outputs": [],
   "source": [
    "Z = linkage(normal_data, 'ward')"
   ]
  },
  {
   "cell_type": "code",
   "execution_count": 133,
   "metadata": {},
   "outputs": [
    {
     "data": {
      "text/plain": [
       "array([[ 13.     ,  15.     , 157.42935,   2.     ],\n",
       "       [ 17.     ,  19.     , 193.50969,   2.     ],\n",
       "       [ 31.     ,  32.     , 228.18194,   4.     ],\n",
       "       [  3.     ,  30.     , 270.14441,   2.     ],\n",
       "       [ 10.     ,  11.     , 311.52207,   2.     ],\n",
       "       [ 33.     ,  34.     , 325.97904,   6.     ],\n",
       "       [  8.     ,  27.     , 349.72847,   2.     ],\n",
       "       [ 21.     ,  35.     , 387.72069,   3.     ],\n",
       "       [ 14.     ,  25.     , 399.9825 ,   2.     ],\n",
       "       [  0.     ,  37.     , 417.45818,   3.     ]])"
      ]
     },
     "execution_count": 133,
     "metadata": {},
     "output_type": "execute_result"
    }
   ],
   "source": [
    "Z[:10]"
   ]
  },
  {
   "cell_type": "code",
   "execution_count": 134,
   "metadata": {},
   "outputs": [
    {
     "data": {
      "image/png": "[encoded data removed]",
      "text/plain": [
       "<Figure size 1800x720 with 1 Axes>"
      ]
     },
     "metadata": {
      "needs_background": "light"
     },
     "output_type": "display_data"
    }
   ],
   "source": [
    "plt.figure(figsize=(25, 10))\n",
    "plt.title('Hierarchical Clustering Dendrogram')\n",
    "plt.xlabel('sample index')\n",
    "plt.ylabel('distance')\n",
    "dendrogram(\n",
    "    Z,\n",
    "    leaf_rotation=90.,  # rotates the x axis labels\n",
    "    leaf_font_size=8.,  # font size for the x axis labels\n",
    ")\n",
    "plt.show()"
   ]
  },
  {
   "cell_type": "markdown",
   "metadata": {},
   "source": [
    "## Demographic Infos"
   ]
  },
  {
   "cell_type": "code",
   "execution_count": 37,
   "metadata": {},
   "outputs": [],
   "source": [
    "#\n",
    "csv_path = '/Users/wang/data/OpenAPS/aps_demo.csv'\n",
    "\n",
    "pd_demos = pd.read_csv(csv_path)"
   ]
  },
  {
   "cell_type": "code",
   "execution_count": 38,
   "metadata": {},
   "outputs": [
    {
     "data": {
      "text/plain": [
       "Index(['time_stamp', 'pid', 'diag_date', 'insulin_pump_start_date',\n",
       "       'cgm_start_date', 'loop_start_date', 'date_born', 'country', 'weight',\n",
       "       'height', 'insulin_units_per_day', 'basal_insulin_per_day',\n",
       "       'carb_grams_per_day', 'a1c', 'a1c_date', 'ethnic', 'gender'],\n",
       "      dtype='object')"
      ]
     },
     "execution_count": 38,
     "metadata": {},
     "output_type": "execute_result"
    }
   ],
   "source": [
    "pd_demos.columns"
   ]
  },
  {
   "cell_type": "code",
   "execution_count": 39,
   "metadata": {},
   "outputs": [],
   "source": [
    "pd_demos['time_stamp'] = pd.to_datetime(pd_demos.time_stamp)\n",
    "pd_demos['date_born'] = pd.to_datetime(pd_demos.date_born)\n",
    "pd_demos['age'] =  (pd_demos['time_stamp']  - pd_demos['date_born'])/ np.timedelta64(1, 'Y')"
   ]
  },
  {
   "cell_type": "code",
   "execution_count": 40,
   "metadata": {},
   "outputs": [],
   "source": [
    "pd_demos['age'] = pd_demos['age'].apply(np.round)"
   ]
  },
  {
   "cell_type": "code",
   "execution_count": 52,
   "metadata": {},
   "outputs": [
    {
     "data": {
      "text/plain": [
       "<matplotlib.axes._subplots.AxesSubplot at 0x10eb765f8>"
      ]
     },
     "execution_count": 52,
     "metadata": {},
     "output_type": "execute_result"
    },
    {
     "data": {
      "image/png": "[encoded data removed]",
      "text/plain": [
       "<Figure size 432x288 with 1 Axes>"
      ]
     },
     "metadata": {
      "needs_background": "light"
     },
     "output_type": "display_data"
    }
   ],
   "source": [
    "pd_demos['age'].plot.hist()"
   ]
  },
  {
   "cell_type": "code",
   "execution_count": 53,
   "metadata": {},
   "outputs": [
    {
     "data": {
      "text/plain": [
       "<matplotlib.axes._subplots.AxesSubplot at 0x10eba5c88>"
      ]
     },
     "execution_count": 53,
     "metadata": {},
     "output_type": "execute_result"
    },
    {
     "data": {
      "image/png": "[encoded data removed]",
      "text/plain": [
       "<Figure size 432x288 with 1 Axes>"
      ]
     },
     "metadata": {
      "needs_background": "light"
     },
     "output_type": "display_data"
    }
   ],
   "source": [
    "pd_demos['weight'].plot.hist()"
   ]
  },
  {
   "cell_type": "code",
   "execution_count": 54,
   "metadata": {},
   "outputs": [
    {
     "data": {
      "text/plain": [
       "<matplotlib.axes._subplots.AxesSubplot at 0x10ece8b00>"
      ]
     },
     "execution_count": 54,
     "metadata": {},
     "output_type": "execute_result"
    },
    {
     "data": {
      "image/png": "[encoded data removed]",
      "text/plain": [
       "<Figure size 432x288 with 1 Axes>"
      ]
     },
     "metadata": {
      "needs_background": "light"
     },
     "output_type": "display_data"
    }
   ],
   "source": [
    "pd_demos['height'].plot.hist()"
   ]
  },
  {
   "cell_type": "code",
   "execution_count": 55,
   "metadata": {},
   "outputs": [
    {
     "data": {
      "text/plain": [
       "<matplotlib.axes._subplots.AxesSubplot at 0x10edb58d0>"
      ]
     },
     "execution_count": 55,
     "metadata": {},
     "output_type": "execute_result"
    },
    {
     "data": {
      "image/png": "[encoded data removed]",
      "text/plain": [
       "<Figure size 432x288 with 1 Axes>"
      ]
     },
     "metadata": {
      "needs_background": "light"
     },
     "output_type": "display_data"
    }
   ],
   "source": [
    "pd_demos['insulin_units_per_day'].plot.hist()"
   ]
  },
  {
   "cell_type": "code",
   "execution_count": 56,
   "metadata": {},
   "outputs": [
    {
     "data": {
      "text/plain": [
       "<matplotlib.axes._subplots.AxesSubplot at 0x10ee862e8>"
      ]
     },
     "execution_count": 56,
     "metadata": {},
     "output_type": "execute_result"
    },
    {
     "data": {
      "image/png": "[encoded data removed]",
      "text/plain": [
       "<Figure size 432x288 with 1 Axes>"
      ]
     },
     "metadata": {
      "needs_background": "light"
     },
     "output_type": "display_data"
    }
   ],
   "source": [
    "pd_demos['carb_grams_per_day'].plot.hist()"
   ]
  },
  {
   "cell_type": "code",
   "execution_count": 90,
   "metadata": {},
   "outputs": [
    {
     "data": {
      "text/html": [
       "<div>\n",
       "<style scoped>\n",
       "    .dataframe tbody tr th:only-of-type {\n",
       "        vertical-align: middle;\n",
       "    }\n",
       "\n",
       "    .dataframe tbody tr th {\n",
       "        vertical-align: top;\n",
       "    }\n",
       "\n",
       "    .dataframe thead th {\n",
       "        text-align: right;\n",
       "    }\n",
       "</style>\n",
       "<table border=\"1\" class=\"dataframe\">\n",
       "  <thead>\n",
       "    <tr style=\"text-align: right;\">\n",
       "      <th></th>\n",
       "      <th>pid</th>\n",
       "      <th>age</th>\n",
       "    </tr>\n",
       "  </thead>\n",
       "  <tbody>\n",
       "    <tr>\n",
       "      <th>83</th>\n",
       "      <td>221634</td>\n",
       "      <td>44.0</td>\n",
       "    </tr>\n",
       "    <tr>\n",
       "      <th>7</th>\n",
       "      <td>897741</td>\n",
       "      <td>36.0</td>\n",
       "    </tr>\n",
       "    <tr>\n",
       "      <th>6</th>\n",
       "      <td>1352464</td>\n",
       "      <td>35.0</td>\n",
       "    </tr>\n",
       "    <tr>\n",
       "      <th>47</th>\n",
       "      <td>1884126</td>\n",
       "      <td>10.0</td>\n",
       "    </tr>\n",
       "    <tr>\n",
       "      <th>81</th>\n",
       "      <td>3572116</td>\n",
       "      <td>51.0</td>\n",
       "    </tr>\n",
       "    <tr>\n",
       "      <th>68</th>\n",
       "      <td>4762925</td>\n",
       "      <td>39.0</td>\n",
       "    </tr>\n",
       "    <tr>\n",
       "      <th>38</th>\n",
       "      <td>7886752</td>\n",
       "      <td>68.0</td>\n",
       "    </tr>\n",
       "    <tr>\n",
       "      <th>84</th>\n",
       "      <td>12689381</td>\n",
       "      <td>46.0</td>\n",
       "    </tr>\n",
       "    <tr>\n",
       "      <th>50</th>\n",
       "      <td>13029224</td>\n",
       "      <td>37.0</td>\n",
       "    </tr>\n",
       "    <tr>\n",
       "      <th>56</th>\n",
       "      <td>13484299</td>\n",
       "      <td>27.0</td>\n",
       "    </tr>\n",
       "    <tr>\n",
       "      <th>17</th>\n",
       "      <td>13783771</td>\n",
       "      <td>36.0</td>\n",
       "    </tr>\n",
       "    <tr>\n",
       "      <th>3</th>\n",
       "      <td>14092221</td>\n",
       "      <td>11.0</td>\n",
       "    </tr>\n",
       "    <tr>\n",
       "      <th>74</th>\n",
       "      <td>15558575</td>\n",
       "      <td>33.0</td>\n",
       "    </tr>\n",
       "    <tr>\n",
       "      <th>4</th>\n",
       "      <td>15634563</td>\n",
       "      <td>42.0</td>\n",
       "    </tr>\n",
       "    <tr>\n",
       "      <th>48</th>\n",
       "      <td>17161370</td>\n",
       "      <td>42.0</td>\n",
       "    </tr>\n",
       "    <tr>\n",
       "      <th>53</th>\n",
       "      <td>20396154</td>\n",
       "      <td>12.0</td>\n",
       "    </tr>\n",
       "    <tr>\n",
       "      <th>43</th>\n",
       "      <td>21946407</td>\n",
       "      <td>25.0</td>\n",
       "    </tr>\n",
       "    <tr>\n",
       "      <th>23</th>\n",
       "      <td>22961398</td>\n",
       "      <td>39.0</td>\n",
       "    </tr>\n",
       "    <tr>\n",
       "      <th>69</th>\n",
       "      <td>24448124</td>\n",
       "      <td>23.0</td>\n",
       "    </tr>\n",
       "    <tr>\n",
       "      <th>2</th>\n",
       "      <td>24587372</td>\n",
       "      <td>21.0</td>\n",
       "    </tr>\n",
       "    <tr>\n",
       "      <th>35</th>\n",
       "      <td>25692073</td>\n",
       "      <td>34.0</td>\n",
       "    </tr>\n",
       "    <tr>\n",
       "      <th>59</th>\n",
       "      <td>27700103</td>\n",
       "      <td>38.0</td>\n",
       "    </tr>\n",
       "    <tr>\n",
       "      <th>70</th>\n",
       "      <td>28176124</td>\n",
       "      <td>60.0</td>\n",
       "    </tr>\n",
       "    <tr>\n",
       "      <th>49</th>\n",
       "      <td>28768536</td>\n",
       "      <td>62.0</td>\n",
       "    </tr>\n",
       "    <tr>\n",
       "      <th>101</th>\n",
       "      <td>31200221</td>\n",
       "      <td>31.0</td>\n",
       "    </tr>\n",
       "    <tr>\n",
       "      <th>58</th>\n",
       "      <td>32407882</td>\n",
       "      <td>48.0</td>\n",
       "    </tr>\n",
       "    <tr>\n",
       "      <th>20</th>\n",
       "      <td>32635618</td>\n",
       "      <td>31.0</td>\n",
       "    </tr>\n",
       "    <tr>\n",
       "      <th>95</th>\n",
       "      <td>32997134</td>\n",
       "      <td>33.0</td>\n",
       "    </tr>\n",
       "    <tr>\n",
       "      <th>98</th>\n",
       "      <td>33962890</td>\n",
       "      <td>59.0</td>\n",
       "    </tr>\n",
       "    <tr>\n",
       "      <th>102</th>\n",
       "      <td>35533061</td>\n",
       "      <td>0.0</td>\n",
       "    </tr>\n",
       "    <tr>\n",
       "      <th>...</th>\n",
       "      <td>...</td>\n",
       "      <td>...</td>\n",
       "    </tr>\n",
       "    <tr>\n",
       "      <th>85</th>\n",
       "      <td>80625186</td>\n",
       "      <td>54.0</td>\n",
       "    </tr>\n",
       "    <tr>\n",
       "      <th>64</th>\n",
       "      <td>80796147</td>\n",
       "      <td>48.0</td>\n",
       "    </tr>\n",
       "    <tr>\n",
       "      <th>25</th>\n",
       "      <td>84081904</td>\n",
       "      <td>53.0</td>\n",
       "    </tr>\n",
       "    <tr>\n",
       "      <th>79</th>\n",
       "      <td>84109428</td>\n",
       "      <td>25.0</td>\n",
       "    </tr>\n",
       "    <tr>\n",
       "      <th>32</th>\n",
       "      <td>84589080</td>\n",
       "      <td>35.0</td>\n",
       "    </tr>\n",
       "    <tr>\n",
       "      <th>0</th>\n",
       "      <td>84984656</td>\n",
       "      <td>14.0</td>\n",
       "    </tr>\n",
       "    <tr>\n",
       "      <th>60</th>\n",
       "      <td>85199788</td>\n",
       "      <td>NaN</td>\n",
       "    </tr>\n",
       "    <tr>\n",
       "      <th>39</th>\n",
       "      <td>85653830</td>\n",
       "      <td>1.0</td>\n",
       "    </tr>\n",
       "    <tr>\n",
       "      <th>34</th>\n",
       "      <td>86025410</td>\n",
       "      <td>8.0</td>\n",
       "    </tr>\n",
       "    <tr>\n",
       "      <th>103</th>\n",
       "      <td>86286077</td>\n",
       "      <td>32.0</td>\n",
       "    </tr>\n",
       "    <tr>\n",
       "      <th>73</th>\n",
       "      <td>86323903</td>\n",
       "      <td>35.0</td>\n",
       "    </tr>\n",
       "    <tr>\n",
       "      <th>26</th>\n",
       "      <td>87770486</td>\n",
       "      <td>33.0</td>\n",
       "    </tr>\n",
       "    <tr>\n",
       "      <th>21</th>\n",
       "      <td>88004055</td>\n",
       "      <td>65.0</td>\n",
       "    </tr>\n",
       "    <tr>\n",
       "      <th>97</th>\n",
       "      <td>89032650</td>\n",
       "      <td>55.0</td>\n",
       "    </tr>\n",
       "    <tr>\n",
       "      <th>45</th>\n",
       "      <td>89710417</td>\n",
       "      <td>29.0</td>\n",
       "    </tr>\n",
       "    <tr>\n",
       "      <th>14</th>\n",
       "      <td>89727223</td>\n",
       "      <td>43.0</td>\n",
       "    </tr>\n",
       "    <tr>\n",
       "      <th>62</th>\n",
       "      <td>91161972</td>\n",
       "      <td>50.0</td>\n",
       "    </tr>\n",
       "    <tr>\n",
       "      <th>33</th>\n",
       "      <td>92204064</td>\n",
       "      <td>31.0</td>\n",
       "    </tr>\n",
       "    <tr>\n",
       "      <th>86</th>\n",
       "      <td>93937579</td>\n",
       "      <td>57.0</td>\n",
       "    </tr>\n",
       "    <tr>\n",
       "      <th>87</th>\n",
       "      <td>94200862</td>\n",
       "      <td>40.0</td>\n",
       "    </tr>\n",
       "    <tr>\n",
       "      <th>61</th>\n",
       "      <td>95614431</td>\n",
       "      <td>39.0</td>\n",
       "    </tr>\n",
       "    <tr>\n",
       "      <th>57</th>\n",
       "      <td>95851255</td>\n",
       "      <td>28.0</td>\n",
       "    </tr>\n",
       "    <tr>\n",
       "      <th>71</th>\n",
       "      <td>96254963</td>\n",
       "      <td>43.0</td>\n",
       "    </tr>\n",
       "    <tr>\n",
       "      <th>13</th>\n",
       "      <td>96484928</td>\n",
       "      <td>30.0</td>\n",
       "    </tr>\n",
       "    <tr>\n",
       "      <th>31</th>\n",
       "      <td>96805916</td>\n",
       "      <td>8.0</td>\n",
       "    </tr>\n",
       "    <tr>\n",
       "      <th>46</th>\n",
       "      <td>97417885</td>\n",
       "      <td>30.0</td>\n",
       "    </tr>\n",
       "    <tr>\n",
       "      <th>16</th>\n",
       "      <td>98974339</td>\n",
       "      <td>51.0</td>\n",
       "    </tr>\n",
       "    <tr>\n",
       "      <th>15</th>\n",
       "      <td>99296581</td>\n",
       "      <td>29.0</td>\n",
       "    </tr>\n",
       "    <tr>\n",
       "      <th>41</th>\n",
       "      <td>99848889</td>\n",
       "      <td>55.0</td>\n",
       "    </tr>\n",
       "    <tr>\n",
       "      <th>37</th>\n",
       "      <td>99908129</td>\n",
       "      <td>45.0</td>\n",
       "    </tr>\n",
       "  </tbody>\n",
       "</table>\n",
       "<p>105 rows × 2 columns</p>\n",
       "</div>"
      ],
      "text/plain": [
       "          pid   age\n",
       "83     221634  44.0\n",
       "7      897741  36.0\n",
       "6     1352464  35.0\n",
       "47    1884126  10.0\n",
       "81    3572116  51.0\n",
       "68    4762925  39.0\n",
       "38    7886752  68.0\n",
       "84   12689381  46.0\n",
       "50   13029224  37.0\n",
       "56   13484299  27.0\n",
       "17   13783771  36.0\n",
       "3    14092221  11.0\n",
       "74   15558575  33.0\n",
       "4    15634563  42.0\n",
       "48   17161370  42.0\n",
       "53   20396154  12.0\n",
       "43   21946407  25.0\n",
       "23   22961398  39.0\n",
       "69   24448124  23.0\n",
       "2    24587372  21.0\n",
       "35   25692073  34.0\n",
       "59   27700103  38.0\n",
       "70   28176124  60.0\n",
       "49   28768536  62.0\n",
       "101  31200221  31.0\n",
       "58   32407882  48.0\n",
       "20   32635618  31.0\n",
       "95   32997134  33.0\n",
       "98   33962890  59.0\n",
       "102  35533061   0.0\n",
       "..        ...   ...\n",
       "85   80625186  54.0\n",
       "64   80796147  48.0\n",
       "25   84081904  53.0\n",
       "79   84109428  25.0\n",
       "32   84589080  35.0\n",
       "0    84984656  14.0\n",
       "60   85199788   NaN\n",
       "39   85653830   1.0\n",
       "34   86025410   8.0\n",
       "103  86286077  32.0\n",
       "73   86323903  35.0\n",
       "26   87770486  33.0\n",
       "21   88004055  65.0\n",
       "97   89032650  55.0\n",
       "45   89710417  29.0\n",
       "14   89727223  43.0\n",
       "62   91161972  50.0\n",
       "33   92204064  31.0\n",
       "86   93937579  57.0\n",
       "87   94200862  40.0\n",
       "61   95614431  39.0\n",
       "57   95851255  28.0\n",
       "71   96254963  43.0\n",
       "13   96484928  30.0\n",
       "31   96805916   8.0\n",
       "46   97417885  30.0\n",
       "16   98974339  51.0\n",
       "15   99296581  29.0\n",
       "41   99848889  55.0\n",
       "37   99908129  45.0\n",
       "\n",
       "[105 rows x 2 columns]"
      ]
     },
     "execution_count": 90,
     "metadata": {},
     "output_type": "execute_result"
    }
   ],
   "source": [
    "pd_demos[['pid','age']].sort_values(by = 'pid')"
   ]
  },
  {
   "cell_type": "code",
   "execution_count": null,
   "metadata": {},
   "outputs": [],
   "source": [
    "group1 = [27700103, 84984656, 89710417, 897741, 28768536, 1884126, 1352464, 80373992, 89727223, 13029224, 66836068, 13484299, 32407882, 17161370, 7886752, 46966807, 98974339, 74077367, 14092221, 99296581, 62401782, 24587372, 45025419, 37948668, 39986716, 87770486, 88004055]\n",
    "\n",
    "for pid in group1:\n",
    "    print(pd_demos[pd_demos.pid == pid].age)"
   ]
  },
  {
   "cell_type": "code",
   "execution_count": null,
   "metadata": {},
   "outputs": [],
   "source": [
    "pd_demos['']"
   ]
  }
 ],
 "metadata": {
  "kernelspec": {
   "display_name": "Python 3",
   "language": "python",
   "name": "python3"
  },
  "language_info": {
   "codemirror_mode": {
    "name": "ipython",
    "version": 3
   },
   "file_extension": ".py",
   "mimetype": "text/x-python",
   "name": "python",
   "nbconvert_exporter": "python",
   "pygments_lexer": "ipython3",
   "version": "3.7.2"
  }
 },
 "nbformat": 4,
 "nbformat_minor": 2
}
